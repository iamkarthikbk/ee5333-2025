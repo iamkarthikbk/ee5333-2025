{
  "nbformat": 4,
  "nbformat_minor": 0,
  "metadata": {
    "colab": {
      "provenance": [],
      "include_colab_link": true
    },
    "kernelspec": {
      "display_name": "Python 3 (ipykernel)",
      "language": "python",
      "name": "python3"
    },
    "language_info": {
      "codemirror_mode": {
        "name": "ipython",
        "version": 3
      },
      "file_extension": ".py",
      "mimetype": "text/x-python",
      "name": "python",
      "nbconvert_exporter": "python",
      "pygments_lexer": "ipython3",
      "version": "3.11.2"
    }
  },
  "cells": [
    {
      "cell_type": "markdown",
      "metadata": {
        "id": "view-in-github",
        "colab_type": "text"
      },
      "source": [
        "<a href=\"https://colab.research.google.com/github/iamkarthikbk/ee5333-2025/blob/main/mywork/tut2-31jan/Partition.ipynb\" target=\"_parent\"><img src=\"https://colab.research.google.com/assets/colab-badge.svg\" alt=\"Open In Colab\"/></a>"
      ]
    },
    {
      "cell_type": "code",
      "execution_count": 3,
      "metadata": {
        "colab": {
          "base_uri": "https://localhost:8080/"
        },
        "id": "6pfNNa4fqwMy",
        "outputId": "15aef0ef-18f2-465d-a944-1c053ef07df8"
      },
      "outputs": [
        {
          "output_type": "stream",
          "name": "stdout",
          "text": [
            "Requirement already satisfied: mip in /usr/local/lib/python3.11/dist-packages (1.15.0)\n",
            "Requirement already satisfied: cffi==1.15.* in /usr/local/lib/python3.11/dist-packages (from mip) (1.15.1)\n",
            "Requirement already satisfied: pycparser in /usr/local/lib/python3.11/dist-packages (from cffi==1.15.*->mip) (2.22)\n"
          ]
        }
      ],
      "source": [
        "!pip install mip"
      ]
    },
    {
      "cell_type": "markdown",
      "metadata": {
        "id": "RWFnDilGqp48"
      },
      "source": [
        "## Partitioning\n",
        "\n",
        "* Kernighan Lin Algorithm for bi-partitioning ($V'$) :\n",
        "  + $G=(V,E)$\n",
        "  + $A$, $B$ $\\subset V$\n",
        "  + $A \\cup B = V$\n",
        "  + $A\\cap B = ∅$\n",
        "  + $|A| = |B| = \\dfrac{|V|}{2}$\n",
        "  + Flowchart:\n",
        "\n",
        "    <img src=\"https://raw.githubusercontent.com/srini229/EE5333_tutorials/master/part/fig/KL_flowchart.jpg\" width=698 height=612 />\n"
      ]
    },
    {
      "cell_type": "code",
      "execution_count": 4,
      "metadata": {
        "id": "mRdE46JJsBI9"
      },
      "outputs": [],
      "source": [
        "# [karthik] Vertex class represents a node in the graph for Kernighan-Lin partitioning algorithm\n",
        "## Each vertex maintains information about its partition assignment and connectivity\n",
        "class Vertex:\n",
        "  def __init__(self, i, part):\n",
        "    ## Unique identifier for the vertex\n",
        "    self._id = i\n",
        "    ## List of neighboring vertices (adjacency list)\n",
        "    self._nbrs = []\n",
        "    ## Current partition assignment (0 for partition A, 1 for partition B)\n",
        "    self._part = part\n",
        "    ## Number of edges connecting to vertices in partition A (external cost to A)\n",
        "    self._ea = 0\n",
        "    ## Number of edges connecting to vertices in partition B (external cost to B)\n",
        "    self._eb = 0\n",
        "    ## D value represents the gain from moving vertex to opposite partition\n",
        "    ## For vertices in A: D = EB - EA\n",
        "    ## For vertices in B: D = EA - EB\n",
        "    self._d  = 0\n",
        "\n",
        "  ## Reset vertex properties when starting a new iteration\n",
        "  def reset(self, part):\n",
        "    ## Reset partition assignment and clear all costs/gains\n",
        "    (self._part, self._ea, self._eb, self._d) = (part, 0, 0, 0)\n",
        "\n",
        "  ## String representation for debugging and visualization\n",
        "  def __str__(self):\n",
        "    return '(' + str(self._id) + ',' + str(self._part) + ',' + str(self._ea) + ',' + str(self._eb) + ',' + str(self._d) + ',' + str([i._id for i in self._nbrs]) + ')'\n",
        "\n",
        "  ## Representation method returns the same as string method\n",
        "  def __repr__(self):\n",
        "    return str(self)\n",
        "\n",
        "# clear the partition, EA, EB and D values\n",
        "# do this at the beginning of every iteration\n",
        "## [karthik] Function to initialize/reset the partition assignments and compute costs\n",
        "## Parameters:\n",
        "##   V: List of all vertices in the graph\n",
        "##   A: Set of vertex indices in partition A\n",
        "##   B: Set of vertex indices in partition B\n",
        "def reset(V, A, B):\n",
        "  ## Phase 1: Reset partition assignments\n",
        "  ## Iterate through both partitions (j=0 for A, j=1 for B)\n",
        "  ## NOTE: Looks like this is hard-coded for 2 partitions.\n",
        "  for j in range(2):\n",
        "    partition = A if (0 == j) else B\n",
        "    ## Assign vertices to their respective partitions and clear their costs\n",
        "    for i in partition:\n",
        "      V[i].reset(j)\n",
        "\n",
        "  ## Phase 2: Compute external costs (EA and EB)\n",
        "  ## For each vertex, count number of neighbors in each partition\n",
        "  for v in V:\n",
        "    ## Verify vertex is properly assigned to either partition A(0) or B(1)\n",
        "    assert(v._part == 0 or v._part == 1)\n",
        "    ## Count neighbors in each partition\n",
        "    for n in v._nbrs:\n",
        "      if n._part == 0:\n",
        "        ## Increment EA if neighbor is in partition A\n",
        "        v._ea += 1\n",
        "      else:\n",
        "        ## Increment EB if neighbor is in partition B\n",
        "        v._eb += 1\n",
        "\n",
        "  ## Phase 3: Compute D values (gains)\n",
        "  ## D = EB-EA for vertices in A\n",
        "  ## D = EA-EB for vertices in B\n",
        "  for v in V:\n",
        "    v._d = (v._ea - v._eb) if (v._part == 1) else (v._eb - v._ea)\n",
        "\n",
        "# [karthik] Find the pair of vertices whose swap will result in maximum reduction in cut size\n",
        "## Parameters:\n",
        "##   V: List of all vertices in the graph\n",
        "##   Ap: Set of unlocked vertices in partition A that can be swapped\n",
        "##   Bp: Set of unlocked vertices in partition B that can be swapped\n",
        "##   E: Set of edges in the graph, each edge is represented as (min_vertex, max_vertex)\n",
        "def findMaxGain(V, Ap, Bp, E):\n",
        "  ## Initialize maximum gain tracking variables\n",
        "  ## amax: vertex from partition A that gives max gain\n",
        "  ## bmax: vertex from partition B that gives max gain\n",
        "  ## gmax: maximum gain value found so far\n",
        "  ## Initial gmax is set to less than minimum possible gain (-2|E|-1)\n",
        "  (amax, bmax, gmax) = (-1, -1, -2 * len(E) - 1)\n",
        "\n",
        "  ## Try all possible pairs of vertices from Ap and Bp\n",
        "  for a in Ap:\n",
        "    for b in Bp:\n",
        "      ## Calculate gain from swapping vertices a and b:\n",
        "      ## 1. Add D values of both vertices (external costs difference)\n",
        "      ## 2. Subtract 2 if vertices are connected (edge rearrangement cost)\n",
        "      ##    - If a-b edge exists, it moves from cut to uncut or vice versa\n",
        "      ##    - This changes the cut size by 2 in the opposite direction\n",
        "      g = V[a]._d + V[b]._d - (2 if (min(a,b), max(a,b)) in E else 0)\n",
        "\n",
        "      ## Update maximum gain if current gain is better\n",
        "      if gmax < g:\n",
        "        (amax, bmax, gmax) = (a, b, g)\n",
        "\n",
        "  ## Verify that we found a valid pair to swap\n",
        "  ## This should never fail unless the input sets are empty\n",
        "  assert(amax >= 0 and bmax >= 0)\n",
        "  return (amax, bmax, gmax)\n",
        "\n",
        "# update the E and D for only the affected neighbours of a and b\n",
        "def updateED(V, a, b):\n",
        "  V[a]._part = 1\n",
        "  V[b]._part = 0\n",
        "  for i in [a,b]:\n",
        "    for n in V[i]._nbrs:\n",
        "      if i == a:\n",
        "        n._ea -= 1\n",
        "        n._eb += 1\n",
        "      else:\n",
        "        n._ea += 1\n",
        "        n._eb -= 1\n",
        "      n._d = (n._ea - n._eb) if (n._part == 1) else (n._eb - n._ea)\n",
        "\n",
        "# [karthik] Implementation of Kernighan-Lin graph partitioning algorithm\n",
        "## This algorithm tries to split a graph into two equal-sized parts while minimizing\n",
        "## the number of edges that cross between the parts (cut edges)\n",
        "##\n",
        "## Parameters:\n",
        "##   N: Number of vertices in the graph (labeled from 0 to N-1)\n",
        "##   E: List of edges, where each edge is a pair of vertex numbers, unordered.\n",
        "## Returns:\n",
        "##   A: Set of vertices in partition A\n",
        "##   B: Set of vertices in partition B\n",
        "##   cut: Number of edges crossing between partitions\n",
        "def KLPart(N, E):\n",
        "  ## Handle odd number of vertices by adding a dummy vertex\n",
        "  if N%2: N+= 1 # make N even if its odd by adding a single no-neighbour vertex\n",
        "\n",
        "  ## Create vertex objects and build the graph structure\n",
        "  ## Initialize all vertices with partition = -1 (unassigned)\n",
        "  V = [Vertex(i, -1) for i in range(N)]\n",
        "\n",
        "  ## Normalize edge representation: always store edges as (smaller_vertex, larger_vertex)\n",
        "  for e in E:\n",
        "    if e[0] > e[1]: e = (e[1], e[0])\n",
        "    else: e = (e[0], e[1])\n",
        "\n",
        "  ## Convert to set for two purposes:\n",
        "  ## 1. Remove any duplicate edges from input\n",
        "  ## 2. Enable O(1) edge existence checking through hash table lookup\n",
        "  ##    - Python sets are implemented as hash tables\n",
        "  ##    - Each edge tuple is hashed to a specific bucket\n",
        "  ##    - Looking up an edge only requires computing its hash and checking that bucket\n",
        "  E = set(E)\n",
        "\n",
        "  ## Build adjacency lists: for each edge, add vertices to each other's neighbor lists\n",
        "  for e in E:\n",
        "    V[e[0]]._nbrs.append(V[e[1]])\n",
        "    V[e[1]]._nbrs.append(V[e[0]])\n",
        "\n",
        "  ## Initial random partitioning\n",
        "  import random\n",
        "  Vc = V[:]  ## Make a copy of vertex list for shuffling\n",
        "  partLen = N//2  ## Size of each partition\n",
        "  random.shuffle(Vc)  ## Randomly order vertices\n",
        "\n",
        "  ## Create initial partitions A and B with equal sizes\n",
        "  A = {Vc[i]._id for i in range(partLen)}         ## First half goes to A\n",
        "  B = {Vc[i]._id for i in range(partLen, N)}      ## Second half goes to B\n",
        "\n",
        "  print(A)  ## Debug: show initial partition A\n",
        "  print(B)  ## Debug: show initial partition B\n",
        "\n",
        "  ## Main Kernighan-Lin loop\n",
        "  maxGain = 1  ## Initialize with positive gain to enter loop\n",
        "  while maxGain >= 0:\n",
        "    ## Make copies of partitions for this iteration\n",
        "    Ap, Bp = A.copy(), B.copy()\n",
        "\n",
        "    ## Initialize vertex properties (EA, EB, D values)\n",
        "    reset(V, A, B)\n",
        "\n",
        "    ## Lists to track gains and swaps\n",
        "    G = []  ## Gains from each swap\n",
        "    S = []  ## Pairs of vertices that were swapped\n",
        "\n",
        "    ## Find and store best pairs to swap\n",
        "    for p in range(partLen):\n",
        "      ## Find best pair to swap from remaining vertices\n",
        "      (a, b, g) = findMaxGain(V, Ap, Bp, E)\n",
        "\n",
        "      ## Update vertex properties after theoretical swap\n",
        "      updateED(V, a, b)\n",
        "\n",
        "      ## Remove chosen vertices from consideration\n",
        "      Ap.remove(a)\n",
        "      Bp.remove(b)\n",
        "\n",
        "      ## Store gain and vertex pair\n",
        "      G.append(g)\n",
        "      S.append((a, b))\n",
        "\n",
        "    ## Calculate cumulative gains\n",
        "    for i in range(1, len(G)):\n",
        "      G[i] += G[i-1]\n",
        "\n",
        "    ## Find point of maximum cumulative gain\n",
        "    maxGain = max(G)\n",
        "    maxIndex = G.index(maxGain)\n",
        "\n",
        "    ## If we found a sequence of swaps that improves the cut\n",
        "    if maxGain > 0:\n",
        "      ## Actually perform the swaps up to the point of maximum gain\n",
        "      for (a, b) in S[0:maxIndex + 1]:\n",
        "        A.remove(a)\n",
        "        B.remove(b)\n",
        "        A.add(b)\n",
        "        B.add(a)\n",
        "    else:\n",
        "      break  ## No improvement possible, exit main loop\n",
        "\n",
        "  ## Count the final number of edges that cross between partitions A and B\n",
        "  ## A cut edge is one that has one endpoint in A and one in B\n",
        "  cut = 0\n",
        "  ## Check every possible pair of vertices (a,b) where:\n",
        "  ## - a is from partition A\n",
        "  ## - b is from partition B\n",
        "  for a in A:\n",
        "    for b in B:\n",
        "      ## Check if this pair of vertices forms an edge in our graph\n",
        "      ## We normalize the edge representation (smaller vertex first)\n",
        "      ## to match how edges are stored in set E\n",
        "      if (min(a, b), max(a,b)) in E:\n",
        "        cut += 1  ## Found a cut edge, increment counter\n",
        "  ## Return final partitions and the number of edges between them\n",
        "  return (A, B, cut)"
      ]
    },
    {
      "cell_type": "code",
      "execution_count": 5,
      "metadata": {
        "colab": {
          "base_uri": "https://localhost:8080/"
        },
        "id": "TDx6x3GsuxKa",
        "outputId": "efc4b422-1c7f-4dad-da8d-79f3da5d3fbf"
      },
      "outputs": [
        {
          "output_type": "stream",
          "name": "stdout",
          "text": [
            "{0, 1, 4, 7}\n",
            "{2, 3, 5, 6}\n",
            "({0, 1, 4, 5}, {2, 3, 6, 7}, 1)\n"
          ]
        }
      ],
      "source": [
        "print(KLPart(8, [(0,1), (0,4), (0,5), (1,4), (1,5), (4,5), (2,3), (2,6), (2,7), (3,6), (3,7), (6,7), (2,5)]))"
      ]
    },
    {
      "cell_type": "markdown",
      "metadata": {
        "id": "iXlhpb6Qy6Wr"
      },
      "source": [
        "## Bipartitioning using ILP\n",
        "+ $x_v$ is the indicator variable for $v$ being in $A$\n",
        "+ $x_{u,v}$ is the indicator variable for $(u,v)\\in E$ being cut\n",
        "+ <ul>\n",
        "$\\begin{align}\n",
        "        x_{u,v} = x_u \\oplus x_v\n",
        "\\end{align}$\n",
        "</ul>\n",
        "\n",
        "+ Objective: $\\min\\limits_{x_v, x_{u,v}} \\sum\\limits_{(u,v)\\in E}x_{u,v}$\n",
        "+ Subject to constraints:\n",
        "<ul>\n",
        "$\\begin{align}\n",
        "\\sum_{v\\in V} x_v&=\\frac{|V|}{2}\\\\\n",
        "x_u - x_v &\\leq x_{u,v}, &\\forall (u,v) \\in E\\\\\n",
        "x_v - x_u &\\leq x_{u,v}, &\\forall (u,v) \\in E\\\\\n",
        "x_u + x_v &\\geq x_{u,v}, &\\forall (u,v) \\in E\\\\\n",
        "x_u + x_v + x_{u,v} &\\leq 2, &\\forall (u,v) \\in E\\\\\n",
        "x_v &\\in \\{0, 1\\}, &\\forall v \\in V\\\\\n",
        "x_{u,v} &\\in \\{0, 1\\}, &\\forall (u,v) \\in E\n",
        "\\end{align}$\n",
        "</ul>\n"
      ]
    },
    {
      "cell_type": "code",
      "execution_count": 6,
      "metadata": {
        "id": "5J5avrLbvGiv"
      },
      "outputs": [],
      "source": [
        "## [karthik] Solve graph bipartitioning using Integer Linear Programming (ILP)\n",
        "def bipartition(N, E):\n",
        "  import mip\n",
        "  ## Create a new ILP model\n",
        "  model = mip.Model(\"Bi-partition\")\n",
        "\n",
        "  ## Create binary decision variables:\n",
        "  ## x[v] = 1 if vertex v is in partition A, 0 if in B\n",
        "  x = [model.add_var(f\"x_{u}\", var_type = mip.BINARY) for u in range(N)]\n",
        "\n",
        "  ## x_uv[e] = 1 if edge e is cut (endpoints in different partitions), 0 otherwise\n",
        "  x_uv = [model.add_var(f\"x_{u}_{v}\", var_type = mip.BINARY) for u,v in E]\n",
        "  model.verbose = 0\n",
        "\n",
        "  ## Objective: Minimize the number of cut edges (sum of x_uv variables)\n",
        "  model.objective = mip.minimize(mip.xsum(x_uv))\n",
        "\n",
        "  ## Constraint: Equal partition sizes (sum of x[v] = N/2)\n",
        "  model += (mip.xsum(x) == N//2)\n",
        "\n",
        "  ## Add XOR constraints for each edge\n",
        "  ## These four inequalities together enforce x_uv = x[u] XOR x[v]\n",
        "  for e, (u,v) in enumerate(E):\n",
        "    ## If vertices are in different partitions (|x[u] - x[v]| = 1),\n",
        "    ## then edge must be cut (x_uv[e] = 1)\n",
        "    model += (x[u] - x[v] <= x_uv[e])    # If x[u]=1, x[v]=0, then x_uv[e] must be 1\n",
        "    model += (x[v] - x[u] <= x_uv[e])    # If x[u]=0, x[v]=1, then x_uv[e] must be 1\n",
        "    model += (x[u] + x[v] >= x_uv[e])    # If x[u]=x[v]=0, then x_uv[e] must be 0\n",
        "    model += (x[u] + x[v] + x_uv[e] <= 2) # If x[u]=x[v]=1, then x_uv[e] must be 0\n",
        "\n",
        "  ## Save the model to a file (for debugging)\n",
        "  model.write(\"bipartition.lp\")\n",
        "\n",
        "  ## Solve the ILP\n",
        "  model.optimize()\n",
        "\n",
        "  ## If optimal solution found, construct and return the partitions\n",
        "  if model.status == mip.OptimizationStatus.OPTIMAL:\n",
        "    ## Vertices with x[v] ≈ 1 go to partition A\n",
        "    ## Using 0.9 threshold to handle numerical precision issues\n",
        "    A = [i for i in range(N) if x[i].x >= 0.9]\n",
        "    ## Remaining vertices go to partition B\n",
        "    B = [i for i in range(N) if x[i].x < 0.9]\n",
        "    ## Return partitions and number of cut edges\n",
        "    return (A, B, model.objective.x)\n",
        "  return None"
      ]
    },
    {
      "cell_type": "code",
      "execution_count": 7,
      "metadata": {
        "colab": {
          "base_uri": "https://localhost:8080/"
        },
        "id": "8FNdUsrs-vn9",
        "outputId": "6f75614c-d7c3-4f53-a544-a6d47ec34f13"
      },
      "outputs": [
        {
          "output_type": "stream",
          "name": "stdout",
          "text": [
            "([2, 3, 6, 7], [0, 1, 4, 5], 1.0)\n"
          ]
        }
      ],
      "source": [
        "print(bipartition(8, [(0,1), (0,4), (0,5), (1,4), (1,5), (4,5), (2,3), (2,6), (2,7), (3,6), (3,7), (6,7), (2,5)]))"
      ]
    },
    {
      "cell_type": "code",
      "execution_count": 8,
      "metadata": {
        "id": "nd93RnYwxVjq"
      },
      "outputs": [],
      "source": [
        "def random_graph(N, fns):\n",
        "  import networkx as nx\n",
        "  import time\n",
        "  ## Create a random Erdős-Rényi graph with N vertices\n",
        "  ## In an Erdős-Rényi graph G(n,p):\n",
        "  ##   - Each possible edge between n vertices exists with probability p\n",
        "  ##   - Edges are added independently of each other\n",
        "  ##   - Expected number of edges = p * (n choose 2)\n",
        "  ##   - Here: n=N vertices, p=0.4 (40% chance for each edge)\n",
        "  g = nx.erdos_renyi_graph(N, 0.4)\n",
        "  G = []  ## List to store visualizations for each partitioning method\n",
        "\n",
        "  ## Test each partitioning function\n",
        "  for fn in fns:\n",
        "    ## Measure runtime of partitioning\n",
        "    t = time.time()\n",
        "    (A,B,c) = fn(N, g.edges)\n",
        "    print(\"runtime : \", time.time() - t, 'cut size : ', c)\n",
        "\n",
        "    ## Create visualization using graphviz\n",
        "    import graphviz\n",
        "    gv = graphviz.Graph()\n",
        "\n",
        "    ## Convert sets to lists for iteration\n",
        "    A = list(A)\n",
        "    B = list(B)\n",
        "\n",
        "    ## Add nodes for partition A (colored red)\n",
        "    for i in range(len(A)):\n",
        "      gv.node(str(A[i]), color='red', shape='circle')\n",
        "\n",
        "    ## Add nodes for partition B (colored blue)\n",
        "    for i in range(len(B)):\n",
        "      gv.node(str(B[i]), color='blue', shape='circle')\n",
        "\n",
        "    ## Add all edges to the visualization\n",
        "    for e in g.edges:\n",
        "      gv.edge(str(e[0]), str(e[1]), splines='line')\n",
        "\n",
        "    #gv.engine = 'patchwork'  ## Alternative layout engine (commented out)\n",
        "    G.append(gv)  ## Store this visualization\n",
        "\n",
        "  return G  ## Return list of visualizations"
      ]
    },
    {
      "cell_type": "code",
      "execution_count": 9,
      "metadata": {
        "colab": {
          "base_uri": "https://localhost:8080/",
          "height": 788
        },
        "id": "XJrIsWs02hjm",
        "outputId": "21a53f85-e2ef-4a4f-9358-bf0cd9894cea"
      },
      "outputs": [
        {
          "output_type": "stream",
          "name": "stdout",
          "text": [
            "{3, 4, 5, 6, 7}\n",
            "{0, 1, 2, 8, 9}\n",
            "runtime :  0.0015261173248291016 cut size :  8\n",
            "runtime :  0.402662992477417 cut size :  8.0\n"
          ]
        },
        {
          "output_type": "display_data",
          "data": {
            "image/svg+xml": "<?xml version=\"1.0\" encoding=\"UTF-8\" standalone=\"no\"?>\n<!DOCTYPE svg PUBLIC \"-//W3C//DTD SVG 1.1//EN\"\n \"http://www.w3.org/Graphics/SVG/1.1/DTD/svg11.dtd\">\n<!-- Generated by graphviz version 2.43.0 (0)\n -->\n<!-- Title: %3 Pages: 1 -->\n<svg width=\"418pt\" height=\"260pt\"\n viewBox=\"0.00 0.00 418.24 260.00\" xmlns=\"http://www.w3.org/2000/svg\" xmlns:xlink=\"http://www.w3.org/1999/xlink\">\n<g id=\"graph0\" class=\"graph\" transform=\"scale(1 1) rotate(0) translate(4 256)\">\n<title>%3</title>\n<polygon fill=\"white\" stroke=\"transparent\" points=\"-4,4 -4,-256 414.24,-256 414.24,4 -4,4\"/>\n<!-- 1 -->\n<g id=\"node1\" class=\"node\">\n<title>1</title>\n<ellipse fill=\"none\" stroke=\"red\" cx=\"90.24\" cy=\"-234\" rx=\"18\" ry=\"18\"/>\n<text text-anchor=\"middle\" x=\"90.24\" y=\"-230.3\" font-family=\"Times,serif\" font-size=\"14.00\">1</text>\n</g>\n<!-- 3 -->\n<g id=\"node2\" class=\"node\">\n<title>3</title>\n<ellipse fill=\"none\" stroke=\"red\" cx=\"144.24\" cy=\"-162\" rx=\"18\" ry=\"18\"/>\n<text text-anchor=\"middle\" x=\"144.24\" y=\"-158.3\" font-family=\"Times,serif\" font-size=\"14.00\">3</text>\n</g>\n<!-- 1&#45;&#45;3 -->\n<g id=\"edge8\" class=\"edge\">\n<title>1&#45;&#45;3</title>\n<path fill=\"none\" stroke=\"black\" d=\"M100.91,-219.17C110.38,-206.9 124.14,-189.06 133.6,-176.8\"/>\n</g>\n<!-- 4 -->\n<g id=\"node3\" class=\"node\">\n<title>4</title>\n<ellipse fill=\"none\" stroke=\"red\" cx=\"90.24\" cy=\"-162\" rx=\"18\" ry=\"18\"/>\n<text text-anchor=\"middle\" x=\"90.24\" y=\"-158.3\" font-family=\"Times,serif\" font-size=\"14.00\">4</text>\n</g>\n<!-- 1&#45;&#45;4 -->\n<g id=\"edge9\" class=\"edge\">\n<title>1&#45;&#45;4</title>\n<path fill=\"none\" stroke=\"black\" d=\"M90.24,-215.7C90.24,-204.85 90.24,-190.92 90.24,-180.1\"/>\n</g>\n<!-- 9 -->\n<g id=\"node5\" class=\"node\">\n<title>9</title>\n<ellipse fill=\"none\" stroke=\"red\" cx=\"163.24\" cy=\"-18\" rx=\"18\" ry=\"18\"/>\n<text text-anchor=\"middle\" x=\"163.24\" y=\"-14.3\" font-family=\"Times,serif\" font-size=\"14.00\">9</text>\n</g>\n<!-- 1&#45;&#45;9 -->\n<g id=\"edge12\" class=\"edge\">\n<title>1&#45;&#45;9</title>\n<path fill=\"none\" stroke=\"black\" d=\"M74.08,-225.47C57.84,-216.94 33.64,-201.41 22.24,-180 -0.33,-137.58 -10.33,-111.35 17.24,-72 46.73,-29.93 113.18,-21.12 145.25,-19.37\"/>\n</g>\n<!-- 5 -->\n<g id=\"node8\" class=\"node\">\n<title>5</title>\n<ellipse fill=\"none\" stroke=\"blue\" cx=\"44.24\" cy=\"-90\" rx=\"18\" ry=\"18\"/>\n<text text-anchor=\"middle\" x=\"44.24\" y=\"-86.3\" font-family=\"Times,serif\" font-size=\"14.00\">5</text>\n</g>\n<!-- 1&#45;&#45;5 -->\n<g id=\"edge10\" class=\"edge\">\n<title>1&#45;&#45;5</title>\n<path fill=\"none\" stroke=\"black\" d=\"M74.84,-224.62C60.27,-215.71 39.33,-200.15 30.24,-180 19.38,-155.9 28.96,-124.83 36.73,-106.5\"/>\n</g>\n<!-- 6 -->\n<g id=\"node9\" class=\"node\">\n<title>6</title>\n<ellipse fill=\"none\" stroke=\"blue\" cx=\"236.24\" cy=\"-162\" rx=\"18\" ry=\"18\"/>\n<text text-anchor=\"middle\" x=\"236.24\" y=\"-158.3\" font-family=\"Times,serif\" font-size=\"14.00\">6</text>\n</g>\n<!-- 1&#45;&#45;6 -->\n<g id=\"edge11\" class=\"edge\">\n<title>1&#45;&#45;6</title>\n<path fill=\"none\" stroke=\"black\" d=\"M106.15,-225.38C134.23,-211.91 192.29,-184.07 220.36,-170.62\"/>\n</g>\n<!-- 7 -->\n<g id=\"node4\" class=\"node\">\n<title>7</title>\n<ellipse fill=\"none\" stroke=\"red\" cx=\"186.24\" cy=\"-90\" rx=\"18\" ry=\"18\"/>\n<text text-anchor=\"middle\" x=\"186.24\" y=\"-86.3\" font-family=\"Times,serif\" font-size=\"14.00\">7</text>\n</g>\n<!-- 3&#45;&#45;7 -->\n<g id=\"edge14\" class=\"edge\">\n<title>3&#45;&#45;7</title>\n<path fill=\"none\" stroke=\"black\" d=\"M153.15,-146.15C160.28,-134.28 170.23,-117.7 177.35,-105.82\"/>\n</g>\n<!-- 3&#45;&#45;9 -->\n<g id=\"edge15\" class=\"edge\">\n<title>3&#45;&#45;9</title>\n<path fill=\"none\" stroke=\"black\" d=\"M146.54,-143.87C150.19,-116.58 157.29,-63.52 160.94,-36.19\"/>\n</g>\n<!-- 4&#45;&#45;7 -->\n<g id=\"edge17\" class=\"edge\">\n<title>4&#45;&#45;7</title>\n<path fill=\"none\" stroke=\"black\" d=\"M104.41,-150.67C122.56,-137.44 153.84,-114.63 172.02,-101.37\"/>\n</g>\n<!-- 4&#45;&#45;9 -->\n<g id=\"edge18\" class=\"edge\">\n<title>4&#45;&#45;9</title>\n<path fill=\"none\" stroke=\"black\" d=\"M98.2,-145.53C112.24,-118.22 141.27,-61.75 155.3,-34.45\"/>\n</g>\n<!-- 4&#45;&#45;5 -->\n<g id=\"edge16\" class=\"edge\">\n<title>4&#45;&#45;5</title>\n<path fill=\"none\" stroke=\"black\" d=\"M80.71,-146.5C72.82,-134.48 61.65,-117.49 53.76,-105.49\"/>\n</g>\n<!-- 7&#45;&#45;9 -->\n<g id=\"edge22\" class=\"edge\">\n<title>7&#45;&#45;9</title>\n<path fill=\"none\" stroke=\"black\" d=\"M180.91,-72.76C177.25,-61.62 172.4,-46.87 168.71,-35.63\"/>\n</g>\n<!-- 8 -->\n<g id=\"node10\" class=\"node\">\n<title>8</title>\n<ellipse fill=\"none\" stroke=\"blue\" cx=\"327.24\" cy=\"-18\" rx=\"18\" ry=\"18\"/>\n<text text-anchor=\"middle\" x=\"327.24\" y=\"-14.3\" font-family=\"Times,serif\" font-size=\"14.00\">8</text>\n</g>\n<!-- 7&#45;&#45;8 -->\n<g id=\"edge21\" class=\"edge\">\n<title>7&#45;&#45;8</title>\n<path fill=\"none\" stroke=\"black\" d=\"M202.14,-81.11C229.22,-67.66 284,-40.47 311.19,-26.97\"/>\n</g>\n<!-- 0 -->\n<g id=\"node6\" class=\"node\">\n<title>0</title>\n<ellipse fill=\"none\" stroke=\"blue\" cx=\"236.24\" cy=\"-234\" rx=\"18\" ry=\"18\"/>\n<text text-anchor=\"middle\" x=\"236.24\" y=\"-230.3\" font-family=\"Times,serif\" font-size=\"14.00\">0</text>\n</g>\n<!-- 0&#45;&#45;3 -->\n<g id=\"edge2\" class=\"edge\">\n<title>0&#45;&#45;3</title>\n<path fill=\"none\" stroke=\"black\" d=\"M222.27,-222.37C204.98,-209.21 175.7,-186.93 158.35,-173.73\"/>\n</g>\n<!-- 0&#45;&#45;7 -->\n<g id=\"edge5\" class=\"edge\">\n<title>0&#45;&#45;7</title>\n<path fill=\"none\" stroke=\"black\" d=\"M227.54,-218.09C221.74,-207.69 214.29,-193.33 209.24,-180 199.97,-155.52 193.14,-125.88 189.43,-107.74\"/>\n</g>\n<!-- 0&#45;&#45;9 -->\n<g id=\"edge7\" class=\"edge\">\n<title>0&#45;&#45;9</title>\n<path fill=\"none\" stroke=\"black\" d=\"M246.05,-218.43C252.33,-208.18 259.92,-193.86 263.24,-180 266.98,-164.44 266.38,-159.69 263.24,-144 256.45,-110.01 254.47,-99.41 233.24,-72 218.22,-52.59 194.41,-36.63 178.8,-27.46\"/>\n</g>\n<!-- 2 -->\n<g id=\"node7\" class=\"node\">\n<title>2</title>\n<ellipse fill=\"none\" stroke=\"blue\" cx=\"392.24\" cy=\"-90\" rx=\"18\" ry=\"18\"/>\n<text text-anchor=\"middle\" x=\"392.24\" y=\"-86.3\" font-family=\"Times,serif\" font-size=\"14.00\">2</text>\n</g>\n<!-- 0&#45;&#45;2 -->\n<g id=\"edge1\" class=\"edge\">\n<title>0&#45;&#45;2</title>\n<path fill=\"none\" stroke=\"black\" d=\"M254.01,-230.05C280.67,-224.71 331.01,-211 360.24,-180 379.17,-159.93 387.04,-127.87 390.21,-108.2\"/>\n</g>\n<!-- 0&#45;&#45;5 -->\n<g id=\"edge3\" class=\"edge\">\n<title>0&#45;&#45;5</title>\n<path fill=\"none\" stroke=\"black\" d=\"M218.24,-233.09C182.94,-232.23 104.53,-225.04 63.24,-180 45.2,-160.32 42.7,-127.83 43.08,-108.03\"/>\n</g>\n<!-- 0&#45;&#45;6 -->\n<g id=\"edge4\" class=\"edge\">\n<title>0&#45;&#45;6</title>\n<path fill=\"none\" stroke=\"black\" d=\"M236.24,-215.7C236.24,-204.85 236.24,-190.92 236.24,-180.1\"/>\n</g>\n<!-- 0&#45;&#45;8 -->\n<g id=\"edge6\" class=\"edge\">\n<title>0&#45;&#45;8</title>\n<path fill=\"none\" stroke=\"black\" d=\"M248.44,-220.46C257.75,-210.29 270.29,-195.18 278.24,-180 304.02,-130.83 318.52,-65.96 324.29,-35.78\"/>\n</g>\n<!-- 2&#45;&#45;8 -->\n<g id=\"edge13\" class=\"edge\">\n<title>2&#45;&#45;8</title>\n<path fill=\"none\" stroke=\"black\" d=\"M380.32,-76.16C368.59,-63.53 350.79,-44.36 339.09,-31.76\"/>\n</g>\n<!-- 6&#45;&#45;9 -->\n<g id=\"edge20\" class=\"edge\">\n<title>6&#45;&#45;9</title>\n<path fill=\"none\" stroke=\"black\" d=\"M234.42,-144C231.85,-125.36 225.97,-95.05 213.24,-72 204.07,-55.39 188.48,-40.05 177.14,-30.19\"/>\n</g>\n<!-- 6&#45;&#45;8 -->\n<g id=\"edge19\" class=\"edge\">\n<title>6&#45;&#45;8</title>\n<path fill=\"none\" stroke=\"black\" d=\"M245.64,-146.34C263.08,-119.13 300.26,-61.11 317.76,-33.79\"/>\n</g>\n</g>\n</svg>\n",
            "text/plain": [
              "<graphviz.graphs.Graph at 0x792d67daf090>"
            ]
          },
          "metadata": {}
        },
        {
          "output_type": "display_data",
          "data": {
            "image/svg+xml": "<?xml version=\"1.0\" encoding=\"UTF-8\" standalone=\"no\"?>\n<!DOCTYPE svg PUBLIC \"-//W3C//DTD SVG 1.1//EN\"\n \"http://www.w3.org/Graphics/SVG/1.1/DTD/svg11.dtd\">\n<!-- Generated by graphviz version 2.43.0 (0)\n -->\n<!-- Title: %3 Pages: 1 -->\n<svg width=\"385pt\" height=\"260pt\"\n viewBox=\"0.00 0.00 385.48 260.00\" xmlns=\"http://www.w3.org/2000/svg\" xmlns:xlink=\"http://www.w3.org/1999/xlink\">\n<g id=\"graph0\" class=\"graph\" transform=\"scale(1 1) rotate(0) translate(4 256)\">\n<title>%3</title>\n<polygon fill=\"white\" stroke=\"transparent\" points=\"-4,4 -4,-256 381.48,-256 381.48,4 -4,4\"/>\n<!-- 0 -->\n<g id=\"node1\" class=\"node\">\n<title>0</title>\n<ellipse fill=\"none\" stroke=\"red\" cx=\"149.24\" cy=\"-234\" rx=\"18\" ry=\"18\"/>\n<text text-anchor=\"middle\" x=\"149.24\" y=\"-230.3\" font-family=\"Times,serif\" font-size=\"14.00\">0</text>\n</g>\n<!-- 2 -->\n<g id=\"node2\" class=\"node\">\n<title>2</title>\n<ellipse fill=\"none\" stroke=\"red\" cx=\"31.24\" cy=\"-90\" rx=\"18\" ry=\"18\"/>\n<text text-anchor=\"middle\" x=\"31.24\" y=\"-86.3\" font-family=\"Times,serif\" font-size=\"14.00\">2</text>\n</g>\n<!-- 0&#45;&#45;2 -->\n<g id=\"edge1\" class=\"edge\">\n<title>0&#45;&#45;2</title>\n<path fill=\"none\" stroke=\"black\" d=\"M134.91,-222.18C122.1,-212.09 103.23,-196.2 89.24,-180 68.74,-156.27 49.89,-124.81 39.54,-106.35\"/>\n</g>\n<!-- 6 -->\n<g id=\"node3\" class=\"node\">\n<title>6</title>\n<ellipse fill=\"none\" stroke=\"red\" cx=\"149.24\" cy=\"-162\" rx=\"18\" ry=\"18\"/>\n<text text-anchor=\"middle\" x=\"149.24\" y=\"-158.3\" font-family=\"Times,serif\" font-size=\"14.00\">6</text>\n</g>\n<!-- 0&#45;&#45;6 -->\n<g id=\"edge4\" class=\"edge\">\n<title>0&#45;&#45;6</title>\n<path fill=\"none\" stroke=\"black\" d=\"M149.24,-215.7C149.24,-204.85 149.24,-190.92 149.24,-180.1\"/>\n</g>\n<!-- 7 -->\n<g id=\"node4\" class=\"node\">\n<title>7</title>\n<ellipse fill=\"none\" stroke=\"red\" cx=\"199.24\" cy=\"-90\" rx=\"18\" ry=\"18\"/>\n<text text-anchor=\"middle\" x=\"199.24\" y=\"-86.3\" font-family=\"Times,serif\" font-size=\"14.00\">7</text>\n</g>\n<!-- 0&#45;&#45;7 -->\n<g id=\"edge5\" class=\"edge\">\n<title>0&#45;&#45;7</title>\n<path fill=\"none\" stroke=\"black\" d=\"M157.94,-218.09C163.74,-207.69 171.19,-193.33 176.24,-180 185.5,-155.52 192.34,-125.88 196.05,-107.74\"/>\n</g>\n<!-- 8 -->\n<g id=\"node5\" class=\"node\">\n<title>8</title>\n<ellipse fill=\"none\" stroke=\"red\" cx=\"54.24\" cy=\"-18\" rx=\"18\" ry=\"18\"/>\n<text text-anchor=\"middle\" x=\"54.24\" y=\"-14.3\" font-family=\"Times,serif\" font-size=\"14.00\">8</text>\n</g>\n<!-- 0&#45;&#45;8 -->\n<g id=\"edge6\" class=\"edge\">\n<title>0&#45;&#45;8</title>\n<path fill=\"none\" stroke=\"black\" d=\"M133.02,-226.03C99.77,-210.61 25.21,-170.02 4.24,-108 -0.89,-92.84 -1.67,-86.87 4.24,-72 11.33,-54.13 27.63,-38.8 39.7,-29.29\"/>\n</g>\n<!-- 3 -->\n<g id=\"node7\" class=\"node\">\n<title>3</title>\n<ellipse fill=\"none\" stroke=\"blue\" cx=\"241.24\" cy=\"-162\" rx=\"18\" ry=\"18\"/>\n<text text-anchor=\"middle\" x=\"241.24\" y=\"-158.3\" font-family=\"Times,serif\" font-size=\"14.00\">3</text>\n</g>\n<!-- 0&#45;&#45;3 -->\n<g id=\"edge2\" class=\"edge\">\n<title>0&#45;&#45;3</title>\n<path fill=\"none\" stroke=\"black\" d=\"M163.21,-222.37C180.5,-209.21 209.78,-186.93 227.13,-173.73\"/>\n</g>\n<!-- 5 -->\n<g id=\"node9\" class=\"node\">\n<title>5</title>\n<ellipse fill=\"none\" stroke=\"blue\" cx=\"341.24\" cy=\"-90\" rx=\"18\" ry=\"18\"/>\n<text text-anchor=\"middle\" x=\"341.24\" y=\"-86.3\" font-family=\"Times,serif\" font-size=\"14.00\">5</text>\n</g>\n<!-- 0&#45;&#45;5 -->\n<g id=\"edge3\" class=\"edge\">\n<title>0&#45;&#45;5</title>\n<path fill=\"none\" stroke=\"black\" d=\"M167.24,-233.09C202.54,-232.23 280.95,-225.04 322.24,-180 340.28,-160.32 342.78,-127.83 342.39,-108.03\"/>\n</g>\n<!-- 9 -->\n<g id=\"node10\" class=\"node\">\n<title>9</title>\n<ellipse fill=\"none\" stroke=\"blue\" cx=\"222.24\" cy=\"-18\" rx=\"18\" ry=\"18\"/>\n<text text-anchor=\"middle\" x=\"222.24\" y=\"-14.3\" font-family=\"Times,serif\" font-size=\"14.00\">9</text>\n</g>\n<!-- 0&#45;&#45;9 -->\n<g id=\"edge7\" class=\"edge\">\n<title>0&#45;&#45;9</title>\n<path fill=\"none\" stroke=\"black\" d=\"M139.43,-218.43C133.15,-208.18 125.56,-193.86 122.24,-180 118.5,-164.44 118.82,-159.63 122.24,-144 129.74,-109.61 133.5,-99.69 155.24,-72 169.8,-53.45 192.12,-37.5 206.94,-28.07\"/>\n</g>\n<!-- 2&#45;&#45;8 -->\n<g id=\"edge13\" class=\"edge\">\n<title>2&#45;&#45;8</title>\n<path fill=\"none\" stroke=\"black\" d=\"M36.57,-72.76C40.23,-61.62 45.08,-46.87 48.77,-35.63\"/>\n</g>\n<!-- 6&#45;&#45;8 -->\n<g id=\"edge19\" class=\"edge\">\n<title>6&#45;&#45;8</title>\n<path fill=\"none\" stroke=\"black\" d=\"M139.6,-146.6C121.4,-119.39 82.12,-60.68 63.89,-33.44\"/>\n</g>\n<!-- 6&#45;&#45;9 -->\n<g id=\"edge20\" class=\"edge\">\n<title>6&#45;&#45;9</title>\n<path fill=\"none\" stroke=\"black\" d=\"M151.06,-144C153.63,-125.36 159.5,-95.05 172.24,-72 181.41,-55.39 197,-40.05 208.34,-30.19\"/>\n</g>\n<!-- 7&#45;&#45;8 -->\n<g id=\"edge21\" class=\"edge\">\n<title>7&#45;&#45;8</title>\n<path fill=\"none\" stroke=\"black\" d=\"M183.16,-81.24C155.29,-67.79 98.3,-40.27 70.38,-26.79\"/>\n</g>\n<!-- 7&#45;&#45;9 -->\n<g id=\"edge22\" class=\"edge\">\n<title>7&#45;&#45;9</title>\n<path fill=\"none\" stroke=\"black\" d=\"M204.57,-72.76C208.23,-61.62 213.08,-46.87 216.77,-35.63\"/>\n</g>\n<!-- 1 -->\n<g id=\"node6\" class=\"node\">\n<title>1</title>\n<ellipse fill=\"none\" stroke=\"blue\" cx=\"295.24\" cy=\"-234\" rx=\"18\" ry=\"18\"/>\n<text text-anchor=\"middle\" x=\"295.24\" y=\"-230.3\" font-family=\"Times,serif\" font-size=\"14.00\">1</text>\n</g>\n<!-- 1&#45;&#45;6 -->\n<g id=\"edge11\" class=\"edge\">\n<title>1&#45;&#45;6</title>\n<path fill=\"none\" stroke=\"black\" d=\"M279.33,-225.38C251.25,-211.91 193.19,-184.07 165.12,-170.62\"/>\n</g>\n<!-- 1&#45;&#45;3 -->\n<g id=\"edge8\" class=\"edge\">\n<title>1&#45;&#45;3</title>\n<path fill=\"none\" stroke=\"black\" d=\"M284.57,-219.17C275.1,-206.9 261.34,-189.06 251.88,-176.8\"/>\n</g>\n<!-- 4 -->\n<g id=\"node8\" class=\"node\">\n<title>4</title>\n<ellipse fill=\"none\" stroke=\"blue\" cx=\"295.24\" cy=\"-162\" rx=\"18\" ry=\"18\"/>\n<text text-anchor=\"middle\" x=\"295.24\" y=\"-158.3\" font-family=\"Times,serif\" font-size=\"14.00\">4</text>\n</g>\n<!-- 1&#45;&#45;4 -->\n<g id=\"edge9\" class=\"edge\">\n<title>1&#45;&#45;4</title>\n<path fill=\"none\" stroke=\"black\" d=\"M295.24,-215.7C295.24,-204.85 295.24,-190.92 295.24,-180.1\"/>\n</g>\n<!-- 1&#45;&#45;5 -->\n<g id=\"edge10\" class=\"edge\">\n<title>1&#45;&#45;5</title>\n<path fill=\"none\" stroke=\"black\" d=\"M310.64,-224.62C325.21,-215.71 346.15,-200.15 355.24,-180 366.1,-155.9 356.52,-124.83 348.75,-106.5\"/>\n</g>\n<!-- 1&#45;&#45;9 -->\n<g id=\"edge12\" class=\"edge\">\n<title>1&#45;&#45;9</title>\n<path fill=\"none\" stroke=\"black\" d=\"M311.9,-226.87C330.25,-219.11 358.81,-203.82 371.24,-180 379.54,-164.08 380.2,-88.34 368.24,-72 337.96,-30.66 272.2,-21.49 240.31,-19.51\"/>\n</g>\n<!-- 3&#45;&#45;7 -->\n<g id=\"edge14\" class=\"edge\">\n<title>3&#45;&#45;7</title>\n<path fill=\"none\" stroke=\"black\" d=\"M232.33,-146.15C225.2,-134.28 215.25,-117.7 208.13,-105.82\"/>\n</g>\n<!-- 3&#45;&#45;9 -->\n<g id=\"edge15\" class=\"edge\">\n<title>3&#45;&#45;9</title>\n<path fill=\"none\" stroke=\"black\" d=\"M238.94,-143.87C235.29,-116.58 228.19,-63.52 224.54,-36.19\"/>\n</g>\n<!-- 4&#45;&#45;7 -->\n<g id=\"edge17\" class=\"edge\">\n<title>4&#45;&#45;7</title>\n<path fill=\"none\" stroke=\"black\" d=\"M281.07,-150.67C262.92,-137.44 231.64,-114.63 213.46,-101.37\"/>\n</g>\n<!-- 4&#45;&#45;5 -->\n<g id=\"edge16\" class=\"edge\">\n<title>4&#45;&#45;5</title>\n<path fill=\"none\" stroke=\"black\" d=\"M304.77,-146.5C312.66,-134.48 323.82,-117.49 331.72,-105.49\"/>\n</g>\n<!-- 4&#45;&#45;9 -->\n<g id=\"edge18\" class=\"edge\">\n<title>4&#45;&#45;9</title>\n<path fill=\"none\" stroke=\"black\" d=\"M287.28,-145.53C273.24,-118.22 244.21,-61.75 230.18,-34.45\"/>\n</g>\n</g>\n</svg>\n",
            "text/plain": [
              "<graphviz.graphs.Graph at 0x792d67bc1c10>"
            ]
          },
          "metadata": {}
        }
      ],
      "source": [
        "G = random_graph(10, [KLPart, bipartition])\n",
        "from IPython.display import display\n",
        "display(G[0], G[1])"
      ]
    },
    {
      "cell_type": "code",
      "execution_count": 10,
      "metadata": {
        "colab": {
          "base_uri": "https://localhost:8080/"
        },
        "id": "bYe2eC01VgeC",
        "outputId": "62871ef4-b2f1-4675-ad02-81bd8f8b8e33"
      },
      "outputs": [
        {
          "output_type": "stream",
          "name": "stdout",
          "text": [
            "\\Problem name: Bi-partition\n",
            "\n",
            "Minimize\n",
            "OBJROW: x_0_2 + x_0_3 + x_0_5 + x_0_6 + x_0_7 + x_0_8 + x_0_9 + x_1_3 + x_1_4 + x_1_5\n",
            " + x_1_6 + x_1_9 + x_2_8 + x_3_7 + x_3_9 + x_4_5 + x_4_7 + x_4_9 + x_6_8 + x_6_9\n",
            " + x_7_8 + x_7_9\n",
            "Subject To\n",
            "constr(0):  x_0 + x_1 + x_2 + x_3 + x_4 + x_5 + x_6 + x_7 + x_8 + x_9\n",
            " = 5\n",
            "constr(1):  x_0 - x_2 - x_0_2 <= -0\n",
            "constr(2):  - x_0 + x_2 - x_0_2 <= -0\n",
            "constr(3):  x_0 + x_2 - x_0_2 >= -0\n",
            "constr(4):  x_0 + x_2 + x_0_2 <= 2\n",
            "constr(5):  x_0 - x_3 - x_0_3 <= -0\n",
            "constr(6):  - x_0 + x_3 - x_0_3 <= -0\n",
            "constr(7):  x_0 + x_3 - x_0_3 >= -0\n",
            "constr(8):  x_0 + x_3 + x_0_3 <= 2\n",
            "constr(9):  x_0 - x_5 - x_0_5 <= -0\n",
            "constr(10):  - x_0 + x_5 - x_0_5 <= -0\n",
            "constr(11):  x_0 + x_5 - x_0_5 >= -0\n",
            "constr(12):  x_0 + x_5 + x_0_5 <= 2\n",
            "constr(13):  x_0 - x_6 - x_0_6 <= -0\n",
            "constr(14):  - x_0 + x_6 - x_0_6 <= -0\n",
            "constr(15):  x_0 + x_6 - x_0_6 >= -0\n",
            "constr(16):  x_0 + x_6 + x_0_6 <= 2\n",
            "constr(17):  x_0 - x_7 - x_0_7 <= -0\n",
            "constr(18):  - x_0 + x_7 - x_0_7 <= -0\n",
            "constr(19):  x_0 + x_7 - x_0_7 >= -0\n",
            "constr(20):  x_0 + x_7 + x_0_7 <= 2\n",
            "constr(21):  x_0 - x_8 - x_0_8 <= -0\n",
            "constr(22):  - x_0 + x_8 - x_0_8 <= -0\n",
            "constr(23):  x_0 + x_8 - x_0_8 >= -0\n",
            "constr(24):  x_0 + x_8 + x_0_8 <= 2\n",
            "constr(25):  x_0 - x_9 - x_0_9 <= -0\n",
            "constr(26):  - x_0 + x_9 - x_0_9 <= -0\n",
            "constr(27):  x_0 + x_9 - x_0_9 >= -0\n",
            "constr(28):  x_0 + x_9 + x_0_9 <= 2\n",
            "constr(29):  x_1 - x_3 - x_1_3 <= -0\n",
            "constr(30):  - x_1 + x_3 - x_1_3 <= -0\n",
            "constr(31):  x_1 + x_3 - x_1_3 >= -0\n",
            "constr(32):  x_1 + x_3 + x_1_3 <= 2\n",
            "constr(33):  x_1 - x_4 - x_1_4 <= -0\n",
            "constr(34):  - x_1 + x_4 - x_1_4 <= -0\n",
            "constr(35):  x_1 + x_4 - x_1_4 >= -0\n",
            "constr(36):  x_1 + x_4 + x_1_4 <= 2\n",
            "constr(37):  x_1 - x_5 - x_1_5 <= -0\n",
            "constr(38):  - x_1 + x_5 - x_1_5 <= -0\n",
            "constr(39):  x_1 + x_5 - x_1_5 >= -0\n",
            "constr(40):  x_1 + x_5 + x_1_5 <= 2\n",
            "constr(41):  x_1 - x_6 - x_1_6 <= -0\n",
            "constr(42):  - x_1 + x_6 - x_1_6 <= -0\n",
            "constr(43):  x_1 + x_6 - x_1_6 >= -0\n",
            "constr(44):  x_1 + x_6 + x_1_6 <= 2\n",
            "constr(45):  x_1 - x_9 - x_1_9 <= -0\n",
            "constr(46):  - x_1 + x_9 - x_1_9 <= -0\n",
            "constr(47):  x_1 + x_9 - x_1_9 >= -0\n",
            "constr(48):  x_1 + x_9 + x_1_9 <= 2\n",
            "constr(49):  x_2 - x_8 - x_2_8 <= -0\n",
            "constr(50):  - x_2 + x_8 - x_2_8 <= -0\n",
            "constr(51):  x_2 + x_8 - x_2_8 >= -0\n",
            "constr(52):  x_2 + x_8 + x_2_8 <= 2\n",
            "constr(53):  x_3 - x_7 - x_3_7 <= -0\n",
            "constr(54):  - x_3 + x_7 - x_3_7 <= -0\n",
            "constr(55):  x_3 + x_7 - x_3_7 >= -0\n",
            "constr(56):  x_3 + x_7 + x_3_7 <= 2\n",
            "constr(57):  x_3 - x_9 - x_3_9 <= -0\n",
            "constr(58):  - x_3 + x_9 - x_3_9 <= -0\n",
            "constr(59):  x_3 + x_9 - x_3_9 >= -0\n",
            "constr(60):  x_3 + x_9 + x_3_9 <= 2\n",
            "constr(61):  x_4 - x_5 - x_4_5 <= -0\n",
            "constr(62):  - x_4 + x_5 - x_4_5 <= -0\n",
            "constr(63):  x_4 + x_5 - x_4_5 >= -0\n",
            "constr(64):  x_4 + x_5 + x_4_5 <= 2\n",
            "constr(65):  x_4 - x_7 - x_4_7 <= -0\n",
            "constr(66):  - x_4 + x_7 - x_4_7 <= -0\n",
            "constr(67):  x_4 + x_7 - x_4_7 >= -0\n",
            "constr(68):  x_4 + x_7 + x_4_7 <= 2\n",
            "constr(69):  x_4 - x_9 - x_4_9 <= -0\n",
            "constr(70):  - x_4 + x_9 - x_4_9 <= -0\n",
            "constr(71):  x_4 + x_9 - x_4_9 >= -0\n",
            "constr(72):  x_4 + x_9 + x_4_9 <= 2\n",
            "constr(73):  x_6 - x_8 - x_6_8 <= -0\n",
            "constr(74):  - x_6 + x_8 - x_6_8 <= -0\n",
            "constr(75):  x_6 + x_8 - x_6_8 >= -0\n",
            "constr(76):  x_6 + x_8 + x_6_8 <= 2\n",
            "constr(77):  x_6 - x_9 - x_6_9 <= -0\n",
            "constr(78):  - x_6 + x_9 - x_6_9 <= -0\n",
            "constr(79):  x_6 + x_9 - x_6_9 >= -0\n",
            "constr(80):  x_6 + x_9 + x_6_9 <= 2\n",
            "constr(81):  x_7 - x_8 - x_7_8 <= -0\n",
            "constr(82):  - x_7 + x_8 - x_7_8 <= -0\n",
            "constr(83):  x_7 + x_8 - x_7_8 >= -0\n",
            "constr(84):  x_7 + x_8 + x_7_8 <= 2\n",
            "constr(85):  x_7 - x_9 - x_7_9 <= -0\n",
            "constr(86):  - x_7 + x_9 - x_7_9 <= -0\n",
            "constr(87):  x_7 + x_9 - x_7_9 >= -0\n",
            "constr(88):  x_7 + x_9 + x_7_9 <= 2\n",
            "Bounds\n",
            " 0 <= x_0 <= 1\n",
            " 0 <= x_1 <= 1\n",
            " 0 <= x_2 <= 1\n",
            " 0 <= x_3 <= 1\n",
            " 0 <= x_4 <= 1\n",
            " 0 <= x_5 <= 1\n",
            " 0 <= x_6 <= 1\n",
            " 0 <= x_7 <= 1\n",
            " 0 <= x_8 <= 1\n",
            " 0 <= x_9 <= 1\n",
            " 0 <= x_0_2 <= 1\n",
            " 0 <= x_0_3 <= 1\n",
            " 0 <= x_0_5 <= 1\n",
            " 0 <= x_0_6 <= 1\n",
            " 0 <= x_0_7 <= 1\n",
            " 0 <= x_0_8 <= 1\n",
            " 0 <= x_0_9 <= 1\n",
            " 0 <= x_1_3 <= 1\n",
            " 0 <= x_1_4 <= 1\n",
            " 0 <= x_1_5 <= 1\n",
            " 0 <= x_1_6 <= 1\n",
            " 0 <= x_1_9 <= 1\n",
            " 0 <= x_2_8 <= 1\n",
            " 0 <= x_3_7 <= 1\n",
            " 0 <= x_3_9 <= 1\n",
            " 0 <= x_4_5 <= 1\n",
            " 0 <= x_4_7 <= 1\n",
            " 0 <= x_4_9 <= 1\n",
            " 0 <= x_6_8 <= 1\n",
            " 0 <= x_6_9 <= 1\n",
            " 0 <= x_7_8 <= 1\n",
            " 0 <= x_7_9 <= 1\n",
            "Integers\n",
            "x_0 x_1 x_2 x_3 x_4 x_5 x_6 x_7 x_8 x_9 \n",
            "x_0_2 x_0_3 x_0_5 x_0_6 x_0_7 x_0_8 x_0_9 x_1_3 x_1_4 x_1_5 \n",
            "x_1_6 x_1_9 x_2_8 x_3_7 x_3_9 x_4_5 x_4_7 x_4_9 x_6_8 x_6_9 \n",
            "x_7_8 x_7_9 \n",
            "End\n"
          ]
        }
      ],
      "source": [
        "!cat bipartition.lp"
      ]
    },
    {
      "cell_type": "markdown",
      "source": [
        "## Bipartitioning using ILP - II\n",
        "+ $x_{v,A}$ is the indicator variable for $v$ being in $A$\n",
        "+ Similarly define $x_{v,B}$\n",
        "+ $x_{u,v,A}$ is the indicator variable for $(u,v)\\in E$ being contained in $A$\n",
        "\n",
        "+ Objective: $\\max\\limits_{x_{u,v,i}} \\sum\\limits_{(u,v)\\in E}x_{u,v,A} + x_{u,v,B}$\n",
        "+ Subject to constraints:\n",
        "<ul>\n",
        "$\\begin{align}\n",
        "\\sum_{v\\in V} x_{v,i}&=\\frac{|V|}{2}, &\\forall v \\in V\\\\\n",
        "x_{v,A}, x_{v,B} &\\in \\{0, 1\\}, &\\forall v \\in V\\\\\n",
        "x_{u,v,A} &\\leq x_{u,A}, &\\forall (u,v) \\in E\\\\\n",
        "x_{u,v,A} &\\leq x_{v,A}, &\\forall (u,v) \\in E\\\\\n",
        "x_{v,A} + x_{v,B} &=1 , &\\forall v \\in V\\\\\n",
        "x_{u,v,A}, x_{u,v,B} &\\in \\{0, 1\\}, &\\forall (u,v) \\in E\n",
        "\\end{align}$\n",
        "</ul>"
      ],
      "metadata": {
        "id": "qWWfroQk4VnI"
      }
    },
    {
      "cell_type": "code",
      "execution_count": 11,
      "metadata": {
        "id": "6YDfSu4byzuK"
      },
      "outputs": [],
      "source": [
        "def bipartition2(N, E):\n",
        "  import mip\n",
        "  model = mip.Model(\"Bi-partition2\")\n",
        "  model.verbose = 0\n",
        "\n",
        "  # [karthik] define a list of binary indicator variables that define\n",
        "  ## whether a particular vertex is in the partition A\n",
        "  xa = [model.add_var(f\"xa_{u}\", var_type = mip.BINARY) for u in range(N)]\n",
        "\n",
        "  # [karthik] similarly another list of binary indicator variables that define\n",
        "  ## whether a particular vertex is in the partition B\n",
        "  xb = [model.add_var(f\"xb_{u}\", var_type = mip.BINARY) for u in range(N)]\n",
        "\n",
        "  # [karthik] now a third list of binary indicator variables that define whether a vertex\n",
        "  ## pair is fully contained in A.\n",
        "  xa_uv = [model.add_var(f\"xa_{u}_{v}\", var_type = mip.BINARY) for u,v in E]\n",
        "\n",
        "  # [karthik] similarly another list of binary varuables to indicate whether a vertex is\n",
        "  ## fully contained in B.\n",
        "  xb_uv = [model.add_var(f\"xb_{u}_{v}\", var_type = mip.BINARY) for u,v in E]\n",
        "\n",
        "  # [karthik] now we define the objective for the ILP solver as \"to maximise the number\n",
        "  ## of edges being contained\". this is an \"overkill\" for a 2-way partition\n",
        "  ## but scales well for a k-way partitioning problem. this will introduce a lot\n",
        "  ## more variables and constraints than actually required _for a 2 way problem_\n",
        "  model.objective = mip.minimize(mip.xsum((xa_uv[i] + xb_uv[i]) for i in range(len(E)))) # is this len(E) correct ?\n",
        "\n",
        "  # [karthik] now we add in constraints for the model to solve the formed ILP.\n",
        "  ## 1. number of vertices grouped in all partitions should be equal ??????\n",
        "  model += (mip.xsum(xa) == N//2)\n",
        "  model += (mip.xsum(xb) == N//2)\n",
        "\n",
        "  ## 2. these constraints may look like they have a typo but they do not. we are\n",
        "  ## trying to say that if a vertex is in a certain partition, then the edge\n",
        "  ## is either contained or it is cut. seems unnecessarry to me at the beginning\n",
        "  ## but then when we are trying to _maximise_ the objective, we basically push\n",
        "  ## the solver to have as many contained edges as possible.\n",
        "  for e, (u,v) in enumerate(E):\n",
        "    model += (xa_uv[e] <= xa[u])\n",
        "    model += (xa_uv[e] <= xa[v])\n",
        "    model += (xb_uv[e] <= xb[u])\n",
        "    model += (xb_uv[e] <= xb[v])\n",
        "\n",
        "  ## 3. a node can not be in both partitions\n",
        "    model += (xa[u] + xb[u] == 1)\n",
        "    model += (xa[v] + xb[v] == 1)\n",
        "\n",
        "  model.write(\"bipartition2.lp\")\n",
        "  model.optimize()\n",
        "  if model.status == mip.OptimizationStatus.OPTIMAL:\n",
        "    A = [i for i in range(N) if xa[i].x >= 0.9]\n",
        "    B = [i for i in range(N) if xb[i].x < 0.9]\n",
        "    return (A, B, model.objective.x)\n",
        "  return None\n"
      ]
    },
    {
      "cell_type": "code",
      "source": [
        "G = random_graph(20, [KLPart, bipartition, bipartition2])\n",
        "from IPython.display import display\n",
        "display(G[0], G[1], G[2])"
      ],
      "metadata": {
        "id": "hawqhl8xXRD_",
        "outputId": "2ac141ef-4e1f-4655-9eba-73e96e053065",
        "colab": {
          "base_uri": "https://localhost:8080/",
          "height": 1000
        }
      },
      "execution_count": 12,
      "outputs": [
        {
          "output_type": "stream",
          "name": "stdout",
          "text": [
            "{1, 2, 4, 5, 7, 10, 11, 14, 17, 19}\n",
            "{0, 3, 6, 8, 9, 12, 13, 15, 16, 18}\n",
            "runtime :  0.00273895263671875 cut size :  29\n",
            "runtime :  7.6250834465026855 cut size :  29.0\n",
            "runtime :  0.014578580856323242 cut size :  0.0\n"
          ]
        },
        {
          "output_type": "display_data",
          "data": {
            "image/svg+xml": "<?xml version=\"1.0\" encoding=\"UTF-8\" standalone=\"no\"?>\n<!DOCTYPE svg PUBLIC \"-//W3C//DTD SVG 1.1//EN\"\n \"http://www.w3.org/Graphics/SVG/1.1/DTD/svg11.dtd\">\n<!-- Generated by graphviz version 2.43.0 (0)\n -->\n<!-- Title: %3 Pages: 1 -->\n<svg width=\"1514pt\" height=\"932pt\"\n viewBox=\"0.00 0.00 1514.00 931.97\" xmlns=\"http://www.w3.org/2000/svg\" xmlns:xlink=\"http://www.w3.org/1999/xlink\">\n<g id=\"graph0\" class=\"graph\" transform=\"scale(1 1) rotate(0) translate(4 927.97)\">\n<title>%3</title>\n<polygon fill=\"white\" stroke=\"transparent\" points=\"-4,4 -4,-927.97 1510,-927.97 1510,4 -4,4\"/>\n<!-- 0 -->\n<g id=\"node1\" class=\"node\">\n<title>0</title>\n<ellipse fill=\"none\" stroke=\"red\" cx=\"560\" cy=\"-905.97\" rx=\"18\" ry=\"18\"/>\n<text text-anchor=\"middle\" x=\"560\" y=\"-902.27\" font-family=\"Times,serif\" font-size=\"14.00\">0</text>\n</g>\n<!-- 2 -->\n<g id=\"node2\" class=\"node\">\n<title>2</title>\n<ellipse fill=\"none\" stroke=\"red\" cx=\"460\" cy=\"-833.97\" rx=\"18\" ry=\"18\"/>\n<text text-anchor=\"middle\" x=\"460\" y=\"-830.27\" font-family=\"Times,serif\" font-size=\"14.00\">2</text>\n</g>\n<!-- 0&#45;&#45;2 -->\n<g id=\"edge1\" class=\"edge\">\n<title>0&#45;&#45;2</title>\n<path fill=\"none\" stroke=\"black\" d=\"M545.67,-894.94C526.66,-881.64 493.3,-858.28 474.3,-844.98\"/>\n</g>\n<!-- 9 -->\n<g id=\"node4\" class=\"node\">\n<title>9</title>\n<ellipse fill=\"none\" stroke=\"red\" cx=\"376\" cy=\"-617.97\" rx=\"18\" ry=\"18\"/>\n<text text-anchor=\"middle\" x=\"376\" y=\"-614.27\" font-family=\"Times,serif\" font-size=\"14.00\">9</text>\n</g>\n<!-- 0&#45;&#45;9 -->\n<g id=\"edge6\" class=\"edge\">\n<title>0&#45;&#45;9</title>\n<path fill=\"none\" stroke=\"black\" d=\"M542.19,-902.29C514.93,-897.27 462.86,-883.91 433,-851.97 374.99,-789.91 373.24,-678.8 374.92,-636.23\"/>\n</g>\n<!-- 11 -->\n<g id=\"node6\" class=\"node\">\n<title>11</title>\n<ellipse fill=\"none\" stroke=\"red\" cx=\"351\" cy=\"-469.48\" rx=\"19.5\" ry=\"19.5\"/>\n<text text-anchor=\"middle\" x=\"351\" y=\"-465.78\" font-family=\"Times,serif\" font-size=\"14.00\">11</text>\n</g>\n<!-- 0&#45;&#45;11 -->\n<g id=\"edge7\" class=\"edge\">\n<title>0&#45;&#45;11</title>\n<path fill=\"none\" stroke=\"black\" d=\"M541.93,-903.86C509.81,-900.92 442.56,-890.27 404,-851.97 302,-750.66 333.95,-550.44 346.79,-488.9\"/>\n</g>\n<!-- 15 -->\n<g id=\"node8\" class=\"node\">\n<title>15</title>\n<ellipse fill=\"none\" stroke=\"red\" cx=\"418\" cy=\"-169.49\" rx=\"19.5\" ry=\"19.5\"/>\n<text text-anchor=\"middle\" x=\"418\" y=\"-165.79\" font-family=\"Times,serif\" font-size=\"14.00\">15</text>\n</g>\n<!-- 0&#45;&#45;15 -->\n<g id=\"edge8\" class=\"edge\">\n<title>0&#45;&#45;15</title>\n<path fill=\"none\" stroke=\"black\" d=\"M541.85,-904.15C506.04,-901.66 425.23,-891.72 373,-851.97 253.81,-761.27 238.38,-708.2 198,-563.97 160.26,-429.2 223.4,-369.79 344,-224.99 360.24,-205.5 384.85,-189.19 401.17,-179.64\"/>\n</g>\n<!-- 18 -->\n<g id=\"node10\" class=\"node\">\n<title>18</title>\n<ellipse fill=\"none\" stroke=\"red\" cx=\"418\" cy=\"-94.49\" rx=\"19.5\" ry=\"19.5\"/>\n<text text-anchor=\"middle\" x=\"418\" y=\"-90.79\" font-family=\"Times,serif\" font-size=\"14.00\">18</text>\n</g>\n<!-- 0&#45;&#45;18 -->\n<g id=\"edge10\" class=\"edge\">\n<title>0&#45;&#45;18</title>\n<path fill=\"none\" stroke=\"black\" d=\"M542,-904.38C446.15,-900.72 0,-877.56 0,-762.97 0,-762.97 0,-762.97 0,-468.48 0,-307.39 33.16,-229.94 173,-149.99 248.47,-106.85 355.1,-97.85 398.49,-95.98\"/>\n</g>\n<!-- 4 -->\n<g id=\"node12\" class=\"node\">\n<title>4</title>\n<ellipse fill=\"none\" stroke=\"blue\" cx=\"636\" cy=\"-689.97\" rx=\"18\" ry=\"18\"/>\n<text text-anchor=\"middle\" x=\"636\" y=\"-686.27\" font-family=\"Times,serif\" font-size=\"14.00\">4</text>\n</g>\n<!-- 0&#45;&#45;4 -->\n<g id=\"edge2\" class=\"edge\">\n<title>0&#45;&#45;4</title>\n<path fill=\"none\" stroke=\"black\" d=\"M566.64,-888.81C570.87,-878.35 576.41,-864.42 581,-851.97 600.31,-799.59 621.09,-736.8 630.64,-707.52\"/>\n</g>\n<!-- 5 -->\n<g id=\"node13\" class=\"node\">\n<title>5</title>\n<ellipse fill=\"none\" stroke=\"blue\" cx=\"1090\" cy=\"-544.47\" rx=\"18\" ry=\"18\"/>\n<text text-anchor=\"middle\" x=\"1090\" y=\"-540.77\" font-family=\"Times,serif\" font-size=\"14.00\">5</text>\n</g>\n<!-- 0&#45;&#45;5 -->\n<g id=\"edge3\" class=\"edge\">\n<title>0&#45;&#45;5</title>\n<path fill=\"none\" stroke=\"black\" d=\"M574.58,-895.23C590.44,-884.62 616.55,-867.13 639,-851.97 811.21,-735.69 1019.67,-593.48 1075.61,-555.3\"/>\n</g>\n<!-- 7 -->\n<g id=\"node15\" class=\"node\">\n<title>7</title>\n<ellipse fill=\"none\" stroke=\"blue\" cx=\"582\" cy=\"-689.97\" rx=\"18\" ry=\"18\"/>\n<text text-anchor=\"middle\" x=\"582\" y=\"-686.27\" font-family=\"Times,serif\" font-size=\"14.00\">7</text>\n</g>\n<!-- 0&#45;&#45;7 -->\n<g id=\"edge4\" class=\"edge\">\n<title>0&#45;&#45;7</title>\n<path fill=\"none\" stroke=\"black\" d=\"M561.76,-887.82C565.89,-847.65 576.15,-747.86 580.26,-707.91\"/>\n</g>\n<!-- 8 -->\n<g id=\"node16\" class=\"node\">\n<title>8</title>\n<ellipse fill=\"none\" stroke=\"blue\" cx=\"824\" cy=\"-617.97\" rx=\"18\" ry=\"18\"/>\n<text text-anchor=\"middle\" x=\"824\" y=\"-614.27\" font-family=\"Times,serif\" font-size=\"14.00\">8</text>\n</g>\n<!-- 0&#45;&#45;8 -->\n<g id=\"edge5\" class=\"edge\">\n<title>0&#45;&#45;8</title>\n<path fill=\"none\" stroke=\"black\" d=\"M572.03,-891.94C616.11,-844.19 768.5,-679.1 812.2,-631.75\"/>\n</g>\n<!-- 16 -->\n<g id=\"node19\" class=\"node\">\n<title>16</title>\n<ellipse fill=\"none\" stroke=\"blue\" cx=\"1229\" cy=\"-244.49\" rx=\"19.5\" ry=\"19.5\"/>\n<text text-anchor=\"middle\" x=\"1229\" y=\"-240.79\" font-family=\"Times,serif\" font-size=\"14.00\">16</text>\n</g>\n<!-- 0&#45;&#45;16 -->\n<g id=\"edge9\" class=\"edge\">\n<title>0&#45;&#45;16</title>\n<path fill=\"none\" stroke=\"black\" d=\"M577.97,-902.45C680.54,-887.72 1191.34,-810.02 1307,-707.97 1388.56,-636.02 1366,-579.24 1366,-470.48 1366,-470.48 1366,-470.48 1366,-393.48 1366,-323.81 1283.22,-273.03 1246.35,-253.87\"/>\n</g>\n<!-- 19 -->\n<g id=\"node20\" class=\"node\">\n<title>19</title>\n<ellipse fill=\"none\" stroke=\"blue\" cx=\"579\" cy=\"-19.5\" rx=\"19.5\" ry=\"19.5\"/>\n<text text-anchor=\"middle\" x=\"579\" y=\"-15.8\" font-family=\"Times,serif\" font-size=\"14.00\">19</text>\n</g>\n<!-- 0&#45;&#45;19 -->\n<g id=\"edge11\" class=\"edge\">\n<title>0&#45;&#45;19</title>\n<path fill=\"none\" stroke=\"black\" d=\"M577.96,-904.16C706.4,-898.12 1480,-857.82 1480,-762.97 1480,-762.97 1480,-762.97 1480,-168.49 1480,-137.38 1569.38,-149.17 1321,-75 1179.91,-32.86 701.57,-22.55 598.62,-20.8\"/>\n</g>\n<!-- 3 -->\n<g id=\"node3\" class=\"node\">\n<title>3</title>\n<ellipse fill=\"none\" stroke=\"red\" cx=\"506\" cy=\"-761.97\" rx=\"18\" ry=\"18\"/>\n<text text-anchor=\"middle\" x=\"506\" y=\"-758.27\" font-family=\"Times,serif\" font-size=\"14.00\">3</text>\n</g>\n<!-- 2&#45;&#45;3 -->\n<g id=\"edge21\" class=\"edge\">\n<title>2&#45;&#45;3</title>\n<path fill=\"none\" stroke=\"black\" d=\"M469.53,-818.47C477.43,-806.45 488.59,-789.47 496.48,-777.46\"/>\n</g>\n<!-- 12 -->\n<g id=\"node7\" class=\"node\">\n<title>12</title>\n<ellipse fill=\"none\" stroke=\"red\" cx=\"605\" cy=\"-394.48\" rx=\"19.5\" ry=\"19.5\"/>\n<text text-anchor=\"middle\" x=\"605\" y=\"-390.78\" font-family=\"Times,serif\" font-size=\"14.00\">12</text>\n</g>\n<!-- 2&#45;&#45;12 -->\n<g id=\"edge23\" class=\"edge\">\n<title>2&#45;&#45;12</title>\n<path fill=\"none\" stroke=\"black\" d=\"M462.59,-815.98C465.6,-797.88 471.15,-768.5 479,-743.97 516.5,-626.75 552.35,-607.08 587,-488.98 594.49,-463.44 599.68,-433.04 602.5,-414\"/>\n</g>\n<!-- 2&#45;&#45;18 -->\n<g id=\"edge25\" class=\"edge\">\n<title>2&#45;&#45;18</title>\n<path fill=\"none\" stroke=\"black\" d=\"M443.25,-826.93C369.34,-799.08 76,-675.61 76,-470.48 76,-470.48 76,-470.48 76,-393.48 76,-266.61 123.88,-226.61 225,-149.99 278.56,-109.41 361.06,-99.04 398.42,-96.4\"/>\n</g>\n<!-- 2&#45;&#45;4 -->\n<g id=\"edge22\" class=\"edge\">\n<title>2&#45;&#45;4</title>\n<path fill=\"none\" stroke=\"black\" d=\"M474.53,-822.96C489.46,-812.56 513.24,-795.64 533,-779.97 566.34,-753.55 603.71,-720.28 622.97,-702.86\"/>\n</g>\n<!-- 14 -->\n<g id=\"node18\" class=\"node\">\n<title>14</title>\n<ellipse fill=\"none\" stroke=\"blue\" cx=\"579\" cy=\"-244.49\" rx=\"19.5\" ry=\"19.5\"/>\n<text text-anchor=\"middle\" x=\"579\" y=\"-240.79\" font-family=\"Times,serif\" font-size=\"14.00\">14</text>\n</g>\n<!-- 2&#45;&#45;14 -->\n<g id=\"edge24\" class=\"edge\">\n<title>2&#45;&#45;14</title>\n<path fill=\"none\" stroke=\"black\" d=\"M448.53,-819.78C407.48,-770.93 272.94,-595.56 323,-449.98 350.49,-370.03 372.24,-350.54 440,-299.99 477.6,-271.93 531.52,-256.3 559.88,-249.56\"/>\n</g>\n<!-- 2&#45;&#45;19 -->\n<g id=\"edge26\" class=\"edge\">\n<title>2&#45;&#45;19</title>\n<path fill=\"none\" stroke=\"black\" d=\"M442.3,-830.16C408.29,-824.27 332.05,-808.77 274,-779.97 226.22,-756.27 216.96,-744.39 178,-707.97 17.1,-557.57 0,-465.74 0,-245.49 0,-245.49 0,-245.49 0,-168.49 0,-50.34 458.26,-25.28 559.4,-21.19\"/>\n</g>\n<!-- 3&#45;&#45;9 -->\n<g id=\"edge29\" class=\"edge\">\n<title>3&#45;&#45;9</title>\n<path fill=\"none\" stroke=\"black\" d=\"M488.65,-755.87C466.9,-748.63 429.81,-733.35 408,-707.97 390.02,-687.05 381.86,-655.26 378.37,-635.88\"/>\n</g>\n<!-- 3&#45;&#45;11 -->\n<g id=\"edge30\" class=\"edge\">\n<title>3&#45;&#45;11</title>\n<path fill=\"none\" stroke=\"black\" d=\"M497.88,-745.76C471.35,-696.03 387.29,-538.48 359.79,-486.96\"/>\n</g>\n<!-- 3&#45;&#45;12 -->\n<g id=\"edge31\" class=\"edge\">\n<title>3&#45;&#45;12</title>\n<path fill=\"none\" stroke=\"black\" d=\"M501.76,-744.32C492.52,-704.86 473.52,-603.06 501,-524.98 518.9,-474.11 566.14,-428.46 590.31,-407.55\"/>\n</g>\n<!-- 3&#45;&#45;15 -->\n<g id=\"edge33\" class=\"edge\">\n<title>3&#45;&#45;15</title>\n<path fill=\"none\" stroke=\"black\" d=\"M488.49,-757.44C462.67,-751.41 414.18,-736.89 384,-707.97 310.12,-637.18 325.26,-590.56 313,-488.98 298.61,-369.72 309.21,-328 371,-224.99 380.25,-209.56 393.97,-194.25 404.2,-183.8\"/>\n</g>\n<!-- 17 -->\n<g id=\"node9\" class=\"node\">\n<title>17</title>\n<ellipse fill=\"none\" stroke=\"red\" cx=\"977\" cy=\"-469.48\" rx=\"19.5\" ry=\"19.5\"/>\n<text text-anchor=\"middle\" x=\"977\" y=\"-465.78\" font-family=\"Times,serif\" font-size=\"14.00\">17</text>\n</g>\n<!-- 3&#45;&#45;17 -->\n<g id=\"edge34\" class=\"edge\">\n<title>3&#45;&#45;17</title>\n<path fill=\"none\" stroke=\"black\" d=\"M523.49,-757.06C575.89,-744.84 735.12,-704.09 851,-635.97 893.98,-610.71 907.27,-603.99 937,-563.97 954.37,-540.59 965.97,-508.51 972.02,-488.66\"/>\n</g>\n<!-- 3&#45;&#45;4 -->\n<g id=\"edge27\" class=\"edge\">\n<title>3&#45;&#45;4</title>\n<path fill=\"none\" stroke=\"black\" d=\"M521.93,-753.31C542.37,-743.36 578.78,-725.22 609,-707.97 613.04,-705.67 617.34,-703.04 621.29,-700.56\"/>\n</g>\n<!-- 3&#45;&#45;7 -->\n<g id=\"edge28\" class=\"edge\">\n<title>3&#45;&#45;7</title>\n<path fill=\"none\" stroke=\"black\" d=\"M518.89,-749.1C532.87,-736.23 555.04,-715.8 569.04,-702.91\"/>\n</g>\n<!-- 13 -->\n<g id=\"node17\" class=\"node\">\n<title>13</title>\n<ellipse fill=\"none\" stroke=\"blue\" cx=\"901\" cy=\"-319.48\" rx=\"19.5\" ry=\"19.5\"/>\n<text text-anchor=\"middle\" x=\"901\" y=\"-315.78\" font-family=\"Times,serif\" font-size=\"14.00\">13</text>\n</g>\n<!-- 3&#45;&#45;13 -->\n<g id=\"edge32\" class=\"edge\">\n<title>3&#45;&#45;13</title>\n<path fill=\"none\" stroke=\"black\" d=\"M513.64,-745.53C542.4,-688.77 649.76,-489.12 791,-374.98 819.68,-351.81 859.83,-335.07 882.85,-326.65\"/>\n</g>\n<!-- 10 -->\n<g id=\"node5\" class=\"node\">\n<title>10</title>\n<ellipse fill=\"none\" stroke=\"red\" cx=\"529\" cy=\"-544.47\" rx=\"19.5\" ry=\"19.5\"/>\n<text text-anchor=\"middle\" x=\"529\" y=\"-540.77\" font-family=\"Times,serif\" font-size=\"14.00\">10</text>\n</g>\n<!-- 9&#45;&#45;10 -->\n<g id=\"edge58\" class=\"edge\">\n<title>9&#45;&#45;10</title>\n<path fill=\"none\" stroke=\"black\" d=\"M392.08,-609.46C421.09,-595.9 481.89,-567.49 511.73,-553.54\"/>\n</g>\n<!-- 9&#45;&#45;11 -->\n<g id=\"edge59\" class=\"edge\">\n<title>9&#45;&#45;11</title>\n<path fill=\"none\" stroke=\"black\" d=\"M373.13,-600.17C368.41,-572.51 359.04,-517.61 354.15,-488.92\"/>\n</g>\n<!-- 9&#45;&#45;19 -->\n<g id=\"edge60\" class=\"edge\">\n<title>9&#45;&#45;19</title>\n<path fill=\"none\" stroke=\"black\" d=\"M362.66,-605.7C314.44,-563.61 152,-409.67 152,-245.49 152,-245.49 152,-245.49 152,-168.49 152,-81.01 476.01,-33.64 559.54,-22.88\"/>\n</g>\n<!-- 10&#45;&#45;11 -->\n<g id=\"edge61\" class=\"edge\">\n<title>10&#45;&#45;11</title>\n<path fill=\"none\" stroke=\"black\" d=\"M510.32,-537.47C482.35,-528.24 428.14,-509.5 384,-488.98 378.52,-486.43 372.72,-483.32 367.53,-480.39\"/>\n</g>\n<!-- 10&#45;&#45;12 -->\n<g id=\"edge62\" class=\"edge\">\n<title>10&#45;&#45;12</title>\n<path fill=\"none\" stroke=\"black\" d=\"M539.78,-528.13C547.07,-517.42 556.67,-502.65 564,-488.98 577.73,-463.36 590.7,-432.19 598.24,-413.1\"/>\n</g>\n<!-- 10&#45;&#45;15 -->\n<g id=\"edge64\" class=\"edge\">\n<title>10&#45;&#45;15</title>\n<path fill=\"none\" stroke=\"black\" d=\"M516.69,-529.14C508.29,-518.65 497.54,-503.74 491,-488.98 443.43,-381.62 425.06,-239.65 419.77,-189.23\"/>\n</g>\n<!-- 10&#45;&#45;17 -->\n<g id=\"edge65\" class=\"edge\">\n<title>10&#45;&#45;17</title>\n<path fill=\"none\" stroke=\"black\" d=\"M548.25,-540.34C621.77,-528.36 884.42,-485.56 957.82,-473.6\"/>\n</g>\n<!-- 10&#45;&#45;18 -->\n<g id=\"edge66\" class=\"edge\">\n<title>10&#45;&#45;18</title>\n<path fill=\"none\" stroke=\"black\" d=\"M513.95,-531.75C501.51,-521.49 484,-505.64 472,-488.98 407.41,-399.27 390.14,-371.86 366,-263.99 353.16,-206.63 388.83,-140.53 407.47,-111.07\"/>\n</g>\n<!-- 10&#45;&#45;14 -->\n<g id=\"edge63\" class=\"edge\">\n<title>10&#45;&#45;14</title>\n<path fill=\"none\" stroke=\"black\" d=\"M517.45,-528.21C510.3,-517.77 501.79,-503.29 498,-488.98 493.57,-472.22 494.82,-467.02 498,-449.98 511.73,-376.41 551.92,-295.62 570,-261.8\"/>\n</g>\n<!-- 11&#45;&#45;12 -->\n<g id=\"edge67\" class=\"edge\">\n<title>11&#45;&#45;12</title>\n<path fill=\"none\" stroke=\"black\" d=\"M369.68,-463.11C416.65,-449.61 539.29,-414.36 586.3,-400.86\"/>\n</g>\n<!-- 11&#45;&#45;18 -->\n<g id=\"edge69\" class=\"edge\">\n<title>11&#45;&#45;18</title>\n<path fill=\"none\" stroke=\"black\" d=\"M334.79,-458.13C320.85,-448.4 301.26,-432.56 290,-413.98 228.56,-312.61 182.47,-246 252,-149.99 286.16,-102.82 362.45,-95.75 398.47,-95.17\"/>\n</g>\n<!-- 11&#45;&#45;14 -->\n<g id=\"edge68\" class=\"edge\">\n<title>11&#45;&#45;14</title>\n<path fill=\"none\" stroke=\"black\" d=\"M362.77,-453.74C371.46,-442.81 383.55,-427.53 394,-413.98 432.77,-363.73 432.03,-341.54 480,-299.99 505.06,-278.28 540.18,-261.48 561.15,-252.57\"/>\n</g>\n<!-- 12&#45;&#45;18 -->\n<g id=\"edge71\" class=\"edge\">\n<title>12&#45;&#45;18</title>\n<path fill=\"none\" stroke=\"black\" d=\"M594.95,-377.46C562.48,-325.72 460.64,-163.45 428.1,-111.6\"/>\n</g>\n<!-- 12&#45;&#45;13 -->\n<g id=\"edge70\" class=\"edge\">\n<title>12&#45;&#45;13</title>\n<path fill=\"none\" stroke=\"black\" d=\"M623.97,-388.8C677.43,-375.62 828.92,-338.26 882.19,-325.12\"/>\n</g>\n<!-- 15&#45;&#45;18 -->\n<g id=\"edge76\" class=\"edge\">\n<title>15&#45;&#45;18</title>\n<path fill=\"none\" stroke=\"black\" d=\"M418,-149.69C418,-138.79 418,-125.12 418,-114.23\"/>\n</g>\n<!-- 17&#45;&#45;18 -->\n<g id=\"edge78\" class=\"edge\">\n<title>17&#45;&#45;18</title>\n<path fill=\"none\" stroke=\"black\" d=\"M994.53,-460.59C1032.72,-442.07 1120,-391.94 1120,-320.48 1120,-320.48 1120,-320.48 1120,-243.49 1120,-182.64 1075.53,-174.86 1020,-149.99 912.25,-101.74 528.87,-96.21 437.6,-95.58\"/>\n</g>\n<!-- 18&#45;&#45;19 -->\n<g id=\"edge79\" class=\"edge\">\n<title>18&#45;&#45;19</title>\n<path fill=\"none\" stroke=\"black\" d=\"M435.54,-85.54C466.51,-71.5 530.53,-42.47 561.49,-28.44\"/>\n</g>\n<!-- 1 -->\n<g id=\"node11\" class=\"node\">\n<title>1</title>\n<ellipse fill=\"none\" stroke=\"blue\" cx=\"1060\" cy=\"-761.97\" rx=\"18\" ry=\"18\"/>\n<text text-anchor=\"middle\" x=\"1060\" y=\"-758.27\" font-family=\"Times,serif\" font-size=\"14.00\">1</text>\n</g>\n<!-- 1&#45;&#45;10 -->\n<g id=\"edge14\" class=\"edge\">\n<title>1&#45;&#45;10</title>\n<path fill=\"none\" stroke=\"black\" d=\"M1042.51,-757.52C1006.04,-750.13 919.4,-731.48 849,-707.97 770.78,-681.85 751.44,-673.48 678,-635.97 627.87,-610.37 571.93,-574.2 545.08,-556.33\"/>\n</g>\n<!-- 1&#45;&#45;12 -->\n<g id=\"edge15\" class=\"edge\">\n<title>1&#45;&#45;12</title>\n<path fill=\"none\" stroke=\"black\" d=\"M1042.72,-756.34C1014.1,-748.36 955.43,-730.66 909,-707.97 855.83,-682 841.07,-675.47 797,-635.97 734.41,-579.87 730.31,-554.77 678,-488.98 656.08,-461.41 630.88,-428.96 616.55,-410.44\"/>\n</g>\n<!-- 1&#45;&#45;17 -->\n<g id=\"edge19\" class=\"edge\">\n<title>1&#45;&#45;17</title>\n<path fill=\"none\" stroke=\"black\" d=\"M1059.95,-743.84C1059.25,-703.77 1053.99,-601.5 1020,-524.98 1013.05,-509.34 1000.58,-494.28 990.85,-483.97\"/>\n</g>\n<!-- 6 -->\n<g id=\"node14\" class=\"node\">\n<title>6</title>\n<ellipse fill=\"none\" stroke=\"blue\" cx=\"1236\" cy=\"-689.97\" rx=\"18\" ry=\"18\"/>\n<text text-anchor=\"middle\" x=\"1236\" y=\"-686.27\" font-family=\"Times,serif\" font-size=\"14.00\">6</text>\n</g>\n<!-- 1&#45;&#45;6 -->\n<g id=\"edge12\" class=\"edge\">\n<title>1&#45;&#45;6</title>\n<path fill=\"none\" stroke=\"black\" d=\"M1076.56,-754.39C1110.19,-741.01 1186.13,-710.81 1219.61,-697.49\"/>\n</g>\n<!-- 1&#45;&#45;8 -->\n<g id=\"edge13\" class=\"edge\">\n<title>1&#45;&#45;8</title>\n<path fill=\"none\" stroke=\"black\" d=\"M1044.88,-751.87C1002.25,-726.23 881.47,-653.55 839,-628\"/>\n</g>\n<!-- 1&#45;&#45;13 -->\n<g id=\"edge16\" class=\"edge\">\n<title>1&#45;&#45;13</title>\n<path fill=\"none\" stroke=\"black\" d=\"M1069.6,-746.61C1093.5,-708.94 1151.32,-604.73 1117,-524.98 1074.95,-427.26 960.71,-354.39 917.69,-329.66\"/>\n</g>\n<!-- 1&#45;&#45;14 -->\n<g id=\"edge17\" class=\"edge\">\n<title>1&#45;&#45;14</title>\n<path fill=\"none\" stroke=\"black\" d=\"M1055.45,-744.4C1036.15,-677.3 954.38,-423.44 791,-299.99 731.57,-255.08 638.87,-246.99 598.68,-245.67\"/>\n</g>\n<!-- 1&#45;&#45;16 -->\n<g id=\"edge18\" class=\"edge\">\n<title>1&#45;&#45;16</title>\n<path fill=\"none\" stroke=\"black\" d=\"M1078,-759.95C1138.09,-755.5 1328,-732.44 1328,-618.97 1328,-618.97 1328,-618.97 1328,-393.48 1328,-333.82 1271.73,-280 1244.04,-257.13\"/>\n</g>\n<!-- 1&#45;&#45;19 -->\n<g id=\"edge20\" class=\"edge\">\n<title>1&#45;&#45;19</title>\n<path fill=\"none\" stroke=\"black\" d=\"M1078.22,-761.02C1121.24,-760.33 1231.22,-753.86 1307,-707.97 1387.32,-659.34 1442,-639.37 1442,-545.47 1442,-545.47 1442,-545.47 1442,-168.49 1442,-116.89 1684.54,-180.71 1221,-75 980.52,-20.16 678.01,-19.36 598.74,-20.19\"/>\n</g>\n<!-- 4&#45;&#45;8 -->\n<g id=\"edge35\" class=\"edge\">\n<title>4&#45;&#45;8</title>\n<path fill=\"none\" stroke=\"black\" d=\"M653.19,-684.12C682.29,-675.69 742.9,-657.19 792,-635.97 797.54,-633.58 803.43,-630.59 808.62,-627.79\"/>\n</g>\n<!-- 4&#45;&#45;14 -->\n<g id=\"edge36\" class=\"edge\">\n<title>4&#45;&#45;14</title>\n<path fill=\"none\" stroke=\"black\" d=\"M631.17,-672.43C619.04,-629.98 587.56,-513.52 577,-413.98 575.17,-396.74 576.87,-392.31 577,-374.98 577.3,-335.64 578.13,-289.57 578.62,-264.36\"/>\n</g>\n<!-- 4&#45;&#45;16 -->\n<g id=\"edge37\" class=\"edge\">\n<title>4&#45;&#45;16</title>\n<path fill=\"none\" stroke=\"black\" d=\"M654.29,-689.16C725.01,-689 984.72,-680.15 1149,-563.97 1236.8,-501.88 1228.09,-446.06 1238,-338.98 1239.6,-321.72 1239.42,-317.26 1238,-299.99 1237,-287.85 1234.78,-274.34 1232.79,-263.81\"/>\n</g>\n<!-- 5&#45;&#45;15 -->\n<g id=\"edge39\" class=\"edge\">\n<title>5&#45;&#45;15</title>\n<path fill=\"none\" stroke=\"black\" d=\"M1087.04,-526.41C1078.06,-480.5 1046.55,-354.2 964,-299.99 785.47,-182.73 512.25,-171.34 437.49,-170.48\"/>\n</g>\n<!-- 5&#45;&#45;17 -->\n<g id=\"edge41\" class=\"edge\">\n<title>5&#45;&#45;17</title>\n<path fill=\"none\" stroke=\"black\" d=\"M1075.23,-533.93C1054.05,-520.25 1015.2,-495.15 993.24,-480.97\"/>\n</g>\n<!-- 5&#45;&#45;14 -->\n<g id=\"edge38\" class=\"edge\">\n<title>5&#45;&#45;14</title>\n<path fill=\"none\" stroke=\"black\" d=\"M1078.93,-529.86C1070.24,-518.99 1057.98,-503.28 1048,-488.98 991.2,-407.58 1011.94,-354.52 929,-299.99 873.76,-263.67 664.44,-249.91 598.81,-246.44\"/>\n</g>\n<!-- 5&#45;&#45;16 -->\n<g id=\"edge40\" class=\"edge\">\n<title>5&#45;&#45;16</title>\n<path fill=\"none\" stroke=\"black\" d=\"M1095.38,-527.01C1111.16,-479.15 1157.69,-340.87 1182,-299.99 1191.2,-284.52 1204.92,-269.21 1215.16,-258.77\"/>\n</g>\n<!-- 6&#45;&#45;8 -->\n<g id=\"edge42\" class=\"edge\">\n<title>6&#45;&#45;8</title>\n<path fill=\"none\" stroke=\"black\" d=\"M1218.3,-685.96C1150.68,-674.48 909.14,-633.44 841.64,-621.97\"/>\n</g>\n<!-- 6&#45;&#45;13 -->\n<g id=\"edge43\" class=\"edge\">\n<title>6&#45;&#45;13</title>\n<path fill=\"none\" stroke=\"black\" d=\"M1234.81,-671.99C1230.9,-629 1214.83,-514.64 1152,-449.98 1082.46,-378.41 964.87,-338.8 919.57,-325.56\"/>\n</g>\n<!-- 6&#45;&#45;19 -->\n<g id=\"edge44\" class=\"edge\">\n<title>6&#45;&#45;19</title>\n<path fill=\"none\" stroke=\"black\" d=\"M1250.91,-679.7C1292.02,-652.83 1404,-570.48 1404,-470.48 1404,-470.48 1404,-470.48 1404,-168.49 1404,-83.91 723.51,-30.89 598.58,-21.87\"/>\n</g>\n<!-- 7&#45;&#45;10 -->\n<g id=\"edge46\" class=\"edge\">\n<title>7&#45;&#45;10</title>\n<path fill=\"none\" stroke=\"black\" d=\"M575.19,-673.31C570.7,-662.81 564.8,-648.64 560,-635.97 550.54,-610.96 540.72,-581.62 534.73,-563.28\"/>\n</g>\n<!-- 7&#45;&#45;15 -->\n<g id=\"edge48\" class=\"edge\">\n<title>7&#45;&#45;15</title>\n<path fill=\"none\" stroke=\"black\" d=\"M565.36,-682.44C516.86,-662.35 375.73,-596.31 323,-488.98 295.52,-433.04 382.05,-244.76 409.75,-187.29\"/>\n</g>\n<!-- 7&#45;&#45;8 -->\n<g id=\"edge45\" class=\"edge\">\n<title>7&#45;&#45;8</title>\n<path fill=\"none\" stroke=\"black\" d=\"M596.33,-678.59C600.28,-676.11 604.68,-673.69 609,-671.97 686.04,-641.37 713.89,-663.72 792,-635.97 797.69,-633.95 803.61,-631.06 808.79,-628.22\"/>\n</g>\n<!-- 7&#45;&#45;13 -->\n<g id=\"edge47\" class=\"edge\">\n<title>7&#45;&#45;13</title>\n<path fill=\"none\" stroke=\"black\" d=\"M596.4,-678.75C600.35,-676.27 604.72,-673.81 609,-671.97 668.84,-646.31 704.01,-681.04 751,-635.97 781.29,-606.92 778,-587.45 778,-545.47 778,-545.47 778,-545.47 778,-468.48 778,-402.66 850.84,-350.5 884.41,-329.96\"/>\n</g>\n<!-- 7&#45;&#45;16 -->\n<g id=\"edge49\" class=\"edge\">\n<title>7&#45;&#45;16</title>\n<path fill=\"none\" stroke=\"black\" d=\"M596,-678.63C600.02,-676.09 604.53,-673.63 609,-671.97 710.97,-634.2 744.27,-656.76 851,-635.97 984.74,-609.92 1027.96,-626.54 1149,-563.97 1194.05,-540.68 1210.41,-533.33 1235,-488.98 1275.89,-415.22 1268.73,-382.65 1252,-299.99 1249.31,-286.7 1243.28,-272.63 1238.07,-262.11\"/>\n</g>\n<!-- 7&#45;&#45;19 -->\n<g id=\"edge50\" class=\"edge\">\n<title>7&#45;&#45;19</title>\n<path fill=\"none\" stroke=\"black\" d=\"M563.84,-688.27C522.93,-685.98 421.49,-676.33 349,-635.97 143.27,-521.43 57.4,-371.24 138,-149.99 152.9,-109.09 162.96,-96.16 201,-75 263.72,-40.11 490.71,-25.25 559.26,-21.5\"/>\n</g>\n<!-- 8&#45;&#45;10 -->\n<g id=\"edge51\" class=\"edge\">\n<title>8&#45;&#45;10</title>\n<path fill=\"none\" stroke=\"black\" d=\"M806.43,-612.71C754.46,-600.12 601.75,-563.11 547.99,-550.08\"/>\n</g>\n<!-- 8&#45;&#45;12 -->\n<g id=\"edge52\" class=\"edge\">\n<title>8&#45;&#45;12</title>\n<path fill=\"none\" stroke=\"black\" d=\"M813.53,-603.12C790.69,-573.35 733.96,-501.78 678,-449.98 659.66,-433 636.15,-416.22 620.84,-405.86\"/>\n</g>\n<!-- 8&#45;&#45;17 -->\n<g id=\"edge56\" class=\"edge\">\n<title>8&#45;&#45;17</title>\n<path fill=\"none\" stroke=\"black\" d=\"M839.63,-609.02C857.01,-599.71 885.36,-583.1 906,-563.97 931.56,-540.28 954.65,-506.52 967.17,-486.72\"/>\n</g>\n<!-- 8&#45;&#45;18 -->\n<g id=\"edge57\" class=\"edge\">\n<title>8&#45;&#45;18</title>\n<path fill=\"none\" stroke=\"black\" d=\"M835.11,-603.33C874.63,-554.26 1006,-386.17 1006,-320.48 1006,-320.48 1006,-320.48 1006,-243.49 1006,-123.48 539.59,-99.85 437.56,-96.11\"/>\n</g>\n<!-- 8&#45;&#45;13 -->\n<g id=\"edge53\" class=\"edge\">\n<title>8&#45;&#45;13</title>\n<path fill=\"none\" stroke=\"black\" d=\"M828.36,-600.18C841.79,-548.49 882.43,-392 896.3,-338.58\"/>\n</g>\n<!-- 8&#45;&#45;14 -->\n<g id=\"edge54\" class=\"edge\">\n<title>8&#45;&#45;14</title>\n<path fill=\"none\" stroke=\"black\" d=\"M822.46,-599.85C820.13,-572.52 816,-517.34 816,-470.48 816,-470.48 816,-470.48 816,-393.48 816,-291.13 655,-256.96 598.39,-248.11\"/>\n</g>\n<!-- 8&#45;&#45;16 -->\n<g id=\"edge55\" class=\"edge\">\n<title>8&#45;&#45;16</title>\n<path fill=\"none\" stroke=\"black\" d=\"M838.82,-607.71C844.07,-604.8 850.13,-601.87 856,-599.97 967.42,-563.95 1026.31,-638.04 1117,-563.97 1212.78,-485.74 1226.76,-320.11 1228.71,-264.3\"/>\n</g>\n<!-- 13&#45;&#45;14 -->\n<g id=\"edge72\" class=\"edge\">\n<title>13&#45;&#45;14</title>\n<path fill=\"none\" stroke=\"black\" d=\"M885.05,-308.17C879.79,-305.15 873.8,-302.1 868,-299.99 770.59,-264.58 645.94,-251.06 598.51,-246.98\"/>\n</g>\n<!-- 13&#45;&#45;16 -->\n<g id=\"edge73\" class=\"edge\">\n<title>13&#45;&#45;16</title>\n<path fill=\"none\" stroke=\"black\" d=\"M920.05,-314.24C978.02,-301.34 1151.85,-262.66 1209.9,-249.74\"/>\n</g>\n<!-- 14&#45;&#45;15 -->\n<g id=\"edge74\" class=\"edge\">\n<title>14&#45;&#45;15</title>\n<path fill=\"none\" stroke=\"black\" d=\"M561.46,-235.54C530.49,-221.5 466.47,-192.47 435.51,-178.43\"/>\n</g>\n<!-- 14&#45;&#45;19 -->\n<g id=\"edge75\" class=\"edge\">\n<title>14&#45;&#45;19</title>\n<path fill=\"none\" stroke=\"black\" d=\"M579,-224.86C579,-182.89 579,-81.3 579,-39.23\"/>\n</g>\n<!-- 16&#45;&#45;19 -->\n<g id=\"edge77\" class=\"edge\">\n<title>16&#45;&#45;19</title>\n<path fill=\"none\" stroke=\"black\" d=\"M1217.97,-228.27C1201.92,-207.3 1170.08,-169.86 1134,-149.99 944.19,-45.48 672.97,-25.01 598.53,-21.28\"/>\n</g>\n</g>\n</svg>\n",
            "text/plain": [
              "<graphviz.graphs.Graph at 0x792d74586c10>"
            ]
          },
          "metadata": {}
        },
        {
          "output_type": "display_data",
          "data": {
            "image/svg+xml": "<?xml version=\"1.0\" encoding=\"UTF-8\" standalone=\"no\"?>\n<!DOCTYPE svg PUBLIC \"-//W3C//DTD SVG 1.1//EN\"\n \"http://www.w3.org/Graphics/SVG/1.1/DTD/svg11.dtd\">\n<!-- Generated by graphviz version 2.43.0 (0)\n -->\n<!-- Title: %3 Pages: 1 -->\n<svg width=\"1488pt\" height=\"932pt\"\n viewBox=\"0.00 0.00 1488.00 931.97\" xmlns=\"http://www.w3.org/2000/svg\" xmlns:xlink=\"http://www.w3.org/1999/xlink\">\n<g id=\"graph0\" class=\"graph\" transform=\"scale(1 1) rotate(0) translate(4 927.97)\">\n<title>%3</title>\n<polygon fill=\"white\" stroke=\"transparent\" points=\"-4,4 -4,-927.97 1484,-927.97 1484,4 -4,4\"/>\n<!-- 1 -->\n<g id=\"node1\" class=\"node\">\n<title>1</title>\n<ellipse fill=\"none\" stroke=\"red\" cx=\"342\" cy=\"-761.97\" rx=\"18\" ry=\"18\"/>\n<text text-anchor=\"middle\" x=\"342\" y=\"-758.27\" font-family=\"Times,serif\" font-size=\"14.00\">1</text>\n</g>\n<!-- 6 -->\n<g id=\"node2\" class=\"node\">\n<title>6</title>\n<ellipse fill=\"none\" stroke=\"red\" cx=\"243\" cy=\"-689.97\" rx=\"18\" ry=\"18\"/>\n<text text-anchor=\"middle\" x=\"243\" y=\"-686.27\" font-family=\"Times,serif\" font-size=\"14.00\">6</text>\n</g>\n<!-- 1&#45;&#45;6 -->\n<g id=\"edge12\" class=\"edge\">\n<title>1&#45;&#45;6</title>\n<path fill=\"none\" stroke=\"black\" d=\"M327.39,-750.64C308.57,-737.33 276.04,-714.34 257.35,-701.12\"/>\n</g>\n<!-- 8 -->\n<g id=\"node3\" class=\"node\">\n<title>8</title>\n<ellipse fill=\"none\" stroke=\"red\" cx=\"475\" cy=\"-617.97\" rx=\"18\" ry=\"18\"/>\n<text text-anchor=\"middle\" x=\"475\" y=\"-614.27\" font-family=\"Times,serif\" font-size=\"14.00\">8</text>\n</g>\n<!-- 1&#45;&#45;8 -->\n<g id=\"edge13\" class=\"edge\">\n<title>1&#45;&#45;8</title>\n<path fill=\"none\" stroke=\"black\" d=\"M353.8,-748.37C378.98,-721.49 437.71,-658.78 463.03,-631.75\"/>\n</g>\n<!-- 10 -->\n<g id=\"node4\" class=\"node\">\n<title>10</title>\n<ellipse fill=\"none\" stroke=\"red\" cx=\"885\" cy=\"-544.47\" rx=\"19.5\" ry=\"19.5\"/>\n<text text-anchor=\"middle\" x=\"885\" y=\"-540.77\" font-family=\"Times,serif\" font-size=\"14.00\">10</text>\n</g>\n<!-- 1&#45;&#45;10 -->\n<g id=\"edge14\" class=\"edge\">\n<title>1&#45;&#45;10</title>\n<path fill=\"none\" stroke=\"black\" d=\"M360.33,-760.5C431.66,-758.37 690.19,-748 760,-707.97 820.37,-673.36 861.43,-596.84 877.47,-562.61\"/>\n</g>\n<!-- 12 -->\n<g id=\"node6\" class=\"node\">\n<title>12</title>\n<ellipse fill=\"none\" stroke=\"red\" cx=\"883\" cy=\"-394.48\" rx=\"19.5\" ry=\"19.5\"/>\n<text text-anchor=\"middle\" x=\"883\" y=\"-390.78\" font-family=\"Times,serif\" font-size=\"14.00\">12</text>\n</g>\n<!-- 1&#45;&#45;12 -->\n<g id=\"edge15\" class=\"edge\">\n<title>1&#45;&#45;12</title>\n<path fill=\"none\" stroke=\"black\" d=\"M360.04,-760.67C427.89,-759.21 666.97,-751.04 727,-707.97 780.21,-669.8 854.69,-473.58 876.66,-413.19\"/>\n</g>\n<!-- 13 -->\n<g id=\"node7\" class=\"node\">\n<title>13</title>\n<ellipse fill=\"none\" stroke=\"red\" cx=\"427\" cy=\"-319.48\" rx=\"19.5\" ry=\"19.5\"/>\n<text text-anchor=\"middle\" x=\"427\" y=\"-315.78\" font-family=\"Times,serif\" font-size=\"14.00\">13</text>\n</g>\n<!-- 1&#45;&#45;13 -->\n<g id=\"edge16\" class=\"edge\">\n<title>1&#45;&#45;13</title>\n<path fill=\"none\" stroke=\"black\" d=\"M336.47,-744.48C333.29,-734.13 329.62,-720.43 328,-707.97 317.53,-627.32 309.82,-604.25 328,-524.98 345.37,-449.24 394.63,-368.97 416.42,-335.99\"/>\n</g>\n<!-- 14 -->\n<g id=\"node8\" class=\"node\">\n<title>14</title>\n<ellipse fill=\"none\" stroke=\"red\" cx=\"763\" cy=\"-244.49\" rx=\"19.5\" ry=\"19.5\"/>\n<text text-anchor=\"middle\" x=\"763\" y=\"-240.79\" font-family=\"Times,serif\" font-size=\"14.00\">14</text>\n</g>\n<!-- 1&#45;&#45;14 -->\n<g id=\"edge17\" class=\"edge\">\n<title>1&#45;&#45;14</title>\n<path fill=\"none\" stroke=\"black\" d=\"M341.49,-743.94C339.59,-668.42 336.03,-364.59 399,-299.99 447.28,-250.45 674.24,-245.72 743.12,-245.44\"/>\n</g>\n<!-- 17 -->\n<g id=\"node9\" class=\"node\">\n<title>17</title>\n<ellipse fill=\"none\" stroke=\"red\" cx=\"579\" cy=\"-469.48\" rx=\"19.5\" ry=\"19.5\"/>\n<text text-anchor=\"middle\" x=\"579\" y=\"-465.78\" font-family=\"Times,serif\" font-size=\"14.00\">17</text>\n</g>\n<!-- 1&#45;&#45;17 -->\n<g id=\"edge19\" class=\"edge\">\n<title>1&#45;&#45;17</title>\n<path fill=\"none\" stroke=\"black\" d=\"M357.68,-752.26C388.9,-734.23 459.47,-689.97 502,-635.97 539.26,-588.67 563.63,-520.42 573.71,-488.37\"/>\n</g>\n<!-- 16 -->\n<g id=\"node19\" class=\"node\">\n<title>16</title>\n<ellipse fill=\"none\" stroke=\"blue\" cx=\"209\" cy=\"-244.49\" rx=\"19.5\" ry=\"19.5\"/>\n<text text-anchor=\"middle\" x=\"209\" y=\"-240.79\" font-family=\"Times,serif\" font-size=\"14.00\">16</text>\n</g>\n<!-- 1&#45;&#45;16 -->\n<g id=\"edge18\" class=\"edge\">\n<title>1&#45;&#45;16</title>\n<path fill=\"none\" stroke=\"black\" d=\"M323.72,-759.87C263.62,-755.18 76,-731.52 76,-618.97 76,-618.97 76,-618.97 76,-543.47 76,-429.43 98.21,-397.72 157,-299.99 166.98,-283.4 182.8,-267.78 194.37,-257.55\"/>\n</g>\n<!-- 19 -->\n<g id=\"node20\" class=\"node\">\n<title>19</title>\n<ellipse fill=\"none\" stroke=\"blue\" cx=\"967\" cy=\"-19.5\" rx=\"19.5\" ry=\"19.5\"/>\n<text text-anchor=\"middle\" x=\"967\" y=\"-15.8\" font-family=\"Times,serif\" font-size=\"14.00\">19</text>\n</g>\n<!-- 1&#45;&#45;19 -->\n<g id=\"edge20\" class=\"edge\">\n<title>1&#45;&#45;19</title>\n<path fill=\"none\" stroke=\"black\" d=\"M323.92,-759.05C272.88,-753.33 128.95,-735.11 91,-707.97 53.55,-681.19 38,-665.01 38,-618.97 38,-618.97 38,-618.97 38,-468.48 38,-367.94 0,-346.02 0,-245.49 0,-245.49 0,-245.49 0,-168.49 0,-77.16 95,-99.43 183,-75 333.36,-33.24 840.99,-22.59 947.35,-20.8\"/>\n</g>\n<!-- 6&#45;&#45;8 -->\n<g id=\"edge42\" class=\"edge\">\n<title>6&#45;&#45;8</title>\n<path fill=\"none\" stroke=\"black\" d=\"M260.06,-683.83C302.96,-670.88 414.98,-637.08 457.92,-624.13\"/>\n</g>\n<!-- 6&#45;&#45;13 -->\n<g id=\"edge43\" class=\"edge\">\n<title>6&#45;&#45;13</title>\n<path fill=\"none\" stroke=\"black\" d=\"M240.04,-671.8C235.67,-644.94 228,-591.31 228,-545.47 228,-545.47 228,-545.47 228,-468.48 228,-379.35 358.11,-337.6 407.92,-324.88\"/>\n</g>\n<!-- 6&#45;&#45;19 -->\n<g id=\"edge44\" class=\"edge\">\n<title>6&#45;&#45;19</title>\n<path fill=\"none\" stroke=\"black\" d=\"M225.71,-683.87C204.54,-676.7 169.13,-661.58 150,-635.97 63.81,-520.59 76,-464.51 76,-320.48 76,-320.48 76,-320.48 76,-168.49 76,-76.96 817.26,-29.28 947.56,-21.61\"/>\n</g>\n<!-- 8&#45;&#45;10 -->\n<g id=\"edge51\" class=\"edge\">\n<title>8&#45;&#45;10</title>\n<path fill=\"none\" stroke=\"black\" d=\"M492.91,-614.18C541.24,-606.58 678.38,-584.76 792,-563.97 817.59,-559.29 847.01,-553.34 865.8,-549.47\"/>\n</g>\n<!-- 8&#45;&#45;12 -->\n<g id=\"edge52\" class=\"edge\">\n<title>8&#45;&#45;12</title>\n<path fill=\"none\" stroke=\"black\" d=\"M493.2,-617.28C536.13,-617.14 645.64,-611.79 719,-563.97 771.5,-529.75 756.87,-493.46 802,-449.98 821.65,-431.04 848.62,-414.37 865.93,-404.6\"/>\n</g>\n<!-- 8&#45;&#45;13 -->\n<g id=\"edge53\" class=\"edge\">\n<title>8&#45;&#45;13</title>\n<path fill=\"none\" stroke=\"black\" d=\"M463.98,-603.53C456.32,-593.34 446.68,-578.63 442,-563.97 416.29,-483.49 421.54,-380.57 425.11,-339.07\"/>\n</g>\n<!-- 8&#45;&#45;14 -->\n<g id=\"edge54\" class=\"edge\">\n<title>8&#45;&#45;14</title>\n<path fill=\"none\" stroke=\"black\" d=\"M480.42,-600.74C486.8,-582.15 498.05,-550.89 510,-524.98 561.37,-413.54 577.36,-380.44 670,-299.99 693.46,-279.62 725.6,-262.75 745.3,-253.41\"/>\n</g>\n<!-- 8&#45;&#45;17 -->\n<g id=\"edge56\" class=\"edge\">\n<title>8&#45;&#45;17</title>\n<path fill=\"none\" stroke=\"black\" d=\"M484.97,-602.93C504.49,-575.43 547.62,-514.67 567.97,-486.02\"/>\n</g>\n<!-- 18 -->\n<g id=\"node10\" class=\"node\">\n<title>18</title>\n<ellipse fill=\"none\" stroke=\"red\" cx=\"967\" cy=\"-94.49\" rx=\"19.5\" ry=\"19.5\"/>\n<text text-anchor=\"middle\" x=\"967\" y=\"-90.79\" font-family=\"Times,serif\" font-size=\"14.00\">18</text>\n</g>\n<!-- 8&#45;&#45;18 -->\n<g id=\"edge57\" class=\"edge\">\n<title>8&#45;&#45;18</title>\n<path fill=\"none\" stroke=\"black\" d=\"M460.12,-607.78C418.52,-580.79 304,-497.26 304,-395.48 304,-395.48 304,-395.48 304,-243.49 304,-108.01 838,-96.5 947.52,-95.57\"/>\n</g>\n<!-- 8&#45;&#45;16 -->\n<g id=\"edge55\" class=\"edge\">\n<title>8&#45;&#45;16</title>\n<path fill=\"none\" stroke=\"black\" d=\"M457.54,-613.57C407.31,-602.68 266,-563.75 266,-470.48 266,-470.48 266,-470.48 266,-393.48 266,-342.27 235.91,-287.35 219.45,-261.15\"/>\n</g>\n<!-- 11 -->\n<g id=\"node5\" class=\"node\">\n<title>11</title>\n<ellipse fill=\"none\" stroke=\"red\" cx=\"1053\" cy=\"-469.48\" rx=\"19.5\" ry=\"19.5\"/>\n<text text-anchor=\"middle\" x=\"1053\" y=\"-465.78\" font-family=\"Times,serif\" font-size=\"14.00\">11</text>\n</g>\n<!-- 10&#45;&#45;11 -->\n<g id=\"edge61\" class=\"edge\">\n<title>10&#45;&#45;11</title>\n<path fill=\"none\" stroke=\"black\" d=\"M902.66,-535.8C934.93,-521.78 1003.05,-492.18 1035.32,-478.16\"/>\n</g>\n<!-- 10&#45;&#45;12 -->\n<g id=\"edge62\" class=\"edge\">\n<title>10&#45;&#45;12</title>\n<path fill=\"none\" stroke=\"black\" d=\"M884.75,-524.73C884.36,-496.26 883.63,-442.45 883.25,-414.07\"/>\n</g>\n<!-- 10&#45;&#45;14 -->\n<g id=\"edge63\" class=\"edge\">\n<title>10&#45;&#45;14</title>\n<path fill=\"none\" stroke=\"black\" d=\"M877.91,-526.17C856.35,-473.5 791.69,-315.57 770.11,-262.84\"/>\n</g>\n<!-- 10&#45;&#45;17 -->\n<g id=\"edge65\" class=\"edge\">\n<title>10&#45;&#45;17</title>\n<path fill=\"none\" stroke=\"black\" d=\"M865.86,-538.91C810.77,-525.77 652.33,-487.97 597.74,-474.95\"/>\n</g>\n<!-- 10&#45;&#45;18 -->\n<g id=\"edge66\" class=\"edge\">\n<title>10&#45;&#45;18</title>\n<path fill=\"none\" stroke=\"black\" d=\"M889.61,-525.37C892.23,-514.79 895.48,-501.17 898,-488.98 927.7,-345.33 955.42,-170.46 964.16,-114.01\"/>\n</g>\n<!-- 15 -->\n<g id=\"node18\" class=\"node\">\n<title>15</title>\n<ellipse fill=\"none\" stroke=\"blue\" cx=\"1024\" cy=\"-169.49\" rx=\"19.5\" ry=\"19.5\"/>\n<text text-anchor=\"middle\" x=\"1024\" y=\"-165.79\" font-family=\"Times,serif\" font-size=\"14.00\">15</text>\n</g>\n<!-- 10&#45;&#45;15 -->\n<g id=\"edge64\" class=\"edge\">\n<title>10&#45;&#45;15</title>\n<path fill=\"none\" stroke=\"black\" d=\"M900.45,-532.51C913.6,-522.49 932.19,-506.57 944,-488.98 1010.25,-390.28 1021.65,-241.09 1023.6,-189.12\"/>\n</g>\n<!-- 11&#45;&#45;12 -->\n<g id=\"edge67\" class=\"edge\">\n<title>11&#45;&#45;12</title>\n<path fill=\"none\" stroke=\"black\" d=\"M1036.44,-458.63C1031.25,-455.7 1025.45,-452.58 1020,-449.98 978.64,-430.27 928.14,-411.48 901.5,-401.96\"/>\n</g>\n<!-- 11&#45;&#45;14 -->\n<g id=\"edge68\" class=\"edge\">\n<title>11&#45;&#45;14</title>\n<path fill=\"none\" stroke=\"black\" d=\"M1038.56,-455.6C1005.72,-426.54 922.5,-354.2 848,-299.99 824.9,-283.17 796.75,-265.68 779.36,-255.18\"/>\n</g>\n<!-- 11&#45;&#45;18 -->\n<g id=\"edge69\" class=\"edge\">\n<title>11&#45;&#45;18</title>\n<path fill=\"none\" stroke=\"black\" d=\"M1062.06,-451.71C1075.72,-424.84 1100,-370.09 1100,-320.48 1100,-320.48 1100,-320.48 1100,-243.49 1100,-196.78 1083.41,-184.57 1052,-149.99 1032.67,-128.71 1003.22,-112.33 984.55,-103.31\"/>\n</g>\n<!-- 12&#45;&#45;13 -->\n<g id=\"edge70\" class=\"edge\">\n<title>12&#45;&#45;13</title>\n<path fill=\"none\" stroke=\"black\" d=\"M863.7,-390.39C789.19,-378.46 520.82,-335.5 446.31,-323.58\"/>\n</g>\n<!-- 12&#45;&#45;18 -->\n<g id=\"edge71\" class=\"edge\">\n<title>12&#45;&#45;18</title>\n<path fill=\"none\" stroke=\"black\" d=\"M879.11,-375.34C871.02,-332.98 856.25,-225.47 896,-149.99 907.59,-127.99 932.42,-112.21 949.42,-103.46\"/>\n</g>\n<!-- 13&#45;&#45;14 -->\n<g id=\"edge72\" class=\"edge\">\n<title>13&#45;&#45;14</title>\n<path fill=\"none\" stroke=\"black\" d=\"M442.94,-308.14C448.2,-305.12 454.19,-302.07 460,-299.99 562.63,-263.17 694.1,-250.42 743.28,-246.76\"/>\n</g>\n<!-- 13&#45;&#45;16 -->\n<g id=\"edge73\" class=\"edge\">\n<title>13&#45;&#45;16</title>\n<path fill=\"none\" stroke=\"black\" d=\"M408.79,-312.39C367.75,-298.65 268.44,-265.39 227.31,-251.62\"/>\n</g>\n<!-- 14&#45;&#45;15 -->\n<g id=\"edge74\" class=\"edge\">\n<title>14&#45;&#45;15</title>\n<path fill=\"none\" stroke=\"black\" d=\"M781.77,-238.24C829.93,-224.77 957.43,-189.11 1005.4,-175.69\"/>\n</g>\n<!-- 14&#45;&#45;19 -->\n<g id=\"edge75\" class=\"edge\">\n<title>14&#45;&#45;19</title>\n<path fill=\"none\" stroke=\"black\" d=\"M775.76,-229.54C812.4,-189.49 917.61,-74.48 954.24,-34.44\"/>\n</g>\n<!-- 17&#45;&#45;18 -->\n<g id=\"edge78\" class=\"edge\">\n<title>17&#45;&#45;18</title>\n<path fill=\"none\" stroke=\"black\" d=\"M580.04,-449.79C581.5,-421.73 584,-367.02 584,-320.48 584,-320.48 584,-320.48 584,-243.49 584,-164.63 870.08,-111.54 947.74,-98.58\"/>\n</g>\n<!-- 18&#45;&#45;19 -->\n<g id=\"edge79\" class=\"edge\">\n<title>18&#45;&#45;19</title>\n<path fill=\"none\" stroke=\"black\" d=\"M967,-74.7C967,-63.8 967,-50.12 967,-39.23\"/>\n</g>\n<!-- 0 -->\n<g id=\"node11\" class=\"node\">\n<title>0</title>\n<ellipse fill=\"none\" stroke=\"blue\" cx=\"1100\" cy=\"-905.97\" rx=\"18\" ry=\"18\"/>\n<text text-anchor=\"middle\" x=\"1100\" y=\"-902.27\" font-family=\"Times,serif\" font-size=\"14.00\">0</text>\n</g>\n<!-- 0&#45;&#45;8 -->\n<g id=\"edge5\" class=\"edge\">\n<title>0&#45;&#45;8</title>\n<path fill=\"none\" stroke=\"black\" d=\"M1081.92,-905.15C1003.13,-905.6 690.06,-904.05 610,-851.97 529.07,-799.33 490.86,-680.01 479.11,-635.83\"/>\n</g>\n<!-- 0&#45;&#45;11 -->\n<g id=\"edge7\" class=\"edge\">\n<title>0&#45;&#45;11</title>\n<path fill=\"none\" stroke=\"black\" d=\"M1100,-887.92C1100,-861.26 1100,-808.09 1100,-762.97 1100,-762.97 1100,-762.97 1100,-616.97 1100,-567.83 1075.72,-513.65 1062.06,-487.06\"/>\n</g>\n<!-- 0&#45;&#45;18 -->\n<g id=\"edge10\" class=\"edge\">\n<title>0&#45;&#45;18</title>\n<path fill=\"none\" stroke=\"black\" d=\"M1117.98,-903.11C1156.69,-898.59 1250.15,-884.88 1321,-851.97 1381.55,-823.85 1442,-829.73 1442,-762.97 1442,-762.97 1442,-762.97 1442,-468.48 1442,-232.3 1074.26,-122.98 985.91,-100.12\"/>\n</g>\n<!-- 2 -->\n<g id=\"node12\" class=\"node\">\n<title>2</title>\n<ellipse fill=\"none\" stroke=\"blue\" cx=\"1260\" cy=\"-833.97\" rx=\"18\" ry=\"18\"/>\n<text text-anchor=\"middle\" x=\"1260\" y=\"-830.27\" font-family=\"Times,serif\" font-size=\"14.00\">2</text>\n</g>\n<!-- 0&#45;&#45;2 -->\n<g id=\"edge1\" class=\"edge\">\n<title>0&#45;&#45;2</title>\n<path fill=\"none\" stroke=\"black\" d=\"M1116.79,-898.61C1141.47,-889.13 1188.84,-870.43 1228,-851.97 1233.46,-849.4 1239.33,-846.36 1244.53,-843.58\"/>\n</g>\n<!-- 4 -->\n<g id=\"node14\" class=\"node\">\n<title>4</title>\n<ellipse fill=\"none\" stroke=\"blue\" cx=\"700\" cy=\"-689.97\" rx=\"18\" ry=\"18\"/>\n<text text-anchor=\"middle\" x=\"700\" y=\"-686.27\" font-family=\"Times,serif\" font-size=\"14.00\">4</text>\n</g>\n<!-- 0&#45;&#45;4 -->\n<g id=\"edge2\" class=\"edge\">\n<title>0&#45;&#45;4</title>\n<path fill=\"none\" stroke=\"black\" d=\"M1083.07,-899.18C1056.66,-890 1004.19,-871.17 961,-851.97 896.7,-823.4 879.8,-817.06 820,-779.97 779.44,-754.82 735.19,-719.85 713.51,-702.16\"/>\n</g>\n<!-- 5 -->\n<g id=\"node15\" class=\"node\">\n<title>5</title>\n<ellipse fill=\"none\" stroke=\"blue\" cx=\"692\" cy=\"-544.47\" rx=\"18\" ry=\"18\"/>\n<text text-anchor=\"middle\" x=\"692\" y=\"-540.77\" font-family=\"Times,serif\" font-size=\"14.00\">5</text>\n</g>\n<!-- 0&#45;&#45;5 -->\n<g id=\"edge3\" class=\"edge\">\n<title>0&#45;&#45;5</title>\n<path fill=\"none\" stroke=\"black\" d=\"M1081.92,-903.59C994.97,-896.48 624,-860.42 624,-762.97 624,-762.97 624,-762.97 624,-688.97 624,-636.59 661.46,-582.92 680.77,-558.73\"/>\n</g>\n<!-- 7 -->\n<g id=\"node16\" class=\"node\">\n<title>7</title>\n<ellipse fill=\"none\" stroke=\"blue\" cx=\"868\" cy=\"-689.97\" rx=\"18\" ry=\"18\"/>\n<text text-anchor=\"middle\" x=\"868\" y=\"-686.27\" font-family=\"Times,serif\" font-size=\"14.00\">7</text>\n</g>\n<!-- 0&#45;&#45;7 -->\n<g id=\"edge4\" class=\"edge\">\n<title>0&#45;&#45;7</title>\n<path fill=\"none\" stroke=\"black\" d=\"M1084.47,-896.61C1051.99,-878.57 975.68,-833.28 925,-779.97 903.38,-757.23 885.21,-725.16 875.53,-706.37\"/>\n</g>\n<!-- 9 -->\n<g id=\"node17\" class=\"node\">\n<title>9</title>\n<ellipse fill=\"none\" stroke=\"blue\" cx=\"1146\" cy=\"-617.97\" rx=\"18\" ry=\"18\"/>\n<text text-anchor=\"middle\" x=\"1146\" y=\"-614.27\" font-family=\"Times,serif\" font-size=\"14.00\">9</text>\n</g>\n<!-- 0&#45;&#45;9 -->\n<g id=\"edge6\" class=\"edge\">\n<title>0&#45;&#45;9</title>\n<path fill=\"none\" stroke=\"black\" d=\"M1104.94,-888.38C1107.89,-878 1111.54,-864.29 1114,-851.97 1130.01,-771.9 1140.54,-674.73 1144.37,-636.05\"/>\n</g>\n<!-- 0&#45;&#45;15 -->\n<g id=\"edge8\" class=\"edge\">\n<title>0&#45;&#45;15</title>\n<path fill=\"none\" stroke=\"black\" d=\"M1118.07,-903.63C1153.39,-900.24 1232.87,-888.79 1287,-851.97 1377.41,-790.47 1366,-728.32 1366,-618.97 1366,-618.97 1366,-618.97 1366,-468.48 1366,-381.06 1108.81,-221.17 1040.5,-180.24\"/>\n</g>\n<!-- 0&#45;&#45;16 -->\n<g id=\"edge9\" class=\"edge\">\n<title>0&#45;&#45;16</title>\n<path fill=\"none\" stroke=\"black\" d=\"M1081.83,-904.61C938.8,-901.51 0,-876.82 0,-762.97 0,-762.97 0,-762.97 0,-468.48 0,-356.79 141.31,-278.01 191.54,-253.53\"/>\n</g>\n<!-- 0&#45;&#45;19 -->\n<g id=\"edge11\" class=\"edge\">\n<title>0&#45;&#45;19</title>\n<path fill=\"none\" stroke=\"black\" d=\"M1118.15,-904.87C1164.46,-903.94 1289.78,-897.09 1381,-851.97 1434.03,-825.74 1480,-822.14 1480,-762.97 1480,-762.97 1480,-762.97 1480,-168.49 1480,-112.63 1445.48,-100.92 1396,-75 1323.1,-36.8 1060.4,-24.06 986.48,-21.18\"/>\n</g>\n<!-- 2&#45;&#45;12 -->\n<g id=\"edge23\" class=\"edge\">\n<title>2&#45;&#45;12</title>\n<path fill=\"none\" stroke=\"black\" d=\"M1258.02,-815.7C1249.86,-753.51 1212.84,-539.98 1081,-449.98 1024.02,-411.08 940.06,-399.85 902.45,-396.68\"/>\n</g>\n<!-- 2&#45;&#45;14 -->\n<g id=\"edge24\" class=\"edge\">\n<title>2&#45;&#45;14</title>\n<path fill=\"none\" stroke=\"black\" d=\"M1265.78,-816.6C1274.5,-790.41 1290,-737.33 1290,-690.97 1290,-690.97 1290,-690.97 1290,-616.97 1290,-363.15 876.55,-267.53 782.07,-248.99\"/>\n</g>\n<!-- 2&#45;&#45;18 -->\n<g id=\"edge25\" class=\"edge\">\n<title>2&#45;&#45;18</title>\n<path fill=\"none\" stroke=\"black\" d=\"M1271.23,-819.88C1290.54,-795.97 1328,-742.91 1328,-690.97 1328,-690.97 1328,-690.97 1328,-543.47 1328,-440.35 1159.03,-218.55 1082,-149.99 1053.12,-124.29 1009.98,-108.26 985.58,-100.69\"/>\n</g>\n<!-- 3 -->\n<g id=\"node13\" class=\"node\">\n<title>3</title>\n<ellipse fill=\"none\" stroke=\"blue\" cx=\"952\" cy=\"-761.97\" rx=\"18\" ry=\"18\"/>\n<text text-anchor=\"middle\" x=\"952\" y=\"-758.27\" font-family=\"Times,serif\" font-size=\"14.00\">3</text>\n</g>\n<!-- 2&#45;&#45;3 -->\n<g id=\"edge21\" class=\"edge\">\n<title>2&#45;&#45;3</title>\n<path fill=\"none\" stroke=\"black\" d=\"M1242.56,-829.01C1188.47,-816.72 1023.97,-779.33 969.63,-766.98\"/>\n</g>\n<!-- 2&#45;&#45;4 -->\n<g id=\"edge22\" class=\"edge\">\n<title>2&#45;&#45;4</title>\n<path fill=\"none\" stroke=\"black\" d=\"M1241.91,-831.52C1191.16,-827.14 1043.43,-812.34 925,-779.97 843.96,-757.82 752.21,-715.96 715.96,-698.71\"/>\n</g>\n<!-- 2&#45;&#45;19 -->\n<g id=\"edge26\" class=\"edge\">\n<title>2&#45;&#45;19</title>\n<path fill=\"none\" stroke=\"black\" d=\"M1274.47,-823.16C1288.04,-813.41 1308.24,-797.44 1322,-779.97 1371.7,-716.89 1404,-699.27 1404,-618.97 1404,-618.97 1404,-618.97 1404,-168.49 1404,-123.8 1402.17,-102.56 1367,-75 1306.87,-27.88 1059.09,-21.49 986.85,-20.63\"/>\n</g>\n<!-- 3&#45;&#45;11 -->\n<g id=\"edge30\" class=\"edge\">\n<title>3&#45;&#45;11</title>\n<path fill=\"none\" stroke=\"black\" d=\"M957.72,-744.52C975.33,-693.87 1028.64,-540.55 1046.84,-488.21\"/>\n</g>\n<!-- 3&#45;&#45;12 -->\n<g id=\"edge31\" class=\"edge\">\n<title>3&#45;&#45;12</title>\n<path fill=\"none\" stroke=\"black\" d=\"M949.79,-743.97C943.52,-696.87 924.32,-560.88 898,-449.98 895.1,-437.76 891.35,-424.13 888.32,-413.56\"/>\n</g>\n<!-- 3&#45;&#45;13 -->\n<g id=\"edge32\" class=\"edge\">\n<title>3&#45;&#45;13</title>\n<path fill=\"none\" stroke=\"black\" d=\"M935.45,-754.84C880.57,-734.38 705.14,-667.95 654,-635.97 612.88,-610.26 603.01,-601.26 572,-563.97 508.14,-487.18 454.38,-379.07 434.86,-337.6\"/>\n</g>\n<!-- 3&#45;&#45;17 -->\n<g id=\"edge34\" class=\"edge\">\n<title>3&#45;&#45;17</title>\n<path fill=\"none\" stroke=\"black\" d=\"M945.28,-745.24C936.3,-725.81 918.72,-692.78 895,-671.97 810.1,-597.5 756.05,-630.78 665,-563.97 633.88,-541.14 605.12,-505.83 590.04,-485.78\"/>\n</g>\n<!-- 3&#45;&#45;4 -->\n<g id=\"edge27\" class=\"edge\">\n<title>3&#45;&#45;4</title>\n<path fill=\"none\" stroke=\"black\" d=\"M934.68,-756.16C888.53,-743.34 763.01,-708.48 717.11,-695.72\"/>\n</g>\n<!-- 3&#45;&#45;7 -->\n<g id=\"edge28\" class=\"edge\">\n<title>3&#45;&#45;7</title>\n<path fill=\"none\" stroke=\"black\" d=\"M938.5,-749.73C922.83,-736.66 897.12,-715.24 881.46,-702.19\"/>\n</g>\n<!-- 3&#45;&#45;9 -->\n<g id=\"edge29\" class=\"edge\">\n<title>3&#45;&#45;9</title>\n<path fill=\"none\" stroke=\"black\" d=\"M969.45,-756.51C994.84,-749.4 1042.56,-733.61 1076,-707.97 1103.14,-687.16 1125.73,-653.52 1137.41,-634.11\"/>\n</g>\n<!-- 3&#45;&#45;15 -->\n<g id=\"edge33\" class=\"edge\">\n<title>3&#45;&#45;15</title>\n<path fill=\"none\" stroke=\"black\" d=\"M969.89,-758.27C1016.44,-750.11 1140,-720.81 1173,-635.97 1201.81,-561.9 1268.03,-822.39 1110,-299.99 1099.61,-265.62 1099.97,-254.83 1080,-224.99 1068.68,-208.08 1051.4,-192.27 1039.03,-182.09\"/>\n</g>\n<!-- 4&#45;&#45;8 -->\n<g id=\"edge35\" class=\"edge\">\n<title>4&#45;&#45;8</title>\n<path fill=\"none\" stroke=\"black\" d=\"M683.09,-683.71C641.39,-670.74 534.01,-637.33 492.11,-624.29\"/>\n</g>\n<!-- 4&#45;&#45;14 -->\n<g id=\"edge36\" class=\"edge\">\n<title>4&#45;&#45;14</title>\n<path fill=\"none\" stroke=\"black\" d=\"M702.65,-672C706.4,-647.97 713.39,-602.64 719,-563.97 735.51,-450.18 753.94,-313.3 760.51,-264.17\"/>\n</g>\n<!-- 4&#45;&#45;16 -->\n<g id=\"edge37\" class=\"edge\">\n<title>4&#45;&#45;16</title>\n<path fill=\"none\" stroke=\"black\" d=\"M682.01,-688.35C594.43,-685.17 215.35,-669.53 176,-635.97 144.34,-608.97 152,-587.09 152,-545.47 152,-545.47 152,-545.47 152,-393.48 152,-350.58 159.38,-339.54 176,-299.99 181.83,-286.12 190.78,-271.6 197.89,-261.04\"/>\n</g>\n<!-- 5&#45;&#45;14 -->\n<g id=\"edge38\" class=\"edge\">\n<title>5&#45;&#45;14</title>\n<path fill=\"none\" stroke=\"black\" d=\"M686.81,-527.23C674.76,-486.36 648.75,-377.02 688,-299.99 699.91,-276.61 727.06,-260.91 745.21,-252.58\"/>\n</g>\n<!-- 5&#45;&#45;17 -->\n<g id=\"edge41\" class=\"edge\">\n<title>5&#45;&#45;17</title>\n<path fill=\"none\" stroke=\"black\" d=\"M677.23,-533.93C656.05,-520.25 617.2,-495.15 595.24,-480.97\"/>\n</g>\n<!-- 5&#45;&#45;15 -->\n<g id=\"edge39\" class=\"edge\">\n<title>5&#45;&#45;15</title>\n<path fill=\"none\" stroke=\"black\" d=\"M702.93,-530.01C717.86,-511.71 745.57,-478.04 770,-449.98 860.43,-346.14 973.42,-224.59 1011.1,-184.26\"/>\n</g>\n<!-- 5&#45;&#45;16 -->\n<g id=\"edge40\" class=\"edge\">\n<title>5&#45;&#45;16</title>\n<path fill=\"none\" stroke=\"black\" d=\"M682.98,-528.6C655.34,-484.57 566.88,-354.54 455,-299.99 376.75,-261.84 271.51,-250.07 228.52,-246.72\"/>\n</g>\n<!-- 7&#45;&#45;8 -->\n<g id=\"edge45\" class=\"edge\">\n<title>7&#45;&#45;8</title>\n<path fill=\"none\" stroke=\"black\" d=\"M850.35,-685.83C785.08,-674.2 557.79,-633.72 492.6,-622.11\"/>\n</g>\n<!-- 7&#45;&#45;10 -->\n<g id=\"edge46\" class=\"edge\">\n<title>7&#45;&#45;10</title>\n<path fill=\"none\" stroke=\"black\" d=\"M870.02,-671.95C873.22,-644.92 879.44,-592.4 882.77,-564.29\"/>\n</g>\n<!-- 7&#45;&#45;13 -->\n<g id=\"edge47\" class=\"edge\">\n<title>7&#45;&#45;13</title>\n<path fill=\"none\" stroke=\"black\" d=\"M852.63,-680.13C847.44,-677.33 841.55,-674.34 836,-671.97 789.08,-651.93 772.71,-658.62 727,-635.97 635.68,-590.72 605.08,-575.36 551,-488.98 522.27,-443.08 541.61,-417.44 508,-374.98 490.85,-353.32 462.7,-337.15 444.51,-328.26\"/>\n</g>\n<!-- 7&#45;&#45;15 -->\n<g id=\"edge48\" class=\"edge\">\n<title>7&#45;&#45;15</title>\n<path fill=\"none\" stroke=\"black\" d=\"M877.52,-674.6C898.43,-643.88 951.24,-570.88 1010,-524.98 1037.88,-503.19 1059.07,-516.74 1081,-488.98 1155.33,-394.87 1066.04,-236.21 1034.34,-186.13\"/>\n</g>\n<!-- 7&#45;&#45;16 -->\n<g id=\"edge49\" class=\"edge\">\n<title>7&#45;&#45;16</title>\n<path fill=\"none\" stroke=\"black\" d=\"M850.12,-686.82C772.52,-677.48 467.96,-640.68 448,-635.97 329.72,-608.1 190,-666.99 190,-545.47 190,-545.47 190,-545.47 190,-393.48 190,-346.34 199.6,-291.42 205.16,-263.62\"/>\n</g>\n<!-- 7&#45;&#45;19 -->\n<g id=\"edge50\" class=\"edge\">\n<title>7&#45;&#45;19</title>\n<path fill=\"none\" stroke=\"black\" d=\"M884.64,-682.78C967.11,-650.9 1328,-497.03 1328,-245.49 1328,-245.49 1328,-245.49 1328,-168.49 1328,-93.9 1060.79,-38.11 986.15,-23.99\"/>\n</g>\n<!-- 9&#45;&#45;10 -->\n<g id=\"edge58\" class=\"edge\">\n<title>9&#45;&#45;10</title>\n<path fill=\"none\" stroke=\"black\" d=\"M1128.88,-612.28C1082.04,-599.45 952.08,-563.85 903.57,-550.56\"/>\n</g>\n<!-- 9&#45;&#45;11 -->\n<g id=\"edge59\" class=\"edge\">\n<title>9&#45;&#45;11</title>\n<path fill=\"none\" stroke=\"black\" d=\"M1142.84,-600.21C1138.62,-580.84 1129.76,-548.61 1114,-524.98 1101.94,-506.9 1082.51,-490.96 1068.82,-481.07\"/>\n</g>\n<!-- 9&#45;&#45;19 -->\n<g id=\"edge60\" class=\"edge\">\n<title>9&#45;&#45;19</title>\n<path fill=\"none\" stroke=\"black\" d=\"M1159.43,-605.36C1207.2,-562.67 1366,-408.52 1366,-245.49 1366,-245.49 1366,-245.49 1366,-168.49 1366,-125.59 1373.91,-103.67 1342,-75 1288.9,-27.29 1056.38,-21.3 986.76,-20.59\"/>\n</g>\n<!-- 15&#45;&#45;18 -->\n<g id=\"edge76\" class=\"edge\">\n<title>15&#45;&#45;18</title>\n<path fill=\"none\" stroke=\"black\" d=\"M1012.47,-153.72C1002.58,-141.05 988.4,-122.9 978.52,-110.24\"/>\n</g>\n<!-- 16&#45;&#45;19 -->\n<g id=\"edge77\" class=\"edge\">\n<title>16&#45;&#45;19</title>\n<path fill=\"none\" stroke=\"black\" d=\"M218.42,-226.97C231.54,-205.56 257.44,-168.76 290,-149.99 407.67,-82.16 848.96,-32.81 947.44,-22.5\"/>\n</g>\n</g>\n</svg>\n",
            "text/plain": [
              "<graphviz.graphs.Graph at 0x792d67ab3990>"
            ]
          },
          "metadata": {}
        },
        {
          "output_type": "display_data",
          "data": {
            "image/svg+xml": "<?xml version=\"1.0\" encoding=\"UTF-8\" standalone=\"no\"?>\n<!DOCTYPE svg PUBLIC \"-//W3C//DTD SVG 1.1//EN\"\n \"http://www.w3.org/Graphics/SVG/1.1/DTD/svg11.dtd\">\n<!-- Generated by graphviz version 2.43.0 (0)\n -->\n<!-- Title: %3 Pages: 1 -->\n<svg width=\"1554pt\" height=\"929pt\"\n viewBox=\"0.00 0.00 1554.33 928.98\" xmlns=\"http://www.w3.org/2000/svg\" xmlns:xlink=\"http://www.w3.org/1999/xlink\">\n<g id=\"graph0\" class=\"graph\" transform=\"scale(1 1) rotate(0) translate(4 924.98)\">\n<title>%3</title>\n<polygon fill=\"white\" stroke=\"transparent\" points=\"-4,4 -4,-924.98 1550.33,-924.98 1550.33,4 -4,4\"/>\n<!-- 0 -->\n<g id=\"node1\" class=\"node\">\n<title>0</title>\n<ellipse fill=\"none\" stroke=\"blue\" cx=\"433\" cy=\"-902.98\" rx=\"18\" ry=\"18\"/>\n<text text-anchor=\"middle\" x=\"433\" y=\"-899.28\" font-family=\"Times,serif\" font-size=\"14.00\">0</text>\n</g>\n<!-- 11 -->\n<g id=\"node2\" class=\"node\">\n<title>11</title>\n<ellipse fill=\"none\" stroke=\"blue\" cx=\"389\" cy=\"-469.48\" rx=\"19.5\" ry=\"19.5\"/>\n<text text-anchor=\"middle\" x=\"389\" y=\"-465.78\" font-family=\"Times,serif\" font-size=\"14.00\">11</text>\n</g>\n<!-- 0&#45;&#45;11 -->\n<g id=\"edge7\" class=\"edge\">\n<title>0&#45;&#45;11</title>\n<path fill=\"none\" stroke=\"black\" d=\"M418.95,-891.32C407.08,-881.57 390.54,-866.09 381,-848.98 332.9,-762.62 339.86,-731.11 328,-632.98 326.08,-617.09 324.44,-612.57 328,-596.98 337.72,-554.43 363.67,-509.54 378.4,-486.38\"/>\n</g>\n<!-- 15 -->\n<g id=\"node6\" class=\"node\">\n<title>15</title>\n<ellipse fill=\"none\" stroke=\"blue\" cx=\"427\" cy=\"-169.49\" rx=\"19.5\" ry=\"19.5\"/>\n<text text-anchor=\"middle\" x=\"427\" y=\"-165.79\" font-family=\"Times,serif\" font-size=\"14.00\">15</text>\n</g>\n<!-- 0&#45;&#45;15 -->\n<g id=\"edge8\" class=\"edge\">\n<title>0&#45;&#45;15</title>\n<path fill=\"none\" stroke=\"black\" d=\"M417.06,-894.36C371.59,-871.86 239.89,-801.18 168,-704.98 128.92,-652.68 139.91,-626.25 139,-560.98 138.78,-544.98 135.37,-540.56 139,-524.98 147.44,-488.78 155.32,-480.86 176,-449.98 250.11,-339.3 283.54,-322.76 374,-224.99 387.09,-210.85 402.48,-195.11 413.3,-184.2\"/>\n</g>\n<!-- 16 -->\n<g id=\"node7\" class=\"node\">\n<title>16</title>\n<ellipse fill=\"none\" stroke=\"blue\" cx=\"1271\" cy=\"-244.49\" rx=\"19.5\" ry=\"19.5\"/>\n<text text-anchor=\"middle\" x=\"1271\" y=\"-240.79\" font-family=\"Times,serif\" font-size=\"14.00\">16</text>\n</g>\n<!-- 0&#45;&#45;16 -->\n<g id=\"edge9\" class=\"edge\">\n<title>0&#45;&#45;16</title>\n<path fill=\"none\" stroke=\"black\" d=\"M451.1,-901.3C584.03,-896.13 1404,-860.17 1404,-759.98 1404,-759.98 1404,-759.98 1404,-393.48 1404,-324.91 1324.04,-273.7 1288.12,-254.15\"/>\n</g>\n<!-- 18 -->\n<g id=\"node9\" class=\"node\">\n<title>18</title>\n<ellipse fill=\"none\" stroke=\"blue\" cx=\"450\" cy=\"-94.49\" rx=\"19.5\" ry=\"19.5\"/>\n<text text-anchor=\"middle\" x=\"450\" y=\"-90.79\" font-family=\"Times,serif\" font-size=\"14.00\">18</text>\n</g>\n<!-- 0&#45;&#45;18 -->\n<g id=\"edge10\" class=\"edge\">\n<title>0&#45;&#45;18</title>\n<path fill=\"none\" stroke=\"black\" d=\"M415.26,-899.59C338.4,-888.78 38,-841.32 38,-759.98 38,-759.98 38,-759.98 38,-541.98 38,-305.45 354.14,-140.71 432.56,-103.48\"/>\n</g>\n<!-- 19 -->\n<g id=\"node10\" class=\"node\">\n<title>19</title>\n<ellipse fill=\"none\" stroke=\"blue\" cx=\"450\" cy=\"-19.5\" rx=\"19.5\" ry=\"19.5\"/>\n<text text-anchor=\"middle\" x=\"450\" y=\"-15.8\" font-family=\"Times,serif\" font-size=\"14.00\">19</text>\n</g>\n<!-- 0&#45;&#45;19 -->\n<g id=\"edge11\" class=\"edge\">\n<title>0&#45;&#45;19</title>\n<path fill=\"none\" stroke=\"black\" d=\"M414.72,-900.81C351.22,-896.54 140.92,-880.26 82,-848.98 34.5,-823.75 0,-813.76 0,-759.98 0,-759.98 0,-759.98 0,-168.49 0,-115.77 27.4,-101.45 73,-75 134.92,-39.07 361.74,-24.93 430.27,-21.42\"/>\n</g>\n<!-- 2 -->\n<g id=\"node11\" class=\"node\">\n<title>2</title>\n<ellipse fill=\"none\" stroke=\"black\" cx=\"433\" cy=\"-830.98\" rx=\"27\" ry=\"18\"/>\n<text text-anchor=\"middle\" x=\"433\" y=\"-827.28\" font-family=\"Times,serif\" font-size=\"14.00\">2</text>\n</g>\n<!-- 0&#45;&#45;2 -->\n<g id=\"edge1\" class=\"edge\">\n<title>0&#45;&#45;2</title>\n<path fill=\"none\" stroke=\"black\" d=\"M433,-884.67C433,-873.82 433,-859.89 433,-849.08\"/>\n</g>\n<!-- 4 -->\n<g id=\"node12\" class=\"node\">\n<title>4</title>\n<ellipse fill=\"none\" stroke=\"black\" cx=\"698\" cy=\"-686.98\" rx=\"27\" ry=\"18\"/>\n<text text-anchor=\"middle\" x=\"698\" y=\"-683.28\" font-family=\"Times,serif\" font-size=\"14.00\">4</text>\n</g>\n<!-- 0&#45;&#45;4 -->\n<g id=\"edge2\" class=\"edge\">\n<title>0&#45;&#45;4</title>\n<path fill=\"none\" stroke=\"black\" d=\"M449.14,-894.76C485.42,-877.99 574.9,-833.47 635,-776.98 658.31,-755.06 678.3,-723.3 689.19,-704.23\"/>\n</g>\n<!-- 5 -->\n<g id=\"node13\" class=\"node\">\n<title>5</title>\n<ellipse fill=\"none\" stroke=\"black\" cx=\"1193\" cy=\"-542.98\" rx=\"27\" ry=\"18\"/>\n<text text-anchor=\"middle\" x=\"1193\" y=\"-539.28\" font-family=\"Times,serif\" font-size=\"14.00\">5</text>\n</g>\n<!-- 0&#45;&#45;5 -->\n<g id=\"edge3\" class=\"edge\">\n<title>0&#45;&#45;5</title>\n<path fill=\"none\" stroke=\"black\" d=\"M451.11,-901.91C528.86,-900.92 840.3,-889.77 1060,-776.98 1101.68,-755.58 1111.45,-744.25 1137,-704.98 1167.67,-657.85 1183.66,-591.99 1189.87,-561.16\"/>\n</g>\n<!-- 7 -->\n<g id=\"node14\" class=\"node\">\n<title>7</title>\n<ellipse fill=\"none\" stroke=\"black\" cx=\"550\" cy=\"-686.98\" rx=\"27\" ry=\"18\"/>\n<text text-anchor=\"middle\" x=\"550\" y=\"-683.28\" font-family=\"Times,serif\" font-size=\"14.00\">7</text>\n</g>\n<!-- 0&#45;&#45;7 -->\n<g id=\"edge4\" class=\"edge\">\n<title>0&#45;&#45;7</title>\n<path fill=\"none\" stroke=\"black\" d=\"M445.76,-889.81C466.93,-868.85 509.15,-823.68 531,-776.98 541.98,-753.51 546.69,-723.58 548.66,-705.1\"/>\n</g>\n<!-- 8 -->\n<g id=\"node15\" class=\"node\">\n<title>8</title>\n<ellipse fill=\"none\" stroke=\"black\" cx=\"855\" cy=\"-614.98\" rx=\"27\" ry=\"18\"/>\n<text text-anchor=\"middle\" x=\"855\" y=\"-611.28\" font-family=\"Times,serif\" font-size=\"14.00\">8</text>\n</g>\n<!-- 0&#45;&#45;8 -->\n<g id=\"edge5\" class=\"edge\">\n<title>0&#45;&#45;8</title>\n<path fill=\"none\" stroke=\"black\" d=\"M450.23,-897.68C478.1,-890.28 534.28,-873.55 577,-848.98 690.54,-783.66 803.1,-670.67 841.32,-630.59\"/>\n</g>\n<!-- 9 -->\n<g id=\"node16\" class=\"node\">\n<title>9</title>\n<ellipse fill=\"none\" stroke=\"black\" cx=\"364\" cy=\"-614.98\" rx=\"27\" ry=\"18\"/>\n<text text-anchor=\"middle\" x=\"364\" y=\"-611.28\" font-family=\"Times,serif\" font-size=\"14.00\">9</text>\n</g>\n<!-- 0&#45;&#45;9 -->\n<g id=\"edge6\" class=\"edge\">\n<title>0&#45;&#45;9</title>\n<path fill=\"none\" stroke=\"black\" d=\"M421.33,-888.57C413.15,-878.4 402.69,-863.71 397,-848.98 367.41,-772.38 363.94,-672.42 363.82,-633.01\"/>\n</g>\n<!-- 12 -->\n<g id=\"node3\" class=\"node\">\n<title>12</title>\n<ellipse fill=\"none\" stroke=\"blue\" cx=\"559\" cy=\"-394.48\" rx=\"19.5\" ry=\"19.5\"/>\n<text text-anchor=\"middle\" x=\"559\" y=\"-390.78\" font-family=\"Times,serif\" font-size=\"14.00\">12</text>\n</g>\n<!-- 11&#45;&#45;12 -->\n<g id=\"edge67\" class=\"edge\">\n<title>11&#45;&#45;12</title>\n<path fill=\"none\" stroke=\"black\" d=\"M407.5,-462C434.14,-452.48 484.64,-433.69 526,-413.98 531.45,-411.38 537.25,-408.26 542.44,-405.33\"/>\n</g>\n<!-- 14 -->\n<g id=\"node5\" class=\"node\">\n<title>14</title>\n<ellipse fill=\"none\" stroke=\"blue\" cx=\"725\" cy=\"-244.49\" rx=\"19.5\" ry=\"19.5\"/>\n<text text-anchor=\"middle\" x=\"725\" y=\"-240.79\" font-family=\"Times,serif\" font-size=\"14.00\">14</text>\n</g>\n<!-- 11&#45;&#45;14 -->\n<g id=\"edge68\" class=\"edge\">\n<title>11&#45;&#45;14</title>\n<path fill=\"none\" stroke=\"black\" d=\"M403.41,-455.97C437.86,-426.44 528.35,-351.07 612,-299.99 644.16,-280.35 684.46,-262.36 707.21,-252.77\"/>\n</g>\n<!-- 11&#45;&#45;18 -->\n<g id=\"edge69\" class=\"edge\">\n<title>11&#45;&#45;18</title>\n<path fill=\"none\" stroke=\"black\" d=\"M384.46,-450.25C372.8,-399.32 346.27,-252.57 399,-149.99 407.77,-132.94 423.44,-117.39 435.11,-107.3\"/>\n</g>\n<!-- 13 -->\n<g id=\"node4\" class=\"node\">\n<title>13</title>\n<ellipse fill=\"none\" stroke=\"blue\" cx=\"949\" cy=\"-319.48\" rx=\"19.5\" ry=\"19.5\"/>\n<text text-anchor=\"middle\" x=\"949\" y=\"-315.78\" font-family=\"Times,serif\" font-size=\"14.00\">13</text>\n</g>\n<!-- 12&#45;&#45;13 -->\n<g id=\"edge70\" class=\"edge\">\n<title>12&#45;&#45;13</title>\n<path fill=\"none\" stroke=\"black\" d=\"M578.07,-389.91C644.29,-377.52 863.8,-336.43 929.96,-324.05\"/>\n</g>\n<!-- 12&#45;&#45;18 -->\n<g id=\"edge71\" class=\"edge\">\n<title>12&#45;&#45;18</title>\n<path fill=\"none\" stroke=\"black\" d=\"M555.75,-375.03C547.97,-333.36 526.01,-229.43 488,-149.99 481.03,-135.43 470.32,-120.49 462.04,-109.95\"/>\n</g>\n<!-- 13&#45;&#45;14 -->\n<g id=\"edge72\" class=\"edge\">\n<title>13&#45;&#45;14</title>\n<path fill=\"none\" stroke=\"black\" d=\"M930.67,-312.51C888.56,-298.79 785.32,-265.14 743.27,-251.44\"/>\n</g>\n<!-- 13&#45;&#45;16 -->\n<g id=\"edge73\" class=\"edge\">\n<title>13&#45;&#45;16</title>\n<path fill=\"none\" stroke=\"black\" d=\"M968.18,-314.14C1025.45,-301.15 1194.78,-262.77 1251.92,-249.81\"/>\n</g>\n<!-- 14&#45;&#45;15 -->\n<g id=\"edge74\" class=\"edge\">\n<title>14&#45;&#45;15</title>\n<path fill=\"none\" stroke=\"black\" d=\"M705.91,-238.81C652.08,-225.63 499.57,-188.27 445.94,-175.13\"/>\n</g>\n<!-- 14&#45;&#45;19 -->\n<g id=\"edge75\" class=\"edge\">\n<title>14&#45;&#45;19</title>\n<path fill=\"none\" stroke=\"black\" d=\"M719.49,-225.42C712.53,-205.07 698.9,-171.98 678,-149.99 614.96,-83.67 510.36,-41.67 468.32,-26.68\"/>\n</g>\n<!-- 15&#45;&#45;18 -->\n<g id=\"edge76\" class=\"edge\">\n<title>15&#45;&#45;18</title>\n<path fill=\"none\" stroke=\"black\" d=\"M432.69,-150.45C436.25,-139.13 440.83,-124.61 444.38,-113.33\"/>\n</g>\n<!-- 16&#45;&#45;19 -->\n<g id=\"edge77\" class=\"edge\">\n<title>16&#45;&#45;19</title>\n<path fill=\"none\" stroke=\"black\" d=\"M1261.85,-227.26C1248.84,-205.82 1222.89,-168.61 1190,-149.99 1060.46,-76.67 573.65,-31.16 469.63,-22.15\"/>\n</g>\n<!-- 17 -->\n<g id=\"node8\" class=\"node\">\n<title>17</title>\n<ellipse fill=\"none\" stroke=\"blue\" cx=\"1053\" cy=\"-469.48\" rx=\"19.5\" ry=\"19.5\"/>\n<text text-anchor=\"middle\" x=\"1053\" y=\"-465.78\" font-family=\"Times,serif\" font-size=\"14.00\">17</text>\n</g>\n<!-- 17&#45;&#45;18 -->\n<g id=\"edge78\" class=\"edge\">\n<title>17&#45;&#45;18</title>\n<path fill=\"none\" stroke=\"black\" d=\"M1049.52,-450.09C1042.13,-415.93 1021.76,-342.32 977,-299.99 820.32,-151.79 544.31,-107.34 469.28,-97.72\"/>\n</g>\n<!-- 18&#45;&#45;19 -->\n<g id=\"edge79\" class=\"edge\">\n<title>18&#45;&#45;19</title>\n<path fill=\"none\" stroke=\"black\" d=\"M450,-74.7C450,-63.8 450,-50.12 450,-39.23\"/>\n</g>\n<!-- 2&#45;&#45;12 -->\n<g id=\"edge23\" class=\"edge\">\n<title>2&#45;&#45;12</title>\n<path fill=\"none\" stroke=\"black\" d=\"M421.08,-814.24C397.65,-782.22 346.32,-706.3 328,-632.98 322.26,-610.01 334.35,-527.95 335,-524.98 342.54,-490.51 335.26,-474.1 361,-449.98 411.74,-402.44 500.06,-395.71 539.27,-395.19\"/>\n</g>\n<!-- 2&#45;&#45;14 -->\n<g id=\"edge24\" class=\"edge\">\n<title>2&#45;&#45;14</title>\n<path fill=\"none\" stroke=\"black\" d=\"M455.68,-821.01C476.69,-811.97 508.06,-796.58 531,-776.98 561.61,-750.82 567.65,-740.82 586,-704.98 668.02,-544.73 710.59,-327.78 721.89,-263.9\"/>\n</g>\n<!-- 2&#45;&#45;18 -->\n<g id=\"edge25\" class=\"edge\">\n<title>2&#45;&#45;18</title>\n<path fill=\"none\" stroke=\"black\" d=\"M414.59,-817.78C400.92,-808.01 382.56,-793.28 370,-776.98 308.34,-696.91 311.67,-661.23 299,-560.98 275.65,-376.27 278.18,-305.85 380,-149.99 393.31,-129.62 416.85,-113.64 432.93,-104.38\"/>\n</g>\n<!-- 2&#45;&#45;19 -->\n<g id=\"edge26\" class=\"edge\">\n<title>2&#45;&#45;19</title>\n<path fill=\"none\" stroke=\"black\" d=\"M410.45,-820.72C390.35,-811.69 360.96,-796.47 340,-776.98 165.04,-614.24 56,-559.43 56,-320.48 56,-320.48 56,-320.48 56,-168.49 56,-111.43 93.81,-102.15 144,-75 241.53,-22.23 379.66,-19.06 430.36,-19.86\"/>\n</g>\n<!-- 2&#45;&#45;4 -->\n<g id=\"edge22\" class=\"edge\">\n<title>2&#45;&#45;4</title>\n<path fill=\"none\" stroke=\"black\" d=\"M458.66,-825.2C492.31,-818.18 552.41,-803.02 598,-776.98 633.32,-756.8 667.08,-722.62 684.91,-703.01\"/>\n</g>\n<!-- 3 -->\n<g id=\"node20\" class=\"node\">\n<title>3</title>\n<ellipse fill=\"none\" stroke=\"black\" cx=\"495\" cy=\"-758.98\" rx=\"27\" ry=\"18\"/>\n<text text-anchor=\"middle\" x=\"495\" y=\"-755.28\" font-family=\"Times,serif\" font-size=\"14.00\">3</text>\n</g>\n<!-- 2&#45;&#45;3 -->\n<g id=\"edge21\" class=\"edge\">\n<title>2&#45;&#45;3</title>\n<path fill=\"none\" stroke=\"black\" d=\"M446.15,-815.13C456.67,-803.25 471.35,-786.67 481.87,-774.8\"/>\n</g>\n<!-- 4&#45;&#45;14 -->\n<g id=\"edge36\" class=\"edge\">\n<title>4&#45;&#45;14</title>\n<path fill=\"none\" stroke=\"black\" d=\"M699.88,-668.87C703.56,-634.72 711.73,-555.64 716,-488.98 721.37,-405.18 723.82,-304.94 724.66,-264.14\"/>\n</g>\n<!-- 4&#45;&#45;16 -->\n<g id=\"edge37\" class=\"edge\">\n<title>4&#45;&#45;16</title>\n<path fill=\"none\" stroke=\"black\" d=\"M724.76,-684.13C830.55,-676.28 1217.95,-642.35 1304,-560.98 1334.23,-532.38 1328,-512.09 1328,-470.48 1328,-470.48 1328,-470.48 1328,-393.48 1328,-350.58 1320.62,-339.54 1304,-299.99 1298.17,-286.12 1289.22,-271.6 1282.11,-261.04\"/>\n</g>\n<!-- 4&#45;&#45;8 -->\n<g id=\"edge35\" class=\"edge\">\n<title>4&#45;&#45;8</title>\n<path fill=\"none\" stroke=\"black\" d=\"M719.83,-676.24C749.74,-662.91 803.16,-639.09 833.1,-625.74\"/>\n</g>\n<!-- 5&#45;&#45;14 -->\n<g id=\"edge38\" class=\"edge\">\n<title>5&#45;&#45;14</title>\n<path fill=\"none\" stroke=\"black\" d=\"M1183.84,-525.55C1165.83,-494.11 1123.4,-424.18 1076,-374.98 1037.7,-335.23 1027.16,-323.03 977,-299.99 895.85,-262.71 788.14,-250.43 744.55,-246.83\"/>\n</g>\n<!-- 5&#45;&#45;15 -->\n<g id=\"edge39\" class=\"edge\">\n<title>5&#45;&#45;15</title>\n<path fill=\"none\" stroke=\"black\" d=\"M1189.02,-525.05C1184.17,-506.08 1175,-474.75 1162,-449.98 1119.63,-369.23 1102.01,-343.73 1022,-299.99 817.7,-188.28 524.52,-172.93 446.62,-170.83\"/>\n</g>\n<!-- 5&#45;&#45;16 -->\n<g id=\"edge40\" class=\"edge\">\n<title>5&#45;&#45;16</title>\n<path fill=\"none\" stroke=\"black\" d=\"M1194.06,-524.98C1197.01,-484.68 1207.26,-380.64 1238,-299.99 1243.36,-285.93 1252.34,-271.43 1259.58,-260.92\"/>\n</g>\n<!-- 5&#45;&#45;17 -->\n<g id=\"edge41\" class=\"edge\">\n<title>5&#45;&#45;17</title>\n<path fill=\"none\" stroke=\"black\" d=\"M1172.04,-531.27C1144.27,-517.09 1095.82,-492.35 1070.13,-479.23\"/>\n</g>\n<!-- 7&#45;&#45;13 -->\n<g id=\"edge47\" class=\"edge\">\n<title>7&#45;&#45;13</title>\n<path fill=\"none\" stroke=\"black\" d=\"M565.64,-671.65C629.9,-612.78 873.1,-390.01 934.74,-333.55\"/>\n</g>\n<!-- 7&#45;&#45;15 -->\n<g id=\"edge48\" class=\"edge\">\n<title>7&#45;&#45;15</title>\n<path fill=\"none\" stroke=\"black\" d=\"M530.99,-673.84C490.4,-646.63 396.1,-576.26 361,-488.98 338.35,-432.66 400.3,-246.3 420.72,-188.05\"/>\n</g>\n<!-- 7&#45;&#45;16 -->\n<g id=\"edge49\" class=\"edge\">\n<title>7&#45;&#45;16</title>\n<path fill=\"none\" stroke=\"black\" d=\"M576.07,-681.99C650.41,-670.61 860.03,-638.45 891,-632.98 911.25,-629.4 1238.2,-574.13 1254,-560.98 1287.27,-533.29 1290,-513.76 1290,-470.48 1290,-470.48 1290,-470.48 1290,-393.48 1290,-346.34 1280.4,-291.42 1274.84,-263.62\"/>\n</g>\n<!-- 7&#45;&#45;19 -->\n<g id=\"edge50\" class=\"edge\">\n<title>7&#45;&#45;19</title>\n<path fill=\"none\" stroke=\"black\" d=\"M522.71,-685.89C477.94,-684.45 387.88,-675.95 328,-632.98 194.81,-537.39 132,-484.43 132,-320.48 132,-320.48 132,-320.48 132,-168.49 132,-36.35 360.49,-21.89 430.11,-20.56\"/>\n</g>\n<!-- 7&#45;&#45;8 -->\n<g id=\"edge45\" class=\"edge\">\n<title>7&#45;&#45;8</title>\n<path fill=\"none\" stroke=\"black\" d=\"M575.22,-680.19C632.59,-667.02 772.35,-634.94 829.75,-621.77\"/>\n</g>\n<!-- 10 -->\n<g id=\"node19\" class=\"node\">\n<title>10</title>\n<ellipse fill=\"none\" stroke=\"black\" cx=\"550\" cy=\"-542.98\" rx=\"27\" ry=\"18\"/>\n<text text-anchor=\"middle\" x=\"550\" y=\"-539.28\" font-family=\"Times,serif\" font-size=\"14.00\">10</text>\n</g>\n<!-- 7&#45;&#45;10 -->\n<g id=\"edge46\" class=\"edge\">\n<title>7&#45;&#45;10</title>\n<path fill=\"none\" stroke=\"black\" d=\"M550,-668.85C550,-641.55 550,-588.5 550,-561.17\"/>\n</g>\n<!-- 8&#45;&#45;12 -->\n<g id=\"edge52\" class=\"edge\">\n<title>8&#45;&#45;12</title>\n<path fill=\"none\" stroke=\"black\" d=\"M837.26,-601.18C822.45,-590.47 800.81,-574.78 782,-560.98 703.69,-503.49 610.5,-433.97 574.37,-406.97\"/>\n</g>\n<!-- 8&#45;&#45;13 -->\n<g id=\"edge53\" class=\"edge\">\n<title>8&#45;&#45;13</title>\n<path fill=\"none\" stroke=\"black\" d=\"M869.84,-599.48C890.93,-577.76 928.72,-534.43 944,-488.98 961.53,-436.82 956.01,-370.4 951.84,-338.79\"/>\n</g>\n<!-- 8&#45;&#45;14 -->\n<g id=\"edge54\" class=\"edge\">\n<title>8&#45;&#45;14</title>\n<path fill=\"none\" stroke=\"black\" d=\"M850.66,-596.91C838.26,-549.07 800.51,-409.95 754,-299.99 748.41,-286.76 740.72,-272.45 734.67,-261.81\"/>\n</g>\n<!-- 8&#45;&#45;16 -->\n<g id=\"edge55\" class=\"edge\">\n<title>8&#45;&#45;16</title>\n<path fill=\"none\" stroke=\"black\" d=\"M876.31,-603.79C882.53,-601.19 889.43,-598.66 896,-596.98 968.11,-578.53 1172.79,-609.76 1229,-560.98 1260.34,-533.77 1252,-511.98 1252,-470.48 1252,-470.48 1252,-470.48 1252,-393.48 1252,-346.34 1261.6,-291.42 1267.16,-263.62\"/>\n</g>\n<!-- 8&#45;&#45;17 -->\n<g id=\"edge56\" class=\"edge\">\n<title>8&#45;&#45;17</title>\n<path fill=\"none\" stroke=\"black\" d=\"M876.85,-604.17C903.68,-591.95 947.42,-571.41 962,-560.98 993.71,-538.28 1024.59,-504.32 1040.96,-485.11\"/>\n</g>\n<!-- 8&#45;&#45;18 -->\n<g id=\"edge57\" class=\"edge\">\n<title>8&#45;&#45;18</title>\n<path fill=\"none\" stroke=\"black\" d=\"M838.05,-600.78C791.31,-562.76 664,-447.54 664,-320.48 664,-320.48 664,-320.48 664,-243.49 664,-149.08 521.36,-110.18 468.99,-99.08\"/>\n</g>\n<!-- 8&#45;&#45;10 -->\n<g id=\"edge51\" class=\"edge\">\n<title>8&#45;&#45;10</title>\n<path fill=\"none\" stroke=\"black\" d=\"M829.78,-608.19C772.41,-595.02 632.65,-562.94 575.25,-549.77\"/>\n</g>\n<!-- 9&#45;&#45;11 -->\n<g id=\"edge59\" class=\"edge\">\n<title>9&#45;&#45;11</title>\n<path fill=\"none\" stroke=\"black\" d=\"M366.97,-596.95C371.7,-569.78 380.93,-516.83 385.8,-488.84\"/>\n</g>\n<!-- 9&#45;&#45;19 -->\n<g id=\"edge60\" class=\"edge\">\n<title>9&#45;&#45;19</title>\n<path fill=\"none\" stroke=\"black\" d=\"M360.94,-596.84C350.54,-534.51 320.47,-314.88 380,-149.99 395.71,-106.49 424.2,-59.77 439.54,-36.13\"/>\n</g>\n<!-- 9&#45;&#45;10 -->\n<g id=\"edge58\" class=\"edge\">\n<title>9&#45;&#45;10</title>\n<path fill=\"none\" stroke=\"black\" d=\"M387.18,-605.25C423.02,-591.76 491.45,-566.01 527.11,-552.59\"/>\n</g>\n<!-- 1 -->\n<g id=\"node17\" class=\"node\">\n<title>1</title>\n<ellipse fill=\"none\" stroke=\"black\" cx=\"1024\" cy=\"-758.98\" rx=\"27\" ry=\"18\"/>\n<text text-anchor=\"middle\" x=\"1024\" y=\"-755.28\" font-family=\"Times,serif\" font-size=\"14.00\">1</text>\n</g>\n<!-- 1&#45;&#45;12 -->\n<g id=\"edge15\" class=\"edge\">\n<title>1&#45;&#45;12</title>\n<path fill=\"none\" stroke=\"black\" d=\"M999.75,-750.98C972.67,-742.53 928.14,-726.69 894,-704.98 750.69,-613.83 612.34,-458.14 571.26,-410.06\"/>\n</g>\n<!-- 1&#45;&#45;13 -->\n<g id=\"edge16\" class=\"edge\">\n<title>1&#45;&#45;13</title>\n<path fill=\"none\" stroke=\"black\" d=\"M1022.83,-740.93C1018.84,-686.72 1004.01,-513.71 969,-374.98 965.79,-362.28 960.69,-348.42 956.44,-337.86\"/>\n</g>\n<!-- 1&#45;&#45;14 -->\n<g id=\"edge17\" class=\"edge\">\n<title>1&#45;&#45;14</title>\n<path fill=\"none\" stroke=\"black\" d=\"M1016.75,-741.31C989.61,-679.77 889.67,-460.54 775,-299.99 764.1,-284.73 749.37,-269.15 738.73,-258.58\"/>\n</g>\n<!-- 1&#45;&#45;16 -->\n<g id=\"edge18\" class=\"edge\">\n<title>1&#45;&#45;16</title>\n<path fill=\"none\" stroke=\"black\" d=\"M1050.27,-754.43C1130.35,-742.01 1366,-692.81 1366,-543.98 1366,-543.98 1366,-543.98 1366,-393.48 1366,-334.86 1312.56,-280.92 1285.84,-257.62\"/>\n</g>\n<!-- 1&#45;&#45;17 -->\n<g id=\"edge19\" class=\"edge\">\n<title>1&#45;&#45;17</title>\n<path fill=\"none\" stroke=\"black\" d=\"M1048.82,-751.51C1071.09,-744.24 1102.43,-730.04 1117,-704.98 1160.57,-629.99 1092.95,-524.29 1064.58,-485.5\"/>\n</g>\n<!-- 1&#45;&#45;19 -->\n<g id=\"edge20\" class=\"edge\">\n<title>1&#45;&#45;19</title>\n<path fill=\"none\" stroke=\"black\" d=\"M1051.16,-757.83C1149.33,-755.76 1480,-734.62 1480,-543.98 1480,-543.98 1480,-543.98 1480,-168.49 1480,-115.66 1729.04,-177.54 1257,-75 1099.71,-40.83 576.97,-24.15 469.44,-21.04\"/>\n</g>\n<!-- 1&#45;&#45;8 -->\n<g id=\"edge13\" class=\"edge\">\n<title>1&#45;&#45;8</title>\n<path fill=\"none\" stroke=\"black\" d=\"M1002.42,-747.7C983.39,-738.09 955.42,-722.6 934,-704.98 906.72,-682.53 880.64,-650.36 866.32,-631.47\"/>\n</g>\n<!-- 6 -->\n<g id=\"node18\" class=\"node\">\n<title>6</title>\n<ellipse fill=\"none\" stroke=\"black\" cx=\"1081\" cy=\"-686.98\" rx=\"27\" ry=\"18\"/>\n<text text-anchor=\"middle\" x=\"1081\" y=\"-683.28\" font-family=\"Times,serif\" font-size=\"14.00\">6</text>\n</g>\n<!-- 1&#45;&#45;6 -->\n<g id=\"edge12\" class=\"edge\">\n<title>1&#45;&#45;6</title>\n<path fill=\"none\" stroke=\"black\" d=\"M1036.37,-742.79C1045.93,-731.05 1059.1,-714.87 1068.66,-703.14\"/>\n</g>\n<!-- 1&#45;&#45;10 -->\n<g id=\"edge14\" class=\"edge\">\n<title>1&#45;&#45;10</title>\n<path fill=\"none\" stroke=\"black\" d=\"M999.13,-751.84C965.39,-743.17 903.5,-726 853,-704.98 741.36,-658.5 616.25,-584.5 569.23,-555.84\"/>\n</g>\n<!-- 6&#45;&#45;13 -->\n<g id=\"edge43\" class=\"edge\">\n<title>6&#45;&#45;13</title>\n<path fill=\"none\" stroke=\"black\" d=\"M1084.76,-669.02C1092.77,-629.31 1108.64,-527.77 1081,-449.98 1057.95,-385.12 1027.58,-380.92 973,-338.98 970.08,-336.74 966.96,-334.34 963.97,-332.04\"/>\n</g>\n<!-- 6&#45;&#45;19 -->\n<g id=\"edge44\" class=\"edge\">\n<title>6&#45;&#45;19</title>\n<path fill=\"none\" stroke=\"black\" d=\"M1106.96,-681.58C1189.74,-666.85 1442,-616.04 1442,-543.98 1442,-543.98 1442,-543.98 1442,-168.49 1442,-66.41 609.63,-27.17 469.82,-21.29\"/>\n</g>\n<!-- 6&#45;&#45;8 -->\n<g id=\"edge42\" class=\"edge\">\n<title>6&#45;&#45;8</title>\n<path fill=\"none\" stroke=\"black\" d=\"M1056.81,-678.48C1013.32,-665.01 922.38,-636.85 879.01,-623.41\"/>\n</g>\n<!-- 10&#45;&#45;11 -->\n<g id=\"edge61\" class=\"edge\">\n<title>10&#45;&#45;11</title>\n<path fill=\"none\" stroke=\"black\" d=\"M526.98,-533.39C501.08,-523.52 457.92,-506.4 422,-488.98 416.56,-486.34 410.77,-483.21 405.58,-480.28\"/>\n</g>\n<!-- 10&#45;&#45;12 -->\n<g id=\"edge62\" class=\"edge\">\n<title>10&#45;&#45;12</title>\n<path fill=\"none\" stroke=\"black\" d=\"M551.05,-524.88C552.75,-497.26 556.08,-443 557.84,-414.31\"/>\n</g>\n<!-- 10&#45;&#45;14 -->\n<g id=\"edge63\" class=\"edge\">\n<title>10&#45;&#45;14</title>\n<path fill=\"none\" stroke=\"black\" d=\"M558.62,-525.87C579.72,-486.65 636.07,-383.31 688,-299.99 696.35,-286.59 706.45,-271.8 713.98,-261.01\"/>\n</g>\n<!-- 10&#45;&#45;15 -->\n<g id=\"edge64\" class=\"edge\">\n<title>10&#45;&#45;15</title>\n<path fill=\"none\" stroke=\"black\" d=\"M526.52,-534.07C505.95,-525.94 476.79,-511.29 460,-488.98 434.21,-454.69 436,-438.38 436,-395.48 436,-395.48 436,-395.48 436,-318.48 436,-271.89 431.5,-217.2 428.86,-189.16\"/>\n</g>\n<!-- 10&#45;&#45;17 -->\n<g id=\"edge65\" class=\"edge\">\n<title>10&#45;&#45;17</title>\n<path fill=\"none\" stroke=\"black\" d=\"M576.34,-538.23C665.68,-525.53 956,-484.27 1033.72,-473.22\"/>\n</g>\n<!-- 10&#45;&#45;18 -->\n<g id=\"edge66\" class=\"edge\">\n<title>10&#45;&#45;18</title>\n<path fill=\"none\" stroke=\"black\" d=\"M536.06,-527.06C514.12,-501.96 474,-448.77 474,-395.48 474,-395.48 474,-395.48 474,-243.49 474,-196.12 461.87,-141.3 454.86,-113.57\"/>\n</g>\n<!-- 3&#45;&#45;11 -->\n<g id=\"edge30\" class=\"edge\">\n<title>3&#45;&#45;11</title>\n<path fill=\"none\" stroke=\"black\" d=\"M488.84,-741.28C470.2,-690.7 414.46,-539.53 395.44,-487.95\"/>\n</g>\n<!-- 3&#45;&#45;12 -->\n<g id=\"edge31\" class=\"edge\">\n<title>3&#45;&#45;12</title>\n<path fill=\"none\" stroke=\"black\" d=\"M494.92,-740.81C495.07,-701.94 497.25,-604.4 514,-524.98 522.74,-483.52 541.08,-437.11 551.45,-412.68\"/>\n</g>\n<!-- 3&#45;&#45;13 -->\n<g id=\"edge32\" class=\"edge\">\n<title>3&#45;&#45;13</title>\n<path fill=\"none\" stroke=\"black\" d=\"M516.17,-747.58C535.24,-737.77 563.62,-722.06 586,-704.98 732.62,-593.02 762.05,-554.14 882,-413.98 904.07,-388.19 926.38,-355.42 938.87,-336.32\"/>\n</g>\n<!-- 3&#45;&#45;15 -->\n<g id=\"edge33\" class=\"edge\">\n<title>3&#45;&#45;15</title>\n<path fill=\"none\" stroke=\"black\" d=\"M471.77,-749.37C432.78,-733.43 355.7,-695.17 328,-632.98 267.29,-496.66 335.3,-444.88 371,-299.99 379.28,-266.38 377.82,-256.57 392,-224.99 398.36,-210.83 408.03,-196.1 415.6,-185.53\"/>\n</g>\n<!-- 3&#45;&#45;17 -->\n<g id=\"edge34\" class=\"edge\">\n<title>3&#45;&#45;17</title>\n<path fill=\"none\" stroke=\"black\" d=\"M521.31,-754.02C565.86,-746.9 658.66,-730.29 734,-704.98 806.77,-680.53 824.21,-670.82 891,-632.98 940.23,-605.08 956.78,-601.76 996,-560.98 1017.49,-538.63 1035.2,-506.92 1044.92,-487.58\"/>\n</g>\n<!-- 3&#45;&#45;4 -->\n<g id=\"edge27\" class=\"edge\">\n<title>3&#45;&#45;4</title>\n<path fill=\"none\" stroke=\"black\" d=\"M518.68,-749.81C557.8,-736.32 635.45,-709.54 674.47,-696.09\"/>\n</g>\n<!-- 3&#45;&#45;7 -->\n<g id=\"edge28\" class=\"edge\">\n<title>3&#45;&#45;7</title>\n<path fill=\"none\" stroke=\"black\" d=\"M506.93,-742.79C516.16,-731.05 528.87,-714.87 538.09,-703.14\"/>\n</g>\n<!-- 3&#45;&#45;9 -->\n<g id=\"edge29\" class=\"edge\">\n<title>3&#45;&#45;9</title>\n<path fill=\"none\" stroke=\"black\" d=\"M480.23,-743.32C469.71,-732.78 455.31,-718.17 443,-704.98 419.18,-679.45 392.38,-648.84 376.92,-630.98\"/>\n</g>\n</g>\n</svg>\n",
            "text/plain": [
              "<graphviz.graphs.Graph at 0x792d67bfa990>"
            ]
          },
          "metadata": {}
        }
      ]
    },
    {
      "cell_type": "markdown",
      "source": [
        "## LEF DEF Parsing\n",
        "\n",
        "- Install the LEFDEFParser from the the wheel file : [LEFDEFParser-0.1-cp310-cp310-linux_x86_64.whl](https://github.com/srini229/EE5333_tutorials/blob/master/parser/LEFDEFParser-0.1-cp310-cp310-linux_x86_64.whl)\n",
        "- Download example LEF and DEF files: [Nangate.lef](https://github.com/srini229/EE5333_tutorials/blob/master/parser/Nangate.lef) and [example.def](https://github.com/srini229/EE5333_tutorials/blob/master/parser/example.def)\n",
        "\n",
        "    <img src=\"https://raw.githubusercontent.com/srini229/EE5333_tutorials/master/part/fig/example_cir.png\" width=340 height=195 />\n",
        "\n"
      ],
      "metadata": {
        "id": "9b8l7WIsKTOC"
      }
    },
    {
      "cell_type": "code",
      "source": [
        "!pip install --break-system-packages https://raw.githubusercontent.com/srini229/EE5333_tutorials/master/parser/LEFDEFParser-0.1-cp311-cp311-linux_x86_64.whl\n",
        "!rm *.{lef,def}\n",
        "!wget https://raw.githubusercontent.com/srini229/EE5333_tutorials/master/parser/{Nangate.lef,example.def}\n",
        "!wget https://raw.githubusercontent.com/srini229/EE5333_tutorials/master/parser/sample.{lef,def}"
      ],
      "metadata": {
        "id": "yZMKB51YKRme",
        "outputId": "96c2594b-23e4-4794-ccd1-76dba2579f37",
        "colab": {
          "base_uri": "https://localhost:8080/"
        }
      },
      "execution_count": 13,
      "outputs": [
        {
          "output_type": "stream",
          "name": "stdout",
          "text": [
            "Collecting LEFDEFParser==0.1\n",
            "  Downloading https://raw.githubusercontent.com/srini229/EE5333_tutorials/master/parser/LEFDEFParser-0.1-cp311-cp311-linux_x86_64.whl (617 kB)\n",
            "\u001b[2K     \u001b[90m━━━━━━━━━━━━━━━━━━━━━━━━━━━━━━━━━━━━━━━━\u001b[0m \u001b[32m617.8/617.8 kB\u001b[0m \u001b[31m10.1 MB/s\u001b[0m eta \u001b[36m0:00:00\u001b[0m\n",
            "\u001b[?25hInstalling collected packages: LEFDEFParser\n",
            "Successfully installed LEFDEFParser-0.1\n",
            "rm: cannot remove '*.lef': No such file or directory\n",
            "rm: cannot remove '*.def': No such file or directory\n",
            "--2025-02-03 07:13:49--  https://raw.githubusercontent.com/srini229/EE5333_tutorials/master/parser/Nangate.lef\n",
            "Resolving raw.githubusercontent.com (raw.githubusercontent.com)... 185.199.108.133, 185.199.109.133, 185.199.110.133, ...\n",
            "Connecting to raw.githubusercontent.com (raw.githubusercontent.com)|185.199.108.133|:443... connected.\n",
            "HTTP request sent, awaiting response... 200 OK\n",
            "Length: 1083933 (1.0M) [text/plain]\n",
            "Saving to: ‘Nangate.lef’\n",
            "\n",
            "Nangate.lef         100%[===================>]   1.03M  --.-KB/s    in 0.06s   \n",
            "\n",
            "2025-02-03 07:13:50 (16.4 MB/s) - ‘Nangate.lef’ saved [1083933/1083933]\n",
            "\n",
            "--2025-02-03 07:13:50--  https://raw.githubusercontent.com/srini229/EE5333_tutorials/master/parser/example.def\n",
            "Reusing existing connection to raw.githubusercontent.com:443.\n",
            "HTTP request sent, awaiting response... 200 OK\n",
            "Length: 899 [text/plain]\n",
            "Saving to: ‘example.def’\n",
            "\n",
            "example.def         100%[===================>]     899  --.-KB/s    in 0s      \n",
            "\n",
            "2025-02-03 07:13:50 (40.8 MB/s) - ‘example.def’ saved [899/899]\n",
            "\n",
            "FINISHED --2025-02-03 07:13:50--\n",
            "Total wall clock time: 0.9s\n",
            "Downloaded: 2 files, 1.0M in 0.06s (16.4 MB/s)\n",
            "--2025-02-03 07:13:50--  https://raw.githubusercontent.com/srini229/EE5333_tutorials/master/parser/sample.lef\n",
            "Resolving raw.githubusercontent.com (raw.githubusercontent.com)... 185.199.110.133, 185.199.111.133, 185.199.108.133, ...\n",
            "Connecting to raw.githubusercontent.com (raw.githubusercontent.com)|185.199.110.133|:443... connected.\n",
            "HTTP request sent, awaiting response... 200 OK\n",
            "Length: 40034 (39K) [text/plain]\n",
            "Saving to: ‘sample.lef’\n",
            "\n",
            "sample.lef          100%[===================>]  39.10K  --.-KB/s    in 0.01s   \n",
            "\n",
            "2025-02-03 07:13:50 (3.20 MB/s) - ‘sample.lef’ saved [40034/40034]\n",
            "\n",
            "--2025-02-03 07:13:50--  https://raw.githubusercontent.com/srini229/EE5333_tutorials/master/parser/sample.def\n",
            "Reusing existing connection to raw.githubusercontent.com:443.\n",
            "HTTP request sent, awaiting response... 200 OK\n",
            "Length: 2909 (2.8K) [text/plain]\n",
            "Saving to: ‘sample.def’\n",
            "\n",
            "sample.def          100%[===================>]   2.84K  --.-KB/s    in 0s      \n",
            "\n",
            "2025-02-03 07:13:51 (40.7 MB/s) - ‘sample.def’ saved [2909/2909]\n",
            "\n",
            "FINISHED --2025-02-03 07:13:51--\n",
            "Total wall clock time: 0.7s\n",
            "Downloaded: 2 files, 42K in 0.01s (3.41 MB/s)\n"
          ]
        }
      ]
    },
    {
      "cell_type": "code",
      "source": [
        "V,E = loadNetlist('Nangate.lef', 'example.def')\n",
        "Atotal = sum(V[u]._area for u in V)\n",
        "maxCellArea = max(V[u]._area for u in V)\n",
        "print(Atotal, round(maxCellArea,2))"
      ],
      "metadata": {
        "id": "sdy6ddx9cSRO",
        "colab": {
          "base_uri": "https://localhost:8080/",
          "height": 193
        },
        "outputId": "9dcc28d6-a9ed-43ae-d58d-13b15547e252"
      },
      "execution_count": 14,
      "outputs": [
        {
          "output_type": "error",
          "ename": "NameError",
          "evalue": "name 'loadNetlist' is not defined",
          "traceback": [
            "\u001b[0;31m---------------------------------------------------------------------------\u001b[0m",
            "\u001b[0;31mNameError\u001b[0m                                 Traceback (most recent call last)",
            "\u001b[0;32m<ipython-input-14-87a05ac2a385>\u001b[0m in \u001b[0;36m<cell line: 0>\u001b[0;34m()\u001b[0m\n\u001b[0;32m----> 1\u001b[0;31m \u001b[0mV\u001b[0m\u001b[0;34m,\u001b[0m\u001b[0mE\u001b[0m \u001b[0;34m=\u001b[0m \u001b[0mloadNetlist\u001b[0m\u001b[0;34m(\u001b[0m\u001b[0;34m'Nangate.lef'\u001b[0m\u001b[0;34m,\u001b[0m \u001b[0;34m'example.def'\u001b[0m\u001b[0;34m)\u001b[0m\u001b[0;34m\u001b[0m\u001b[0;34m\u001b[0m\u001b[0m\n\u001b[0m\u001b[1;32m      2\u001b[0m \u001b[0mAtotal\u001b[0m \u001b[0;34m=\u001b[0m \u001b[0msum\u001b[0m\u001b[0;34m(\u001b[0m\u001b[0mV\u001b[0m\u001b[0;34m[\u001b[0m\u001b[0mu\u001b[0m\u001b[0;34m]\u001b[0m\u001b[0;34m.\u001b[0m\u001b[0m_area\u001b[0m \u001b[0;32mfor\u001b[0m \u001b[0mu\u001b[0m \u001b[0;32min\u001b[0m \u001b[0mV\u001b[0m\u001b[0;34m)\u001b[0m\u001b[0;34m\u001b[0m\u001b[0;34m\u001b[0m\u001b[0m\n\u001b[1;32m      3\u001b[0m \u001b[0mmaxCellArea\u001b[0m \u001b[0;34m=\u001b[0m \u001b[0mmax\u001b[0m\u001b[0;34m(\u001b[0m\u001b[0mV\u001b[0m\u001b[0;34m[\u001b[0m\u001b[0mu\u001b[0m\u001b[0;34m]\u001b[0m\u001b[0;34m.\u001b[0m\u001b[0m_area\u001b[0m \u001b[0;32mfor\u001b[0m \u001b[0mu\u001b[0m \u001b[0;32min\u001b[0m \u001b[0mV\u001b[0m\u001b[0;34m)\u001b[0m\u001b[0;34m\u001b[0m\u001b[0;34m\u001b[0m\u001b[0m\n\u001b[1;32m      4\u001b[0m \u001b[0mprint\u001b[0m\u001b[0;34m(\u001b[0m\u001b[0mAtotal\u001b[0m\u001b[0;34m,\u001b[0m \u001b[0mround\u001b[0m\u001b[0;34m(\u001b[0m\u001b[0mmaxCellArea\u001b[0m\u001b[0;34m,\u001b[0m\u001b[0;36m2\u001b[0m\u001b[0;34m)\u001b[0m\u001b[0;34m)\u001b[0m\u001b[0;34m\u001b[0m\u001b[0;34m\u001b[0m\u001b[0m\n",
            "\u001b[0;31mNameError\u001b[0m: name 'loadNetlist' is not defined"
          ]
        }
      ]
    },
    {
      "cell_type": "code",
      "source": [
        "V,E = loadNetlist('sample.lef', 'sample.def')\n",
        "Atotal = sum(V[u]._area for u in V)\n",
        "maxCellArea = max(V[u]._area for u in V)\n",
        "print(Atotal, round(maxCellArea,2))"
      ],
      "metadata": {
        "id": "4a6bTl_XcaPD",
        "colab": {
          "base_uri": "https://localhost:8080/",
          "height": 193
        },
        "outputId": "cb8bf18d-033f-46cf-e5d7-792f8a468849"
      },
      "execution_count": 15,
      "outputs": [
        {
          "output_type": "error",
          "ename": "NameError",
          "evalue": "name 'loadNetlist' is not defined",
          "traceback": [
            "\u001b[0;31m---------------------------------------------------------------------------\u001b[0m",
            "\u001b[0;31mNameError\u001b[0m                                 Traceback (most recent call last)",
            "\u001b[0;32m<ipython-input-15-40c32ca4fac3>\u001b[0m in \u001b[0;36m<cell line: 0>\u001b[0;34m()\u001b[0m\n\u001b[0;32m----> 1\u001b[0;31m \u001b[0mV\u001b[0m\u001b[0;34m,\u001b[0m\u001b[0mE\u001b[0m \u001b[0;34m=\u001b[0m \u001b[0mloadNetlist\u001b[0m\u001b[0;34m(\u001b[0m\u001b[0;34m'sample.lef'\u001b[0m\u001b[0;34m,\u001b[0m \u001b[0;34m'sample.def'\u001b[0m\u001b[0;34m)\u001b[0m\u001b[0;34m\u001b[0m\u001b[0;34m\u001b[0m\u001b[0m\n\u001b[0m\u001b[1;32m      2\u001b[0m \u001b[0mAtotal\u001b[0m \u001b[0;34m=\u001b[0m \u001b[0msum\u001b[0m\u001b[0;34m(\u001b[0m\u001b[0mV\u001b[0m\u001b[0;34m[\u001b[0m\u001b[0mu\u001b[0m\u001b[0;34m]\u001b[0m\u001b[0;34m.\u001b[0m\u001b[0m_area\u001b[0m \u001b[0;32mfor\u001b[0m \u001b[0mu\u001b[0m \u001b[0;32min\u001b[0m \u001b[0mV\u001b[0m\u001b[0;34m)\u001b[0m\u001b[0;34m\u001b[0m\u001b[0;34m\u001b[0m\u001b[0m\n\u001b[1;32m      3\u001b[0m \u001b[0mmaxCellArea\u001b[0m \u001b[0;34m=\u001b[0m \u001b[0mmax\u001b[0m\u001b[0;34m(\u001b[0m\u001b[0mV\u001b[0m\u001b[0;34m[\u001b[0m\u001b[0mu\u001b[0m\u001b[0;34m]\u001b[0m\u001b[0;34m.\u001b[0m\u001b[0m_area\u001b[0m \u001b[0;32mfor\u001b[0m \u001b[0mu\u001b[0m \u001b[0;32min\u001b[0m \u001b[0mV\u001b[0m\u001b[0;34m)\u001b[0m\u001b[0;34m\u001b[0m\u001b[0;34m\u001b[0m\u001b[0m\n\u001b[1;32m      4\u001b[0m \u001b[0mprint\u001b[0m\u001b[0;34m(\u001b[0m\u001b[0mAtotal\u001b[0m\u001b[0;34m,\u001b[0m \u001b[0mround\u001b[0m\u001b[0;34m(\u001b[0m\u001b[0mmaxCellArea\u001b[0m\u001b[0;34m,\u001b[0m\u001b[0;36m2\u001b[0m\u001b[0;34m)\u001b[0m\u001b[0;34m)\u001b[0m\u001b[0;34m\u001b[0m\u001b[0;34m\u001b[0m\u001b[0m\n",
            "\u001b[0;31mNameError\u001b[0m: name 'loadNetlist' is not defined"
          ]
        }
      ]
    }
  ]
}