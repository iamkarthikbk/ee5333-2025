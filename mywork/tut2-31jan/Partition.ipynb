{
  "nbformat": 4,
  "nbformat_minor": 0,
  "metadata": {
    "colab": {
      "provenance": [],
      "include_colab_link": true
    },
    "kernelspec": {
      "display_name": "Python 3 (ipykernel)",
      "language": "python",
      "name": "python3"
    },
    "language_info": {
      "codemirror_mode": {
        "name": "ipython",
        "version": 3
      },
      "file_extension": ".py",
      "mimetype": "text/x-python",
      "name": "python",
      "nbconvert_exporter": "python",
      "pygments_lexer": "ipython3",
      "version": "3.11.2"
    }
  },
  "cells": [
    {
      "cell_type": "markdown",
      "metadata": {
        "id": "view-in-github",
        "colab_type": "text"
      },
      "source": [
        "<a href=\"https://colab.research.google.com/github/iamkarthikbk/ee5333-2025/blob/main/mywork/tut2-31jan/Partition.ipynb\" target=\"_parent\"><img src=\"https://colab.research.google.com/assets/colab-badge.svg\" alt=\"Open In Colab\"/></a>"
      ]
    },
    {
      "cell_type": "code",
      "execution_count": 1,
      "metadata": {
        "colab": {
          "base_uri": "https://localhost:8080/"
        },
        "id": "6pfNNa4fqwMy",
        "outputId": "eb4ef093-df60-4a94-9592-16d5eab52977"
      },
      "outputs": [
        {
          "output_type": "stream",
          "name": "stdout",
          "text": [
            "Requirement already satisfied: mip in /usr/local/lib/python3.11/dist-packages (1.15.0)\n",
            "Requirement already satisfied: cffi==1.15.* in /usr/local/lib/python3.11/dist-packages (from mip) (1.15.1)\n",
            "Requirement already satisfied: pycparser in /usr/local/lib/python3.11/dist-packages (from cffi==1.15.*->mip) (2.22)\n"
          ]
        }
      ],
      "source": [
        "!pip install mip"
      ]
    },
    {
      "cell_type": "markdown",
      "metadata": {
        "id": "RWFnDilGqp48"
      },
      "source": [
        "## Partitioning\n",
        "\n",
        "* Kernighan Lin Algorithm for bi-partitioning ($V'$) :\n",
        "  + $G=(V,E)$\n",
        "  + $A$, $B$ $\\subset V$\n",
        "  + $A \\cup B = V$\n",
        "  + $A\\cap B = ∅$\n",
        "  + $|A| = |B| = \\dfrac{|V|}{2}$\n",
        "  + Flowchart:\n",
        "\n",
        "    <img src=\"https://raw.githubusercontent.com/srini229/EE5333_tutorials/master/part/fig/KL_flowchart.jpg\" width=698 height=612 />\n"
      ]
    },
    {
      "cell_type": "code",
      "execution_count": 2,
      "metadata": {
        "id": "mRdE46JJsBI9"
      },
      "outputs": [],
      "source": [
        "# Vertex class to hold the partition index, neighbours, EA, EB and D values\n",
        "class Vertex:\n",
        "  def __init__(self, i, part):\n",
        "    self._id = i\n",
        "    self._nbrs = []\n",
        "    self._part = part\n",
        "    self._ea = 0\n",
        "    self._eb = 0\n",
        "    self._d  = 0\n",
        "  def reset(self, part):\n",
        "    (self._part, self._ea, self._eb, self._d) = (part, 0, 0, 0)\n",
        "  def __str__(self):\n",
        "    return '(' + str(self._id) + ',' + str(self._part) + ',' + str(self._ea) + ',' + str(self._eb) + ',' + str(self._d) + ',' + str([i._id for i in self._nbrs]) + ')'\n",
        "  def __repr__(self):\n",
        "    return str(self)\n",
        "\n",
        "# clear the partition, EA, EB and D values\n",
        "# do this at the beginning of every iteration\n",
        "def reset(V, A, B):\n",
        "  for j in range(2):\n",
        "    partition = A if (0 == j) else B\n",
        "    for i in partition:\n",
        "      V[i].reset(j)\n",
        "  for v in V:\n",
        "    assert(v._part == 0 or v._part == 1)\n",
        "    for n in v._nbrs:\n",
        "      if n._part == 0:\n",
        "        v._ea += 1\n",
        "      else:\n",
        "        v._eb += 1\n",
        "  for v in V:\n",
        "    v._d = (v._ea - v._eb) if (v._part == 1) else (v._eb - v._ea)\n",
        "\n",
        "# Choose the pair whose swap has the maximum gain in number of cuts\n",
        "def findMaxGain(V, Ap, Bp, E):\n",
        "  (amax, bmax, gmax) = (-1, -1, -2 * len(E) - 1)\n",
        "  for a in Ap:\n",
        "    for b in Bp:\n",
        "      g = V[a]._d + V[b]._d - (2 if (min(a,b), max(a,b)) in E else 0)\n",
        "      if gmax < g:\n",
        "        (amax, bmax, gmax) = (a, b, g)\n",
        "  assert(amax >= 0 and bmax >= 0)\n",
        "  return (amax, bmax, gmax)\n",
        "\n",
        "# update the E and D for only the affected neighbours of a and b\n",
        "def updateED(V, a, b):\n",
        "  V[a]._part = 1\n",
        "  V[b]._part = 0\n",
        "  for i in [a,b]:\n",
        "    for n in V[i]._nbrs:\n",
        "      if i == a:\n",
        "        n._ea -= 1\n",
        "        n._eb += 1\n",
        "      else:\n",
        "        n._ea += 1\n",
        "        n._eb -= 1\n",
        "      n._d = (n._ea - n._eb) if (n._part == 1) else (n._eb - n._ea)\n",
        "\n",
        "# N is the number of vertices; vertices are {0, 1,... N-1}\n",
        "# E is the list of edges\n",
        "# E : list of edges; edge = unordered pair of vertices\n",
        "# Return value : two sets A, B and the count of number of cuts\n",
        "def KLPart(N, E):\n",
        "  if N%2: N+= 1 # make N even if its odd by adding a single no-neighbour vertex\n",
        "  V = [Vertex(i, -1) for i in range(N)]\n",
        "  for e in E:\n",
        "    if e[0] > e[1]: e = (e[1], e[0])\n",
        "    else: e = (e[0], e[1])\n",
        "  E = set(E)\n",
        "  for e in E:\n",
        "    V[e[0]]._nbrs.append(V[e[1]])\n",
        "    V[e[1]]._nbrs.append(V[e[0]])\n",
        "  import random\n",
        "  Vc = V[:]\n",
        "  partLen = N//2\n",
        "  random.shuffle(Vc) # randomly initialize A and B\n",
        "\n",
        "  A = {Vc[i]._id for i in range(partLen)}\n",
        "  B = {Vc[i]._id for i in range(partLen, N)}\n",
        "\n",
        "  print(A)\n",
        "  print(B)\n",
        "  maxGain = 1\n",
        "  while maxGain >= 0:\n",
        "    Ap, Bp= A.copy(), B.copy()\n",
        "    reset(V, A, B)\n",
        "    G, S = [], []\n",
        "    for p in range(partLen):\n",
        "      (a, b, g) = findMaxGain(V, Ap, Bp, E)\n",
        "      updateED(V, a, b)\n",
        "      Ap.remove(a)\n",
        "      Bp.remove(b)\n",
        "      G.append(g)\n",
        "      S.append((a, b))\n",
        "    for i in range(1, len(G)):\n",
        "      G[i] += G[i-1]\n",
        "    maxGain = max(G)\n",
        "    maxIndex = G.index(maxGain)\n",
        "    if maxGain > 0:\n",
        "      for (a, b) in S[0:maxIndex + 1]:\n",
        "        A.remove(a)\n",
        "        B.remove(b)\n",
        "        A.add(b)\n",
        "        B.add(a)\n",
        "    else:\n",
        "      break\n",
        "\n",
        "  cut = 0\n",
        "  for a in A:\n",
        "    for b in B:\n",
        "      if (min(a, b), max(a,b)) in E:\n",
        "        cut += 1\n",
        "  return (A, B, cut)"
      ]
    },
    {
      "cell_type": "code",
      "execution_count": 3,
      "metadata": {
        "colab": {
          "base_uri": "https://localhost:8080/"
        },
        "id": "TDx6x3GsuxKa",
        "outputId": "a3fb9ec9-4c30-4ab2-d6b2-7ce06da2e891"
      },
      "outputs": [
        {
          "output_type": "stream",
          "name": "stdout",
          "text": [
            "{0, 3, 4, 7}\n",
            "{1, 2, 5, 6}\n",
            "({2, 3, 6, 7}, {0, 1, 4, 5}, 1)\n"
          ]
        }
      ],
      "source": [
        "print(KLPart(8, [(0,1), (0,4), (0,5), (1,4), (1,5), (4,5), (2,3), (2,6), (2,7), (3,6), (3,7), (6,7), (2,5)]))"
      ]
    },
    {
      "cell_type": "markdown",
      "metadata": {
        "id": "iXlhpb6Qy6Wr"
      },
      "source": [
        "## Bipartitioning using ILP\n",
        "+ $x_v$ is the indicator variable for $v$ being in $A$\n",
        "+ $x_{u,v}$ is the indicator variable for $(u,v)\\in E$ being cut\n",
        "+ <ul>\n",
        "$\\begin{align}\n",
        "        x_{u,v} = x_u \\oplus x_v\n",
        "\\end{align}$\n",
        "</ul>\n",
        "\n",
        "+ Objective: $\\min\\limits_{x_v, x_{u,v}} \\sum\\limits_{(u,v)\\in E}x_{u,v}$\n",
        "+ Subject to constraints:\n",
        "<ul>\n",
        "$\\begin{align}\n",
        "\\sum_{v\\in V} x_v&=\\frac{|V|}{2}\\\\\n",
        "x_u - x_v &\\leq x_{u,v}, &\\forall (u,v) \\in E\\\\\n",
        "x_v - x_u &\\leq x_{u,v}, &\\forall (u,v) \\in E\\\\\n",
        "x_u + x_v &\\geq x_{u,v}, &\\forall (u,v) \\in E\\\\\n",
        "x_u + x_v + x_{u,v} &\\leq 2, &\\forall (u,v) \\in E\\\\\n",
        "x_v &\\in \\{0, 1\\}, &\\forall v \\in V\\\\\n",
        "x_{u,v} &\\in \\{0, 1\\}, &\\forall (u,v) \\in E\n",
        "\\end{align}$\n",
        "</ul>\n"
      ]
    },
    {
      "cell_type": "code",
      "execution_count": 4,
      "metadata": {
        "id": "5J5avrLbvGiv"
      },
      "outputs": [],
      "source": [
        "def bipartition(N, E):\n",
        "  import mip\n",
        "  model = mip.Model(\"Bi-partition\")\n",
        "  x = [model.add_var(f\"x_{u}\", var_type = mip.BINARY) for u in range(N)]\n",
        "  x_uv = [model.add_var(f\"x_{u}_{v}\", var_type = mip.BINARY) for u,v in E]\n",
        "  model.verbose = 0\n",
        "  model.objective = mip.minimize(mip.xsum(x_uv))\n",
        "  model += (mip.xsum(x) == N//2)\n",
        "  for e, (u,v) in enumerate(E):\n",
        "  # xor constraints\n",
        "    model += (x[u] - x[v] <= x_uv[e])\n",
        "    model += (x[v] - x[u] <= x_uv[e])\n",
        "    model += (x[u] + x[v] >= x_uv[e])\n",
        "    model += (x[u] + x[v] + x_uv[e] <= 2)\n",
        "\n",
        "  model.write(\"bipartition.lp\")\n",
        "  model.optimize()\n",
        "  if model.status == mip.OptimizationStatus.OPTIMAL:\n",
        "    A = [i for i in range(N) if x[i].x >= 0.9]\n",
        "    B = [i for i in range(N) if x[i].x < 0.9]\n",
        "    return (A, B, model.objective.x)\n",
        "  return None\n",
        "\n"
      ]
    },
    {
      "cell_type": "code",
      "execution_count": 5,
      "metadata": {
        "colab": {
          "base_uri": "https://localhost:8080/"
        },
        "id": "8FNdUsrs-vn9",
        "outputId": "178ee9ab-dfd5-4888-f674-61d25dc5d7d6"
      },
      "outputs": [
        {
          "output_type": "stream",
          "name": "stdout",
          "text": [
            "([2, 3, 6, 7], [0, 1, 4, 5], 1.0)\n"
          ]
        }
      ],
      "source": [
        "print(bipartition(8, [(0,1), (0,4), (0,5), (1,4), (1,5), (4,5), (2,3), (2,6), (2,7), (3,6), (3,7), (6,7), (2,5)]))"
      ]
    },
    {
      "cell_type": "code",
      "execution_count": 6,
      "metadata": {
        "id": "nd93RnYwxVjq"
      },
      "outputs": [],
      "source": [
        "def random_graph(N, fns):\n",
        "  import networkx as nx\n",
        "  import time\n",
        "  g = nx.erdos_renyi_graph(N, 0.4)\n",
        "  G = []\n",
        "  for fn in fns:\n",
        "    t = time.time()\n",
        "    (A,B,c) = fn(N, g.edges)\n",
        "    print(\"runtime : \", time.time() - t, 'cut size : ', c)\n",
        "    import graphviz\n",
        "    gv = graphviz.Graph()\n",
        "    A = list(A)\n",
        "    B = list(B)\n",
        "    for i in range(len(A)):\n",
        "      gv.node(str(A[i]), color='red', shape='circle')\n",
        "    for i in range(len(B)):\n",
        "      gv.node(str(B[i]), color='blue', shape='circle')\n",
        "    for e in g.edges:\n",
        "      gv.edge(str(e[0]), str(e[1]), splines='line')\n",
        "    #gv.engine = 'patchwork'\n",
        "    G.append(gv)\n",
        "  return G"
      ]
    },
    {
      "cell_type": "code",
      "execution_count": 7,
      "metadata": {
        "colab": {
          "base_uri": "https://localhost:8080/",
          "height": 1000
        },
        "id": "XJrIsWs02hjm",
        "outputId": "2cece091-729a-4c25-ee6e-952c4794b4e8"
      },
      "outputs": [
        {
          "output_type": "stream",
          "name": "stdout",
          "text": [
            "{1, 3, 4, 7, 9}\n",
            "{0, 2, 5, 6, 8}\n",
            "runtime :  0.0003101825714111328 cut size :  6\n",
            "runtime :  0.28560447692871094 cut size :  6.0\n"
          ]
        },
        {
          "output_type": "display_data",
          "data": {
            "image/svg+xml": "<?xml version=\"1.0\" encoding=\"UTF-8\" standalone=\"no\"?>\n<!DOCTYPE svg PUBLIC \"-//W3C//DTD SVG 1.1//EN\"\n \"http://www.w3.org/Graphics/SVG/1.1/DTD/svg11.dtd\">\n<!-- Generated by graphviz version 2.43.0 (0)\n -->\n<!-- Title: %3 Pages: 1 -->\n<svg width=\"214pt\" height=\"404pt\"\n viewBox=\"0.00 0.00 214.21 404.00\" xmlns=\"http://www.w3.org/2000/svg\" xmlns:xlink=\"http://www.w3.org/1999/xlink\">\n<g id=\"graph0\" class=\"graph\" transform=\"scale(1 1) rotate(0) translate(4 400)\">\n<title>%3</title>\n<polygon fill=\"white\" stroke=\"transparent\" points=\"-4,4 -4,-400 210.21,-400 210.21,4 -4,4\"/>\n<!-- 0 -->\n<g id=\"node1\" class=\"node\">\n<title>0</title>\n<ellipse fill=\"none\" stroke=\"red\" cx=\"88.21\" cy=\"-378\" rx=\"18\" ry=\"18\"/>\n<text text-anchor=\"middle\" x=\"88.21\" y=\"-374.3\" font-family=\"Times,serif\" font-size=\"14.00\">0</text>\n</g>\n<!-- 1 -->\n<g id=\"node2\" class=\"node\">\n<title>1</title>\n<ellipse fill=\"none\" stroke=\"red\" cx=\"188.21\" cy=\"-306\" rx=\"18\" ry=\"18\"/>\n<text text-anchor=\"middle\" x=\"188.21\" y=\"-302.3\" font-family=\"Times,serif\" font-size=\"14.00\">1</text>\n</g>\n<!-- 0&#45;&#45;1 -->\n<g id=\"edge1\" class=\"edge\">\n<title>0&#45;&#45;1</title>\n<path fill=\"none\" stroke=\"black\" d=\"M102.54,-366.97C121.55,-353.66 154.92,-330.31 173.91,-317.01\"/>\n</g>\n<!-- 3 -->\n<g id=\"node3\" class=\"node\">\n<title>3</title>\n<ellipse fill=\"none\" stroke=\"red\" cx=\"161.21\" cy=\"-234\" rx=\"18\" ry=\"18\"/>\n<text text-anchor=\"middle\" x=\"161.21\" y=\"-230.3\" font-family=\"Times,serif\" font-size=\"14.00\">3</text>\n</g>\n<!-- 0&#45;&#45;3 -->\n<g id=\"edge2\" class=\"edge\">\n<title>0&#45;&#45;3</title>\n<path fill=\"none\" stroke=\"black\" d=\"M98.44,-363.03C105.84,-352.59 115.8,-337.79 123.21,-324 136.43,-299.44 148.48,-269.31 155.33,-251.16\"/>\n</g>\n<!-- 7 -->\n<g id=\"node4\" class=\"node\">\n<title>7</title>\n<ellipse fill=\"none\" stroke=\"red\" cx=\"31.21\" cy=\"-162\" rx=\"18\" ry=\"18\"/>\n<text text-anchor=\"middle\" x=\"31.21\" y=\"-158.3\" font-family=\"Times,serif\" font-size=\"14.00\">7</text>\n</g>\n<!-- 0&#45;&#45;7 -->\n<g id=\"edge4\" class=\"edge\">\n<title>0&#45;&#45;7</title>\n<path fill=\"none\" stroke=\"black\" d=\"M81.92,-360.92C77.97,-350.49 72.93,-336.56 69.21,-324 53.88,-272.23 40.57,-209.67 34.59,-180.09\"/>\n</g>\n<!-- 6 -->\n<g id=\"node9\" class=\"node\">\n<title>6</title>\n<ellipse fill=\"none\" stroke=\"blue\" cx=\"73.21\" cy=\"-90\" rx=\"18\" ry=\"18\"/>\n<text text-anchor=\"middle\" x=\"73.21\" y=\"-86.3\" font-family=\"Times,serif\" font-size=\"14.00\">6</text>\n</g>\n<!-- 0&#45;&#45;6 -->\n<g id=\"edge3\" class=\"edge\">\n<title>0&#45;&#45;6</title>\n<path fill=\"none\" stroke=\"black\" d=\"M78.08,-362.64C71.05,-352.24 61.8,-337.67 55.21,-324 25.76,-262.82 15.71,-246.91 4.21,-180 1.5,-164.23 -2.86,-158.35 4.21,-144 15.1,-121.92 40.1,-106.47 56.82,-98.16\"/>\n</g>\n<!-- 1&#45;&#45;3 -->\n<g id=\"edge5\" class=\"edge\">\n<title>1&#45;&#45;3</title>\n<path fill=\"none\" stroke=\"black\" d=\"M181.95,-288.76C177.59,-277.46 171.8,-262.44 167.44,-251.15\"/>\n</g>\n<!-- 8 -->\n<g id=\"node10\" class=\"node\">\n<title>8</title>\n<ellipse fill=\"none\" stroke=\"blue\" cx=\"150.21\" cy=\"-18\" rx=\"18\" ry=\"18\"/>\n<text text-anchor=\"middle\" x=\"150.21\" y=\"-14.3\" font-family=\"Times,serif\" font-size=\"14.00\">8</text>\n</g>\n<!-- 1&#45;&#45;8 -->\n<g id=\"edge6\" class=\"edge\">\n<title>1&#45;&#45;8</title>\n<path fill=\"none\" stroke=\"black\" d=\"M188.91,-287.91C189.48,-269.98 189.94,-240.97 188.21,-216 183.76,-151.54 183.11,-134.87 168.21,-72 165.21,-59.33 160.42,-45.4 156.54,-35.01\"/>\n</g>\n<!-- 3&#45;&#45;7 -->\n<g id=\"edge11\" class=\"edge\">\n<title>3&#45;&#45;7</title>\n<path fill=\"none\" stroke=\"black\" d=\"M145.79,-224.7C120.91,-211.3 72.15,-185.04 47.02,-171.51\"/>\n</g>\n<!-- 4 -->\n<g id=\"node7\" class=\"node\">\n<title>4</title>\n<ellipse fill=\"none\" stroke=\"blue\" cx=\"146.21\" cy=\"-162\" rx=\"18\" ry=\"18\"/>\n<text text-anchor=\"middle\" x=\"146.21\" y=\"-158.3\" font-family=\"Times,serif\" font-size=\"14.00\">4</text>\n</g>\n<!-- 3&#45;&#45;4 -->\n<g id=\"edge10\" class=\"edge\">\n<title>3&#45;&#45;4</title>\n<path fill=\"none\" stroke=\"black\" d=\"M157.58,-216.05C155.22,-205.05 152.16,-190.76 149.81,-179.79\"/>\n</g>\n<!-- 9 -->\n<g id=\"node5\" class=\"node\">\n<title>9</title>\n<ellipse fill=\"none\" stroke=\"red\" cx=\"73.21\" cy=\"-18\" rx=\"18\" ry=\"18\"/>\n<text text-anchor=\"middle\" x=\"73.21\" y=\"-14.3\" font-family=\"Times,serif\" font-size=\"14.00\">9</text>\n</g>\n<!-- 7&#45;&#45;9 -->\n<g id=\"edge18\" class=\"edge\">\n<title>7&#45;&#45;9</title>\n<path fill=\"none\" stroke=\"black\" d=\"M32.54,-143.9C34.31,-125.7 38.2,-96.25 46.21,-72 50.68,-58.47 58.18,-44.12 64.14,-33.78\"/>\n</g>\n<!-- 2 -->\n<g id=\"node6\" class=\"node\">\n<title>2</title>\n<ellipse fill=\"none\" stroke=\"blue\" cx=\"96.21\" cy=\"-306\" rx=\"18\" ry=\"18\"/>\n<text text-anchor=\"middle\" x=\"96.21\" y=\"-302.3\" font-family=\"Times,serif\" font-size=\"14.00\">2</text>\n</g>\n<!-- 2&#45;&#45;3 -->\n<g id=\"edge7\" class=\"edge\">\n<title>2&#45;&#45;3</title>\n<path fill=\"none\" stroke=\"black\" d=\"M108.14,-292.16C119.86,-279.53 137.67,-260.36 149.37,-247.76\"/>\n</g>\n<!-- 2&#45;&#45;4 -->\n<g id=\"edge8\" class=\"edge\">\n<title>2&#45;&#45;4</title>\n<path fill=\"none\" stroke=\"black\" d=\"M101.95,-288.71C111.59,-261.32 130.95,-206.36 140.55,-179.1\"/>\n</g>\n<!-- 2&#45;&#45;6 -->\n<g id=\"edge9\" class=\"edge\">\n<title>2&#45;&#45;6</title>\n<path fill=\"none\" stroke=\"black\" d=\"M94.37,-287.85C90.05,-247.68 79.33,-147.89 75.03,-107.94\"/>\n</g>\n<!-- 5 -->\n<g id=\"node8\" class=\"node\">\n<title>5</title>\n<ellipse fill=\"none\" stroke=\"blue\" cx=\"127.21\" cy=\"-90\" rx=\"18\" ry=\"18\"/>\n<text text-anchor=\"middle\" x=\"127.21\" y=\"-86.3\" font-family=\"Times,serif\" font-size=\"14.00\">5</text>\n</g>\n<!-- 4&#45;&#45;5 -->\n<g id=\"edge12\" class=\"edge\">\n<title>4&#45;&#45;5</title>\n<path fill=\"none\" stroke=\"black\" d=\"M141.71,-144.41C138.68,-133.25 134.71,-118.6 131.68,-107.47\"/>\n</g>\n<!-- 4&#45;&#45;8 -->\n<g id=\"edge13\" class=\"edge\">\n<title>4&#45;&#45;8</title>\n<path fill=\"none\" stroke=\"black\" d=\"M149.46,-143.89C151.26,-133.54 153.31,-120.06 154.21,-108 156.09,-83.01 153.99,-54.01 152.19,-36.08\"/>\n</g>\n<!-- 5&#45;&#45;9 -->\n<g id=\"edge15\" class=\"edge\">\n<title>5&#45;&#45;9</title>\n<path fill=\"none\" stroke=\"black\" d=\"M116.55,-75.17C107.08,-62.9 93.32,-45.06 83.86,-32.8\"/>\n</g>\n<!-- 5&#45;&#45;8 -->\n<g id=\"edge14\" class=\"edge\">\n<title>5&#45;&#45;8</title>\n<path fill=\"none\" stroke=\"black\" d=\"M132.55,-72.76C136.21,-61.62 141.06,-46.87 144.75,-35.63\"/>\n</g>\n<!-- 6&#45;&#45;9 -->\n<g id=\"edge17\" class=\"edge\">\n<title>6&#45;&#45;9</title>\n<path fill=\"none\" stroke=\"black\" d=\"M73.21,-71.7C73.21,-60.85 73.21,-46.92 73.21,-36.1\"/>\n</g>\n<!-- 6&#45;&#45;8 -->\n<g id=\"edge16\" class=\"edge\">\n<title>6&#45;&#45;8</title>\n<path fill=\"none\" stroke=\"black\" d=\"M86.28,-77.13C100.52,-64.18 123.18,-43.58 137.34,-30.7\"/>\n</g>\n</g>\n</svg>\n",
            "text/plain": [
              "<graphviz.graphs.Graph at 0x7ecfe4f2f150>"
            ]
          },
          "metadata": {}
        },
        {
          "output_type": "display_data",
          "data": {
            "image/svg+xml": "<?xml version=\"1.0\" encoding=\"UTF-8\" standalone=\"no\"?>\n<!DOCTYPE svg PUBLIC \"-//W3C//DTD SVG 1.1//EN\"\n \"http://www.w3.org/Graphics/SVG/1.1/DTD/svg11.dtd\">\n<!-- Generated by graphviz version 2.43.0 (0)\n -->\n<!-- Title: %3 Pages: 1 -->\n<svg width=\"214pt\" height=\"404pt\"\n viewBox=\"0.00 0.00 214.21 404.00\" xmlns=\"http://www.w3.org/2000/svg\" xmlns:xlink=\"http://www.w3.org/1999/xlink\">\n<g id=\"graph0\" class=\"graph\" transform=\"scale(1 1) rotate(0) translate(4 400)\">\n<title>%3</title>\n<polygon fill=\"white\" stroke=\"transparent\" points=\"-4,4 -4,-400 210.21,-400 210.21,4 -4,4\"/>\n<!-- 2 -->\n<g id=\"node1\" class=\"node\">\n<title>2</title>\n<ellipse fill=\"none\" stroke=\"red\" cx=\"96.21\" cy=\"-306\" rx=\"18\" ry=\"18\"/>\n<text text-anchor=\"middle\" x=\"96.21\" y=\"-302.3\" font-family=\"Times,serif\" font-size=\"14.00\">2</text>\n</g>\n<!-- 4 -->\n<g id=\"node2\" class=\"node\">\n<title>4</title>\n<ellipse fill=\"none\" stroke=\"red\" cx=\"146.21\" cy=\"-162\" rx=\"18\" ry=\"18\"/>\n<text text-anchor=\"middle\" x=\"146.21\" y=\"-158.3\" font-family=\"Times,serif\" font-size=\"14.00\">4</text>\n</g>\n<!-- 2&#45;&#45;4 -->\n<g id=\"edge8\" class=\"edge\">\n<title>2&#45;&#45;4</title>\n<path fill=\"none\" stroke=\"black\" d=\"M101.95,-288.71C111.59,-261.32 130.95,-206.36 140.55,-179.1\"/>\n</g>\n<!-- 6 -->\n<g id=\"node4\" class=\"node\">\n<title>6</title>\n<ellipse fill=\"none\" stroke=\"red\" cx=\"73.21\" cy=\"-90\" rx=\"18\" ry=\"18\"/>\n<text text-anchor=\"middle\" x=\"73.21\" y=\"-86.3\" font-family=\"Times,serif\" font-size=\"14.00\">6</text>\n</g>\n<!-- 2&#45;&#45;6 -->\n<g id=\"edge9\" class=\"edge\">\n<title>2&#45;&#45;6</title>\n<path fill=\"none\" stroke=\"black\" d=\"M94.37,-287.85C90.05,-247.68 79.33,-147.89 75.03,-107.94\"/>\n</g>\n<!-- 3 -->\n<g id=\"node8\" class=\"node\">\n<title>3</title>\n<ellipse fill=\"none\" stroke=\"blue\" cx=\"161.21\" cy=\"-234\" rx=\"18\" ry=\"18\"/>\n<text text-anchor=\"middle\" x=\"161.21\" y=\"-230.3\" font-family=\"Times,serif\" font-size=\"14.00\">3</text>\n</g>\n<!-- 2&#45;&#45;3 -->\n<g id=\"edge7\" class=\"edge\">\n<title>2&#45;&#45;3</title>\n<path fill=\"none\" stroke=\"black\" d=\"M108.14,-292.16C119.86,-279.53 137.67,-260.36 149.37,-247.76\"/>\n</g>\n<!-- 5 -->\n<g id=\"node3\" class=\"node\">\n<title>5</title>\n<ellipse fill=\"none\" stroke=\"red\" cx=\"127.21\" cy=\"-90\" rx=\"18\" ry=\"18\"/>\n<text text-anchor=\"middle\" x=\"127.21\" y=\"-86.3\" font-family=\"Times,serif\" font-size=\"14.00\">5</text>\n</g>\n<!-- 4&#45;&#45;5 -->\n<g id=\"edge12\" class=\"edge\">\n<title>4&#45;&#45;5</title>\n<path fill=\"none\" stroke=\"black\" d=\"M141.71,-144.41C138.68,-133.25 134.71,-118.6 131.68,-107.47\"/>\n</g>\n<!-- 8 -->\n<g id=\"node5\" class=\"node\">\n<title>8</title>\n<ellipse fill=\"none\" stroke=\"red\" cx=\"150.21\" cy=\"-18\" rx=\"18\" ry=\"18\"/>\n<text text-anchor=\"middle\" x=\"150.21\" y=\"-14.3\" font-family=\"Times,serif\" font-size=\"14.00\">8</text>\n</g>\n<!-- 4&#45;&#45;8 -->\n<g id=\"edge13\" class=\"edge\">\n<title>4&#45;&#45;8</title>\n<path fill=\"none\" stroke=\"black\" d=\"M149.46,-143.89C151.26,-133.54 153.31,-120.06 154.21,-108 156.09,-83.01 153.99,-54.01 152.19,-36.08\"/>\n</g>\n<!-- 5&#45;&#45;8 -->\n<g id=\"edge14\" class=\"edge\">\n<title>5&#45;&#45;8</title>\n<path fill=\"none\" stroke=\"black\" d=\"M132.55,-72.76C136.21,-61.62 141.06,-46.87 144.75,-35.63\"/>\n</g>\n<!-- 9 -->\n<g id=\"node10\" class=\"node\">\n<title>9</title>\n<ellipse fill=\"none\" stroke=\"blue\" cx=\"73.21\" cy=\"-18\" rx=\"18\" ry=\"18\"/>\n<text text-anchor=\"middle\" x=\"73.21\" y=\"-14.3\" font-family=\"Times,serif\" font-size=\"14.00\">9</text>\n</g>\n<!-- 5&#45;&#45;9 -->\n<g id=\"edge15\" class=\"edge\">\n<title>5&#45;&#45;9</title>\n<path fill=\"none\" stroke=\"black\" d=\"M116.55,-75.17C107.08,-62.9 93.32,-45.06 83.86,-32.8\"/>\n</g>\n<!-- 6&#45;&#45;8 -->\n<g id=\"edge16\" class=\"edge\">\n<title>6&#45;&#45;8</title>\n<path fill=\"none\" stroke=\"black\" d=\"M86.28,-77.13C100.52,-64.18 123.18,-43.58 137.34,-30.7\"/>\n</g>\n<!-- 6&#45;&#45;9 -->\n<g id=\"edge17\" class=\"edge\">\n<title>6&#45;&#45;9</title>\n<path fill=\"none\" stroke=\"black\" d=\"M73.21,-71.7C73.21,-60.85 73.21,-46.92 73.21,-36.1\"/>\n</g>\n<!-- 0 -->\n<g id=\"node6\" class=\"node\">\n<title>0</title>\n<ellipse fill=\"none\" stroke=\"blue\" cx=\"90.21\" cy=\"-378\" rx=\"18\" ry=\"18\"/>\n<text text-anchor=\"middle\" x=\"90.21\" y=\"-374.3\" font-family=\"Times,serif\" font-size=\"14.00\">0</text>\n</g>\n<!-- 0&#45;&#45;6 -->\n<g id=\"edge3\" class=\"edge\">\n<title>0&#45;&#45;6</title>\n<path fill=\"none\" stroke=\"black\" d=\"M79.73,-363.17C72.2,-352.79 62.19,-338.02 55.21,-324 24.95,-263.22 15.71,-246.91 4.21,-180 1.5,-164.23 -2.86,-158.35 4.21,-144 15.1,-121.92 40.1,-106.47 56.82,-98.16\"/>\n</g>\n<!-- 1 -->\n<g id=\"node7\" class=\"node\">\n<title>1</title>\n<ellipse fill=\"none\" stroke=\"blue\" cx=\"188.21\" cy=\"-306\" rx=\"18\" ry=\"18\"/>\n<text text-anchor=\"middle\" x=\"188.21\" y=\"-302.3\" font-family=\"Times,serif\" font-size=\"14.00\">1</text>\n</g>\n<!-- 0&#45;&#45;1 -->\n<g id=\"edge1\" class=\"edge\">\n<title>0&#45;&#45;1</title>\n<path fill=\"none\" stroke=\"black\" d=\"M104.67,-366.67C123.31,-353.36 155.5,-330.36 174.01,-317.14\"/>\n</g>\n<!-- 0&#45;&#45;3 -->\n<g id=\"edge2\" class=\"edge\">\n<title>0&#45;&#45;3</title>\n<path fill=\"none\" stroke=\"black\" d=\"M100.08,-362.51C106.99,-352.05 116.2,-337.46 123.21,-324 136.1,-299.27 148.25,-269.19 155.2,-251.09\"/>\n</g>\n<!-- 7 -->\n<g id=\"node9\" class=\"node\">\n<title>7</title>\n<ellipse fill=\"none\" stroke=\"blue\" cx=\"31.21\" cy=\"-162\" rx=\"18\" ry=\"18\"/>\n<text text-anchor=\"middle\" x=\"31.21\" y=\"-158.3\" font-family=\"Times,serif\" font-size=\"14.00\">7</text>\n</g>\n<!-- 0&#45;&#45;7 -->\n<g id=\"edge4\" class=\"edge\">\n<title>0&#45;&#45;7</title>\n<path fill=\"none\" stroke=\"black\" d=\"M83.16,-360.98C78.76,-350.58 73.19,-336.65 69.21,-324 53.03,-272.49 40.12,-209.81 34.41,-180.14\"/>\n</g>\n<!-- 1&#45;&#45;8 -->\n<g id=\"edge6\" class=\"edge\">\n<title>1&#45;&#45;8</title>\n<path fill=\"none\" stroke=\"black\" d=\"M188.91,-287.91C189.48,-269.98 189.94,-240.97 188.21,-216 183.76,-151.54 183.11,-134.87 168.21,-72 165.21,-59.33 160.42,-45.4 156.54,-35.01\"/>\n</g>\n<!-- 1&#45;&#45;3 -->\n<g id=\"edge5\" class=\"edge\">\n<title>1&#45;&#45;3</title>\n<path fill=\"none\" stroke=\"black\" d=\"M181.95,-288.76C177.59,-277.46 171.8,-262.44 167.44,-251.15\"/>\n</g>\n<!-- 3&#45;&#45;4 -->\n<g id=\"edge10\" class=\"edge\">\n<title>3&#45;&#45;4</title>\n<path fill=\"none\" stroke=\"black\" d=\"M157.58,-216.05C155.22,-205.05 152.16,-190.76 149.81,-179.79\"/>\n</g>\n<!-- 3&#45;&#45;7 -->\n<g id=\"edge11\" class=\"edge\">\n<title>3&#45;&#45;7</title>\n<path fill=\"none\" stroke=\"black\" d=\"M145.79,-224.7C120.91,-211.3 72.15,-185.04 47.02,-171.51\"/>\n</g>\n<!-- 7&#45;&#45;9 -->\n<g id=\"edge18\" class=\"edge\">\n<title>7&#45;&#45;9</title>\n<path fill=\"none\" stroke=\"black\" d=\"M32.54,-143.9C34.31,-125.7 38.2,-96.25 46.21,-72 50.68,-58.47 58.18,-44.12 64.14,-33.78\"/>\n</g>\n</g>\n</svg>\n",
            "text/plain": [
              "<graphviz.graphs.Graph at 0x7ecfe4f2f210>"
            ]
          },
          "metadata": {}
        }
      ],
      "source": [
        "G = random_graph(10, [KLPart, bipartition])\n",
        "from IPython.display import display\n",
        "display(G[0], G[1])"
      ]
    },
    {
      "cell_type": "code",
      "execution_count": 14,
      "metadata": {
        "colab": {
          "base_uri": "https://localhost:8080/"
        },
        "id": "bYe2eC01VgeC",
        "outputId": "04e3d3e5-f3fd-4ed9-f9de-5a2c6b9a7734"
      },
      "outputs": [
        {
          "output_type": "stream",
          "name": "stdout",
          "text": [
            "\\Problem name: Bi-partition\n",
            "\n",
            "Minimize\n",
            "OBJROW: x_0_3 + x_0_4 + x_0_5 + x_0_8 + x_0_9 + x_1_3 + x_1_5 + x_1_6 + x_1_7 + x_2_3\n",
            " + x_2_7 + x_3_5 + x_3_6 + x_3_7 + x_4_7 + x_5_6 + x_5_7 + x_5_8 + x_7_8\n",
            "Subject To\n",
            "constr(0):  x_0 + x_1 + x_2 + x_3 + x_4 + x_5 + x_6 + x_7 + x_8 + x_9\n",
            " = 5\n",
            "constr(1):  x_0 - x_3 - x_0_3 <= -0\n",
            "constr(2):  - x_0 + x_3 - x_0_3 <= -0\n",
            "constr(3):  x_0 + x_3 - x_0_3 >= -0\n",
            "constr(4):  x_0 + x_3 + x_0_3 <= 2\n",
            "constr(5):  x_0 - x_4 - x_0_4 <= -0\n",
            "constr(6):  - x_0 + x_4 - x_0_4 <= -0\n",
            "constr(7):  x_0 + x_4 - x_0_4 >= -0\n",
            "constr(8):  x_0 + x_4 + x_0_4 <= 2\n",
            "constr(9):  x_0 - x_5 - x_0_5 <= -0\n",
            "constr(10):  - x_0 + x_5 - x_0_5 <= -0\n",
            "constr(11):  x_0 + x_5 - x_0_5 >= -0\n",
            "constr(12):  x_0 + x_5 + x_0_5 <= 2\n",
            "constr(13):  x_0 - x_8 - x_0_8 <= -0\n",
            "constr(14):  - x_0 + x_8 - x_0_8 <= -0\n",
            "constr(15):  x_0 + x_8 - x_0_8 >= -0\n",
            "constr(16):  x_0 + x_8 + x_0_8 <= 2\n",
            "constr(17):  x_0 - x_9 - x_0_9 <= -0\n",
            "constr(18):  - x_0 + x_9 - x_0_9 <= -0\n",
            "constr(19):  x_0 + x_9 - x_0_9 >= -0\n",
            "constr(20):  x_0 + x_9 + x_0_9 <= 2\n",
            "constr(21):  x_1 - x_3 - x_1_3 <= -0\n",
            "constr(22):  - x_1 + x_3 - x_1_3 <= -0\n",
            "constr(23):  x_1 + x_3 - x_1_3 >= -0\n",
            "constr(24):  x_1 + x_3 + x_1_3 <= 2\n",
            "constr(25):  x_1 - x_5 - x_1_5 <= -0\n",
            "constr(26):  - x_1 + x_5 - x_1_5 <= -0\n",
            "constr(27):  x_1 + x_5 - x_1_5 >= -0\n",
            "constr(28):  x_1 + x_5 + x_1_5 <= 2\n",
            "constr(29):  x_1 - x_6 - x_1_6 <= -0\n",
            "constr(30):  - x_1 + x_6 - x_1_6 <= -0\n",
            "constr(31):  x_1 + x_6 - x_1_6 >= -0\n",
            "constr(32):  x_1 + x_6 + x_1_6 <= 2\n",
            "constr(33):  x_1 - x_7 - x_1_7 <= -0\n",
            "constr(34):  - x_1 + x_7 - x_1_7 <= -0\n",
            "constr(35):  x_1 + x_7 - x_1_7 >= -0\n",
            "constr(36):  x_1 + x_7 + x_1_7 <= 2\n",
            "constr(37):  x_2 - x_3 - x_2_3 <= -0\n",
            "constr(38):  - x_2 + x_3 - x_2_3 <= -0\n",
            "constr(39):  x_2 + x_3 - x_2_3 >= -0\n",
            "constr(40):  x_2 + x_3 + x_2_3 <= 2\n",
            "constr(41):  x_2 - x_7 - x_2_7 <= -0\n",
            "constr(42):  - x_2 + x_7 - x_2_7 <= -0\n",
            "constr(43):  x_2 + x_7 - x_2_7 >= -0\n",
            "constr(44):  x_2 + x_7 + x_2_7 <= 2\n",
            "constr(45):  x_3 - x_5 - x_3_5 <= -0\n",
            "constr(46):  - x_3 + x_5 - x_3_5 <= -0\n",
            "constr(47):  x_3 + x_5 - x_3_5 >= -0\n",
            "constr(48):  x_3 + x_5 + x_3_5 <= 2\n",
            "constr(49):  x_3 - x_6 - x_3_6 <= -0\n",
            "constr(50):  - x_3 + x_6 - x_3_6 <= -0\n",
            "constr(51):  x_3 + x_6 - x_3_6 >= -0\n",
            "constr(52):  x_3 + x_6 + x_3_6 <= 2\n",
            "constr(53):  x_3 - x_7 - x_3_7 <= -0\n",
            "constr(54):  - x_3 + x_7 - x_3_7 <= -0\n",
            "constr(55):  x_3 + x_7 - x_3_7 >= -0\n",
            "constr(56):  x_3 + x_7 + x_3_7 <= 2\n",
            "constr(57):  x_4 - x_7 - x_4_7 <= -0\n",
            "constr(58):  - x_4 + x_7 - x_4_7 <= -0\n",
            "constr(59):  x_4 + x_7 - x_4_7 >= -0\n",
            "constr(60):  x_4 + x_7 + x_4_7 <= 2\n",
            "constr(61):  x_5 - x_6 - x_5_6 <= -0\n",
            "constr(62):  - x_5 + x_6 - x_5_6 <= -0\n",
            "constr(63):  x_5 + x_6 - x_5_6 >= -0\n",
            "constr(64):  x_5 + x_6 + x_5_6 <= 2\n",
            "constr(65):  x_5 - x_7 - x_5_7 <= -0\n",
            "constr(66):  - x_5 + x_7 - x_5_7 <= -0\n",
            "constr(67):  x_5 + x_7 - x_5_7 >= -0\n",
            "constr(68):  x_5 + x_7 + x_5_7 <= 2\n",
            "constr(69):  x_5 - x_8 - x_5_8 <= -0\n",
            "constr(70):  - x_5 + x_8 - x_5_8 <= -0\n",
            "constr(71):  x_5 + x_8 - x_5_8 >= -0\n",
            "constr(72):  x_5 + x_8 + x_5_8 <= 2\n",
            "constr(73):  x_7 - x_8 - x_7_8 <= -0\n",
            "constr(74):  - x_7 + x_8 - x_7_8 <= -0\n",
            "constr(75):  x_7 + x_8 - x_7_8 >= -0\n",
            "constr(76):  x_7 + x_8 + x_7_8 <= 2\n",
            "Bounds\n",
            " 0 <= x_0 <= 1\n",
            " 0 <= x_1 <= 1\n",
            " 0 <= x_2 <= 1\n",
            " 0 <= x_3 <= 1\n",
            " 0 <= x_4 <= 1\n",
            " 0 <= x_5 <= 1\n",
            " 0 <= x_6 <= 1\n",
            " 0 <= x_7 <= 1\n",
            " 0 <= x_8 <= 1\n",
            " 0 <= x_9 <= 1\n",
            " 0 <= x_0_3 <= 1\n",
            " 0 <= x_0_4 <= 1\n",
            " 0 <= x_0_5 <= 1\n",
            " 0 <= x_0_8 <= 1\n",
            " 0 <= x_0_9 <= 1\n",
            " 0 <= x_1_3 <= 1\n",
            " 0 <= x_1_5 <= 1\n",
            " 0 <= x_1_6 <= 1\n",
            " 0 <= x_1_7 <= 1\n",
            " 0 <= x_2_3 <= 1\n",
            " 0 <= x_2_7 <= 1\n",
            " 0 <= x_3_5 <= 1\n",
            " 0 <= x_3_6 <= 1\n",
            " 0 <= x_3_7 <= 1\n",
            " 0 <= x_4_7 <= 1\n",
            " 0 <= x_5_6 <= 1\n",
            " 0 <= x_5_7 <= 1\n",
            " 0 <= x_5_8 <= 1\n",
            " 0 <= x_7_8 <= 1\n",
            "Integers\n",
            "x_0 x_1 x_2 x_3 x_4 x_5 x_6 x_7 x_8 x_9 \n",
            "x_0_3 x_0_4 x_0_5 x_0_8 x_0_9 x_1_3 x_1_5 x_1_6 x_1_7 x_2_3 \n",
            "x_2_7 x_3_5 x_3_6 x_3_7 x_4_7 x_5_6 x_5_7 x_5_8 x_7_8 \n",
            "End\n"
          ]
        }
      ],
      "source": [
        "!cat bipartition.lp"
      ]
    },
    {
      "cell_type": "markdown",
      "source": [
        "## Bipartitioning using ILP - II\n",
        "+ $x_{v,A}$ is the indicator variable for $v$ being in $A$\n",
        "+ Similarly define $x_{v,B}$\n",
        "+ $x_{u,v,A}$ is the indicator variable for $(u,v)\\in E$ being contained in $A$\n",
        "\n",
        "+ Objective: $\\max\\limits_{x_{u,v,i}} \\sum\\limits_{(u,v)\\in E}x_{u,v,A} + x_{u,v,B}$\n",
        "+ Subject to constraints:\n",
        "<ul>\n",
        "$\\begin{align}\n",
        "\\sum_{v\\in V} x_{v,i}&=\\frac{|V|}{2}, &\\forall v \\in V\\\\\n",
        "x_{v,A}, x_{v,B} &\\in \\{0, 1\\}, &\\forall v \\in V\\\\\n",
        "x_{u,v,A} &\\leq x_{u,A}, &\\forall (u,v) \\in E\\\\\n",
        "x_{u,v,A} &\\leq x_{v,A}, &\\forall (u,v) \\in E\\\\\n",
        "x_{v,A} + x_{v,B} &=1 , &\\forall v \\in V\\\\\n",
        "x_{u,v,A}, x_{u,v,B} &\\in \\{0, 1\\}, &\\forall (u,v) \\in E\n",
        "\\end{align}$\n",
        "</ul>"
      ],
      "metadata": {
        "id": "qWWfroQk4VnI"
      }
    },
    {
      "cell_type": "code",
      "execution_count": 10,
      "metadata": {
        "id": "6YDfSu4byzuK"
      },
      "outputs": [],
      "source": [
        "def bipartition2(N, E):\n",
        "  import mip\n",
        "  model = mip.Model(\"Bi-partition2\")\n",
        "  model.verbose = 0\n",
        "\n",
        "  # [karthik] define a list of binary indicator variables that define\n",
        "  ## whether a particular vertex is in the partition A\n",
        "  xa = [model.add_var(f\"xa_{u}\", var_type = mip.BINARY) for u in range(N)]\n",
        "\n",
        "  # [karthik] similarly another list of binary indicator variables that define\n",
        "  ## whether a particular vertex is in the partition B\n",
        "  xb = [model.add_var(f\"xb_{u}\", var_type = mip.BINARY) for u in range(N)]\n",
        "\n",
        "  # [karthik] now a third list of binary indicator variables that define whether a vertex\n",
        "  ## pair is fully contained in A.\n",
        "  xa_uv = [model.add_var(f\"xa_{u}_{v}\", var_type = mip.BINARY) for u,v in E]\n",
        "\n",
        "  # [karthik] similarly another list of binary varuables to indicate whether a vertex is\n",
        "  ## fully contained in B.\n",
        "  xb_uv = [model.add_var(f\"xb_{u}_{v}\", var_type = mip.BINARY) for u,v in E]\n",
        "\n",
        "  # [karthik] now we define the objective for the ILP solver as \"to maximise the number\n",
        "  ## of edges being contained\". this is an \"overkill\" for a 2-way partition\n",
        "  ## but scales well for a k-way partitioning problem. this will introduce a lot\n",
        "  ## more variables and constraints than actually required _for a 2 way problem_\n",
        "  model.objective = mip.minimize(mip.xsum((xa_uv[i] + xb_uv[i]) for i in range(len(E)))) # is this len(E) correct ?\n",
        "\n",
        "  # [karthik] now we add in constraints for the model to solve the formed ILP.\n",
        "  ## 1. number of vertices grouped in all partitions should be equal ??????\n",
        "  model += (mip.xsum(xa) == N//2)\n",
        "  model += (mip.xsum(xb) == N//2)\n",
        "\n",
        "  ## 2. these constraints may look like they have a typo but they do not. we are\n",
        "  ## trying to say that if a vertex is in a certain partition, then the edge\n",
        "  ## is either contained or it is cut. seems unnecessarry to me at the beginning\n",
        "  ## but then when we are trying to _maximise_ the objective, we basically push\n",
        "  ## the solver to have as many contained edges as possible.\n",
        "  for e, (u,v) in enumerate(E):\n",
        "    model += (xa_uv[e] <= xa[u])\n",
        "    model += (xa_uv[e] <= xa[v])\n",
        "    model += (xb_uv[e] <= xb[u])\n",
        "    model += (xb_uv[e] <= xb[v])\n",
        "\n",
        "  ## 3. a node can not be in both partitions\n",
        "    model += (xa[u] + xb[u] == 1)\n",
        "    model += (xa[v] + xb[v] == 1)\n",
        "\n",
        "  model.write(\"bipartition2.lp\")\n",
        "  model.optimize()\n",
        "  if model.status == mip.OptimizationStatus.OPTIMAL:\n",
        "    A = [i for i in range(N) if xa[i].x >= 0.9]\n",
        "    B = [i for i in range(N) if xb[i].x < 0.9]\n",
        "    return (A, B, model.objective.x)\n",
        "  return None\n"
      ]
    },
    {
      "cell_type": "code",
      "source": [
        "G = random_graph(20, [KLPart, bipartition, bipartition2])\n",
        "from IPython.display import display\n",
        "display(G[0], G[1], G[2])"
      ],
      "metadata": {
        "id": "hawqhl8xXRD_",
        "outputId": "f2a792dc-a9f7-4433-e575-307f244cc969",
        "colab": {
          "base_uri": "https://localhost:8080/",
          "height": 1000
        }
      },
      "execution_count": 11,
      "outputs": [
        {
          "output_type": "stream",
          "name": "stdout",
          "text": [
            "{1, 2, 4, 5, 6, 8, 9, 11, 12, 18}\n",
            "{0, 3, 7, 10, 13, 14, 15, 16, 17, 19}\n",
            "runtime :  0.002670764923095703 cut size :  21\n",
            "runtime :  4.686444044113159 cut size :  21.0\n",
            "runtime :  0.010760068893432617 cut size :  0.0\n"
          ]
        },
        {
          "output_type": "display_data",
          "data": {
            "image/svg+xml": "<?xml version=\"1.0\" encoding=\"UTF-8\" standalone=\"no\"?>\n<!DOCTYPE svg PUBLIC \"-//W3C//DTD SVG 1.1//EN\"\n \"http://www.w3.org/Graphics/SVG/1.1/DTD/svg11.dtd\">\n<!-- Generated by graphviz version 2.43.0 (0)\n -->\n<!-- Title: %3 Pages: 1 -->\n<svg width=\"1160pt\" height=\"638pt\"\n viewBox=\"0.00 0.00 1160.00 637.98\" xmlns=\"http://www.w3.org/2000/svg\" xmlns:xlink=\"http://www.w3.org/1999/xlink\">\n<g id=\"graph0\" class=\"graph\" transform=\"scale(1 1) rotate(0) translate(4 633.98)\">\n<title>%3</title>\n<polygon fill=\"white\" stroke=\"transparent\" points=\"-4,4 -4,-633.98 1156,-633.98 1156,4 -4,4\"/>\n<!-- 5 -->\n<g id=\"node1\" class=\"node\">\n<title>5</title>\n<ellipse fill=\"none\" stroke=\"red\" cx=\"953\" cy=\"-467.98\" rx=\"18\" ry=\"18\"/>\n<text text-anchor=\"middle\" x=\"953\" y=\"-464.28\" font-family=\"Times,serif\" font-size=\"14.00\">5</text>\n</g>\n<!-- 9 -->\n<g id=\"node3\" class=\"node\">\n<title>9</title>\n<ellipse fill=\"none\" stroke=\"red\" cx=\"742\" cy=\"-244.49\" rx=\"18\" ry=\"18\"/>\n<text text-anchor=\"middle\" x=\"742\" y=\"-240.79\" font-family=\"Times,serif\" font-size=\"14.00\">9</text>\n</g>\n<!-- 5&#45;&#45;9 -->\n<g id=\"edge33\" class=\"edge\">\n<title>5&#45;&#45;9</title>\n<path fill=\"none\" stroke=\"black\" d=\"M941.05,-454.44C904,-415.54 791.31,-297.25 754.08,-258.17\"/>\n</g>\n<!-- 10 -->\n<g id=\"node4\" class=\"node\">\n<title>10</title>\n<ellipse fill=\"none\" stroke=\"red\" cx=\"953\" cy=\"-319.48\" rx=\"19.5\" ry=\"19.5\"/>\n<text text-anchor=\"middle\" x=\"953\" y=\"-315.78\" font-family=\"Times,serif\" font-size=\"14.00\">10</text>\n</g>\n<!-- 5&#45;&#45;10 -->\n<g id=\"edge34\" class=\"edge\">\n<title>5&#45;&#45;10</title>\n<path fill=\"none\" stroke=\"black\" d=\"M953,-449.89C953,-422.26 953,-368.01 953,-339.31\"/>\n</g>\n<!-- 16 -->\n<g id=\"node8\" class=\"node\">\n<title>16</title>\n<ellipse fill=\"none\" stroke=\"red\" cx=\"891\" cy=\"-169.49\" rx=\"19.5\" ry=\"19.5\"/>\n<text text-anchor=\"middle\" x=\"891\" y=\"-165.79\" font-family=\"Times,serif\" font-size=\"14.00\">16</text>\n</g>\n<!-- 5&#45;&#45;16 -->\n<g id=\"edge36\" class=\"edge\">\n<title>5&#45;&#45;16</title>\n<path fill=\"none\" stroke=\"black\" d=\"M960.2,-451.09C972.78,-421.12 996.07,-354.38 981,-299.99 967.48,-251.17 926.5,-205.28 904.81,-183.58\"/>\n</g>\n<!-- 17 -->\n<g id=\"node9\" class=\"node\">\n<title>17</title>\n<ellipse fill=\"none\" stroke=\"red\" cx=\"844\" cy=\"-94.49\" rx=\"19.5\" ry=\"19.5\"/>\n<text text-anchor=\"middle\" x=\"844\" y=\"-90.79\" font-family=\"Times,serif\" font-size=\"14.00\">17</text>\n</g>\n<!-- 5&#45;&#45;17 -->\n<g id=\"edge37\" class=\"edge\">\n<title>5&#45;&#45;17</title>\n<path fill=\"none\" stroke=\"black\" d=\"M965.56,-454.77C974.94,-444.77 987.13,-429.75 993,-413.98 1010.7,-366.46 1006.87,-349.92 998,-299.99 985.59,-230.08 989.26,-203.86 943,-149.99 921.27,-124.69 884.74,-108.96 862.65,-101.25\"/>\n</g>\n<!-- 18 -->\n<g id=\"node10\" class=\"node\">\n<title>18</title>\n<ellipse fill=\"none\" stroke=\"red\" cx=\"891\" cy=\"-19.5\" rx=\"19.5\" ry=\"19.5\"/>\n<text text-anchor=\"middle\" x=\"891\" y=\"-15.8\" font-family=\"Times,serif\" font-size=\"14.00\">18</text>\n</g>\n<!-- 5&#45;&#45;18 -->\n<g id=\"edge38\" class=\"edge\">\n<title>5&#45;&#45;18</title>\n<path fill=\"none\" stroke=\"black\" d=\"M968.25,-458.28C982.44,-449.24 1002.74,-433.67 1012,-413.98 1033.56,-368.11 1020.48,-350.37 1015,-299.99 1003.89,-197.75 1018.31,-160.38 961,-75 947.44,-54.79 923.95,-38.77 907.96,-29.46\"/>\n</g>\n<!-- 11 -->\n<g id=\"node17\" class=\"node\">\n<title>11</title>\n<ellipse fill=\"none\" stroke=\"blue\" cx=\"557\" cy=\"-244.49\" rx=\"19.5\" ry=\"19.5\"/>\n<text text-anchor=\"middle\" x=\"557\" y=\"-240.79\" font-family=\"Times,serif\" font-size=\"14.00\">11</text>\n</g>\n<!-- 5&#45;&#45;11 -->\n<g id=\"edge35\" class=\"edge\">\n<title>5&#45;&#45;11</title>\n<path fill=\"none\" stroke=\"black\" d=\"M937.48,-458.3C874.56,-423.1 638.79,-291.23 573.72,-254.84\"/>\n</g>\n<!-- 4 -->\n<g id=\"node2\" class=\"node\">\n<title>4</title>\n<ellipse fill=\"none\" stroke=\"red\" cx=\"426\" cy=\"-394.48\" rx=\"18\" ry=\"18\"/>\n<text text-anchor=\"middle\" x=\"426\" y=\"-390.78\" font-family=\"Times,serif\" font-size=\"14.00\">4</text>\n</g>\n<!-- 4&#45;&#45;10 -->\n<g id=\"edge31\" class=\"edge\">\n<title>4&#45;&#45;10</title>\n<path fill=\"none\" stroke=\"black\" d=\"M442.92,-387.86C455.94,-383.73 474.43,-378.3 491,-374.98 660.48,-341.1 869.45,-325.78 933.46,-321.67\"/>\n</g>\n<!-- 8 -->\n<g id=\"node5\" class=\"node\">\n<title>8</title>\n<ellipse fill=\"none\" stroke=\"red\" cx=\"312\" cy=\"-319.48\" rx=\"18\" ry=\"18\"/>\n<text text-anchor=\"middle\" x=\"312\" y=\"-315.78\" font-family=\"Times,serif\" font-size=\"14.00\">8</text>\n</g>\n<!-- 4&#45;&#45;8 -->\n<g id=\"edge30\" class=\"edge\">\n<title>4&#45;&#45;8</title>\n<path fill=\"none\" stroke=\"black\" d=\"M411.1,-383.94C389.25,-369.95 348.76,-344.02 326.91,-330.03\"/>\n</g>\n<!-- 15 -->\n<g id=\"node7\" class=\"node\">\n<title>15</title>\n<ellipse fill=\"none\" stroke=\"red\" cx=\"161\" cy=\"-244.49\" rx=\"19.5\" ry=\"19.5\"/>\n<text text-anchor=\"middle\" x=\"161\" y=\"-240.79\" font-family=\"Times,serif\" font-size=\"14.00\">15</text>\n</g>\n<!-- 4&#45;&#45;15 -->\n<g id=\"edge32\" class=\"edge\">\n<title>4&#45;&#45;15</title>\n<path fill=\"none\" stroke=\"black\" d=\"M408.83,-388.54C381.58,-380.34 327.2,-362.45 285,-338.98 241.88,-315.01 197.04,-277.53 174.98,-258.11\"/>\n</g>\n<!-- 7 -->\n<g id=\"node16\" class=\"node\">\n<title>7</title>\n<ellipse fill=\"none\" stroke=\"blue\" cx=\"518\" cy=\"-319.48\" rx=\"18\" ry=\"18\"/>\n<text text-anchor=\"middle\" x=\"518\" y=\"-315.78\" font-family=\"Times,serif\" font-size=\"14.00\">7</text>\n</g>\n<!-- 4&#45;&#45;7 -->\n<g id=\"edge29\" class=\"edge\">\n<title>4&#45;&#45;7</title>\n<path fill=\"none\" stroke=\"black\" d=\"M439.97,-382.39C457.37,-368.59 486.88,-345.17 504.2,-331.44\"/>\n</g>\n<!-- 14 -->\n<g id=\"node6\" class=\"node\">\n<title>14</title>\n<ellipse fill=\"none\" stroke=\"red\" cx=\"696\" cy=\"-169.49\" rx=\"19.5\" ry=\"19.5\"/>\n<text text-anchor=\"middle\" x=\"696\" y=\"-165.79\" font-family=\"Times,serif\" font-size=\"14.00\">14</text>\n</g>\n<!-- 9&#45;&#45;14 -->\n<g id=\"edge50\" class=\"edge\">\n<title>9&#45;&#45;14</title>\n<path fill=\"none\" stroke=\"black\" d=\"M732.69,-228.72C724.97,-216.47 714.02,-199.09 706.09,-186.51\"/>\n</g>\n<!-- 9&#45;&#45;16 -->\n<g id=\"edge51\" class=\"edge\">\n<title>9&#45;&#45;16</title>\n<path fill=\"none\" stroke=\"black\" d=\"M756.27,-233.01C760.29,-230.25 764.74,-227.38 769,-224.99 804.42,-205.16 848.43,-186.97 872.73,-177.45\"/>\n</g>\n<!-- 9&#45;&#45;17 -->\n<g id=\"edge52\" class=\"edge\">\n<title>9&#45;&#45;17</title>\n<path fill=\"none\" stroke=\"black\" d=\"M751.78,-229.3C770.93,-201.52 813.23,-140.14 833.18,-111.19\"/>\n</g>\n<!-- 10&#45;&#45;14 -->\n<g id=\"edge54\" class=\"edge\">\n<title>10&#45;&#45;14</title>\n<path fill=\"none\" stroke=\"black\" d=\"M938.4,-306.07C915.4,-286.92 868.82,-249.81 825,-224.99 787.34,-203.66 739.69,-185.65 714.14,-176.65\"/>\n</g>\n<!-- 10&#45;&#45;16 -->\n<g id=\"edge55\" class=\"edge\">\n<title>10&#45;&#45;16</title>\n<path fill=\"none\" stroke=\"black\" d=\"M945.77,-301.22C933.82,-272.7 910.1,-216.09 898.19,-187.65\"/>\n</g>\n<!-- 10&#45;&#45;17 -->\n<g id=\"edge56\" class=\"edge\">\n<title>10&#45;&#45;17</title>\n<path fill=\"none\" stroke=\"black\" d=\"M953.61,-299.84C953.8,-266.85 950.12,-197.21 919,-149.99 904.74,-128.36 878.75,-112.38 861.43,-103.5\"/>\n</g>\n<!-- 10&#45;&#45;18 -->\n<g id=\"edge57\" class=\"edge\">\n<title>10&#45;&#45;18</title>\n<path fill=\"none\" stroke=\"black\" d=\"M957.58,-300.46C960.02,-289.9 962.77,-276.28 964,-263.99 972.43,-179.62 974.24,-151.65 938,-75 930.2,-58.51 916.01,-43.1 905.26,-32.9\"/>\n</g>\n<!-- 12 -->\n<g id=\"node18\" class=\"node\">\n<title>12</title>\n<ellipse fill=\"none\" stroke=\"blue\" cx=\"797\" cy=\"-244.49\" rx=\"19.5\" ry=\"19.5\"/>\n<text text-anchor=\"middle\" x=\"797\" y=\"-240.79\" font-family=\"Times,serif\" font-size=\"14.00\">12</text>\n</g>\n<!-- 10&#45;&#45;12 -->\n<g id=\"edge53\" class=\"edge\">\n<title>10&#45;&#45;12</title>\n<path fill=\"none\" stroke=\"black\" d=\"M936.38,-308.77C931.19,-305.84 925.4,-302.69 920,-299.99 883.24,-281.59 838.89,-262.73 814.76,-252.74\"/>\n</g>\n<!-- 8&#45;&#45;9 -->\n<g id=\"edge46\" class=\"edge\">\n<title>8&#45;&#45;9</title>\n<path fill=\"none\" stroke=\"black\" d=\"M329.66,-315.49C399.35,-303.66 654.9,-260.27 724.43,-248.47\"/>\n</g>\n<!-- 8&#45;&#45;14 -->\n<g id=\"edge47\" class=\"edge\">\n<title>8&#45;&#45;14</title>\n<path fill=\"none\" stroke=\"black\" d=\"M327.07,-309.2C332.34,-306.11 338.35,-302.75 344,-299.99 466.56,-240.08 624.26,-191.5 677.51,-175.83\"/>\n</g>\n<!-- 8&#45;&#45;15 -->\n<g id=\"edge48\" class=\"edge\">\n<title>8&#45;&#45;15</title>\n<path fill=\"none\" stroke=\"black\" d=\"M295.78,-311.47C272.85,-301.46 229.78,-282.24 194,-263.99 188.62,-261.24 182.84,-258.08 177.65,-255.16\"/>\n</g>\n<!-- 8&#45;&#45;17 -->\n<g id=\"edge49\" class=\"edge\">\n<title>8&#45;&#45;17</title>\n<path fill=\"none\" stroke=\"black\" d=\"M306.22,-302.25C295.51,-268.9 276.98,-192.23 316,-149.99 351.21,-111.88 733.23,-98.64 824.5,-96.01\"/>\n</g>\n<!-- 14&#45;&#45;18 -->\n<g id=\"edge66\" class=\"edge\">\n<title>14&#45;&#45;18</title>\n<path fill=\"none\" stroke=\"black\" d=\"M711.03,-156.52C733.63,-138.58 777.8,-103.74 816,-75 836.32,-59.7 860.13,-42.53 875.38,-31.62\"/>\n</g>\n<!-- 15&#45;&#45;17 -->\n<g id=\"edge67\" class=\"edge\">\n<title>15&#45;&#45;17</title>\n<path fill=\"none\" stroke=\"black\" d=\"M161.83,-224.98C163.89,-203.24 170.84,-167.88 194,-149.99 245.15,-110.5 721.81,-98.11 824.55,-95.88\"/>\n</g>\n<!-- 15&#45;&#45;18 -->\n<g id=\"edge68\" class=\"edge\">\n<title>15&#45;&#45;18</title>\n<path fill=\"none\" stroke=\"black\" d=\"M156.04,-225.57C151.46,-204.73 147.81,-170.58 166,-149.99 262.84,-40.41 765.49,-23.27 871.4,-20.86\"/>\n</g>\n<!-- 19 -->\n<g id=\"node20\" class=\"node\">\n<title>19</title>\n<ellipse fill=\"none\" stroke=\"blue\" cx=\"344\" cy=\"-169.49\" rx=\"19.5\" ry=\"19.5\"/>\n<text text-anchor=\"middle\" x=\"344\" y=\"-165.79\" font-family=\"Times,serif\" font-size=\"14.00\">19</text>\n</g>\n<!-- 15&#45;&#45;19 -->\n<g id=\"edge69\" class=\"edge\">\n<title>15&#45;&#45;19</title>\n<path fill=\"none\" stroke=\"black\" d=\"M178.88,-236.36C213.87,-222.4 291,-191.63 326.05,-177.65\"/>\n</g>\n<!-- 16&#45;&#45;17 -->\n<g id=\"edge70\" class=\"edge\">\n<title>16&#45;&#45;17</title>\n<path fill=\"none\" stroke=\"black\" d=\"M880.8,-152.65C872.92,-140.41 862.06,-123.54 854.18,-111.3\"/>\n</g>\n<!-- 16&#45;&#45;18 -->\n<g id=\"edge71\" class=\"edge\">\n<title>16&#45;&#45;18</title>\n<path fill=\"none\" stroke=\"black\" d=\"M891,-149.75C891,-121.28 891,-67.47 891,-39.09\"/>\n</g>\n<!-- 17&#45;&#45;18 -->\n<g id=\"edge72\" class=\"edge\">\n<title>17&#45;&#45;18</title>\n<path fill=\"none\" stroke=\"black\" d=\"M854.2,-77.66C862.08,-65.41 872.94,-48.54 880.82,-36.31\"/>\n</g>\n<!-- 0 -->\n<g id=\"node11\" class=\"node\">\n<title>0</title>\n<ellipse fill=\"none\" stroke=\"blue\" cx=\"483\" cy=\"-611.98\" rx=\"18\" ry=\"18\"/>\n<text text-anchor=\"middle\" x=\"483\" y=\"-608.28\" font-family=\"Times,serif\" font-size=\"14.00\">0</text>\n</g>\n<!-- 0&#45;&#45;15 -->\n<g id=\"edge8\" class=\"edge\">\n<title>0&#45;&#45;15</title>\n<path fill=\"none\" stroke=\"black\" d=\"M465.25,-608.77C386.91,-598.55 76,-552.7 76,-468.98 76,-468.98 76,-468.98 76,-393.48 76,-337.18 122.82,-282.93 146.96,-258.7\"/>\n</g>\n<!-- 1 -->\n<g id=\"node12\" class=\"node\">\n<title>1</title>\n<ellipse fill=\"none\" stroke=\"blue\" cx=\"281\" cy=\"-539.98\" rx=\"18\" ry=\"18\"/>\n<text text-anchor=\"middle\" x=\"281\" y=\"-536.28\" font-family=\"Times,serif\" font-size=\"14.00\">1</text>\n</g>\n<!-- 0&#45;&#45;1 -->\n<g id=\"edge1\" class=\"edge\">\n<title>0&#45;&#45;1</title>\n<path fill=\"none\" stroke=\"black\" d=\"M466.22,-605.35C437.75,-595.77 378.17,-575.63 328,-557.98 318.01,-554.47 306.87,-550.44 297.94,-547.19\"/>\n</g>\n<!-- 2 -->\n<g id=\"node13\" class=\"node\">\n<title>2</title>\n<ellipse fill=\"none\" stroke=\"blue\" cx=\"716\" cy=\"-539.98\" rx=\"18\" ry=\"18\"/>\n<text text-anchor=\"middle\" x=\"716\" y=\"-536.28\" font-family=\"Times,serif\" font-size=\"14.00\">2</text>\n</g>\n<!-- 0&#45;&#45;2 -->\n<g id=\"edge2\" class=\"edge\">\n<title>0&#45;&#45;2</title>\n<path fill=\"none\" stroke=\"black\" d=\"M500.13,-605.83C543.22,-592.89 655.73,-559.09 698.84,-546.13\"/>\n</g>\n<!-- 3 -->\n<g id=\"node14\" class=\"node\">\n<title>3</title>\n<ellipse fill=\"none\" stroke=\"blue\" cx=\"426\" cy=\"-467.98\" rx=\"18\" ry=\"18\"/>\n<text text-anchor=\"middle\" x=\"426\" y=\"-464.28\" font-family=\"Times,serif\" font-size=\"14.00\">3</text>\n</g>\n<!-- 0&#45;&#45;3 -->\n<g id=\"edge3\" class=\"edge\">\n<title>0&#45;&#45;3</title>\n<path fill=\"none\" stroke=\"black\" d=\"M476.57,-594.97C465.62,-567.69 443.48,-512.53 432.49,-485.15\"/>\n</g>\n<!-- 6 -->\n<g id=\"node15\" class=\"node\">\n<title>6</title>\n<ellipse fill=\"none\" stroke=\"blue\" cx=\"518\" cy=\"-394.48\" rx=\"18\" ry=\"18\"/>\n<text text-anchor=\"middle\" x=\"518\" y=\"-390.78\" font-family=\"Times,serif\" font-size=\"14.00\">6</text>\n</g>\n<!-- 0&#45;&#45;6 -->\n<g id=\"edge4\" class=\"edge\">\n<title>0&#45;&#45;6</title>\n<path fill=\"none\" stroke=\"black\" d=\"M485.75,-594.07C492.29,-553.79 508.74,-452.52 515.27,-412.31\"/>\n</g>\n<!-- 0&#45;&#45;7 -->\n<g id=\"edge5\" class=\"edge\">\n<title>0&#45;&#45;7</title>\n<path fill=\"none\" stroke=\"black\" d=\"M491.38,-596.05C496.97,-585.63 504.14,-571.26 509,-557.98 531.65,-496.02 536.94,-479.45 545,-413.98 547.12,-396.78 548.95,-391.86 545,-374.98 541.63,-360.59 533.87,-345.64 527.53,-335.05\"/>\n</g>\n<!-- 0&#45;&#45;11 -->\n<g id=\"edge6\" class=\"edge\">\n<title>0&#45;&#45;11</title>\n<path fill=\"none\" stroke=\"black\" d=\"M472.44,-597.24C464.43,-586.66 453.24,-571.59 444,-557.98 422.8,-526.76 411.39,-521.62 399,-485.98 382.76,-439.26 382.21,-423.66 391,-374.98 397.32,-339.97 394.08,-325.38 419,-299.99 436.28,-282.38 504.93,-260.62 538.42,-250.77\"/>\n</g>\n<!-- 0&#45;&#45;12 -->\n<g id=\"edge7\" class=\"edge\">\n<title>0&#45;&#45;12</title>\n<path fill=\"none\" stroke=\"black\" d=\"M501.02,-609.41C583.15,-601.85 920.52,-566.21 980,-485.98 1013.74,-440.46 860.26,-300.55 811.48,-257.93\"/>\n</g>\n<!-- 1&#45;&#45;17 -->\n<g id=\"edge12\" class=\"edge\">\n<title>1&#45;&#45;17</title>\n<path fill=\"none\" stroke=\"black\" d=\"M262.99,-538.25C200.98,-534.71 0,-514.07 0,-395.48 0,-395.48 0,-395.48 0,-318.48 0,-213.36 70.73,-194.44 166,-149.99 287.33,-93.39 725.64,-94.3 824.22,-95.25\"/>\n</g>\n<!-- 1&#45;&#45;3 -->\n<g id=\"edge9\" class=\"edge\">\n<title>1&#45;&#45;3</title>\n<path fill=\"none\" stroke=\"black\" d=\"M297.07,-531.22C324.94,-517.77 381.93,-490.25 409.86,-476.77\"/>\n</g>\n<!-- 1&#45;&#45;12 -->\n<g id=\"edge10\" class=\"edge\">\n<title>1&#45;&#45;12</title>\n<path fill=\"none\" stroke=\"black\" d=\"M294.97,-528.02C316.86,-510.96 360.7,-477.15 399,-449.98 422.52,-433.29 430.81,-432.41 453,-413.98 471.61,-398.52 472.39,-390.45 491,-374.98 513.19,-356.55 523.47,-358.18 545,-338.98 561.95,-323.87 558.38,-311.41 578,-299.99 652.65,-256.51 688.94,-296.43 769,-263.99 773.43,-262.19 777.89,-259.65 781.91,-257.02\"/>\n</g>\n<!-- 13 -->\n<g id=\"node19\" class=\"node\">\n<title>13</title>\n<ellipse fill=\"none\" stroke=\"blue\" cx=\"266\" cy=\"-394.48\" rx=\"19.5\" ry=\"19.5\"/>\n<text text-anchor=\"middle\" x=\"266\" y=\"-390.78\" font-family=\"Times,serif\" font-size=\"14.00\">13</text>\n</g>\n<!-- 1&#45;&#45;13 -->\n<g id=\"edge11\" class=\"edge\">\n<title>1&#45;&#45;13</title>\n<path fill=\"none\" stroke=\"black\" d=\"M279.22,-521.95C276.4,-494.93 270.91,-442.41 267.97,-414.3\"/>\n</g>\n<!-- 1&#45;&#45;19 -->\n<g id=\"edge13\" class=\"edge\">\n<title>1&#45;&#45;19</title>\n<path fill=\"none\" stroke=\"black\" d=\"M264.07,-533.6C221.61,-518.94 114,-474.04 114,-395.48 114,-395.48 114,-395.48 114,-318.48 114,-276.08 103.81,-255.75 133,-224.99 159.57,-197 277.78,-179.01 324.71,-172.86\"/>\n</g>\n<!-- 2&#45;&#45;5 -->\n<g id=\"edge15\" class=\"edge\">\n<title>2&#45;&#45;5</title>\n<path fill=\"none\" stroke=\"black\" d=\"M733.04,-533.95C776.67,-521.06 891.99,-487 935.79,-474.06\"/>\n</g>\n<!-- 2&#45;&#45;9 -->\n<g id=\"edge16\" class=\"edge\">\n<title>2&#45;&#45;9</title>\n<path fill=\"none\" stroke=\"black\" d=\"M717.51,-521.93C722.11,-470.06 735.88,-314.52 740.49,-262.58\"/>\n</g>\n<!-- 2&#45;&#45;14 -->\n<g id=\"edge19\" class=\"edge\">\n<title>2&#45;&#45;14</title>\n<path fill=\"none\" stroke=\"black\" d=\"M715.06,-521.7C711.73,-460.23 700.45,-252.46 697.01,-189.03\"/>\n</g>\n<!-- 2&#45;&#45;17 -->\n<g id=\"edge20\" class=\"edge\">\n<title>2&#45;&#45;17</title>\n<path fill=\"none\" stroke=\"black\" d=\"M727.88,-526.39C736.95,-516.18 749.19,-501.06 757,-485.98 824.87,-354.92 840.01,-172.38 843.2,-114.13\"/>\n</g>\n<!-- 2&#45;&#45;18 -->\n<g id=\"edge21\" class=\"edge\">\n<title>2&#45;&#45;18</title>\n<path fill=\"none\" stroke=\"black\" d=\"M733.9,-537.09C815.95,-527.95 1152,-485.03 1152,-395.48 1152,-395.48 1152,-395.48 1152,-168.49 1152,-57.54 971.32,-28.77 910.62,-22.23\"/>\n</g>\n<!-- 2&#45;&#45;3 -->\n<g id=\"edge14\" class=\"edge\">\n<title>2&#45;&#45;3</title>\n<path fill=\"none\" stroke=\"black\" d=\"M698.73,-534.81C647.27,-522.39 495.36,-485.72 443.55,-473.22\"/>\n</g>\n<!-- 2&#45;&#45;12 -->\n<g id=\"edge17\" class=\"edge\">\n<title>2&#45;&#45;12</title>\n<path fill=\"none\" stroke=\"black\" d=\"M723,-522.94C727.38,-512.54 732.94,-498.61 737,-485.98 763.19,-404.45 784.92,-304.35 793.3,-263.82\"/>\n</g>\n<!-- 2&#45;&#45;13 -->\n<g id=\"edge18\" class=\"edge\">\n<title>2&#45;&#45;13</title>\n<path fill=\"none\" stroke=\"black\" d=\"M697.75,-538.64C647.98,-537.14 506.46,-529.09 399,-485.98 351.31,-466.84 303.46,-428.46 280.33,-408.39\"/>\n</g>\n<!-- 2&#45;&#45;19 -->\n<g id=\"edge22\" class=\"edge\">\n<title>2&#45;&#45;19</title>\n<path fill=\"none\" stroke=\"black\" d=\"M704.24,-526.26C677.44,-497.6 609.16,-426.47 545,-374.98 522.5,-356.93 512.09,-358.66 491,-338.98 467.6,-317.15 424.61,-248.6 403,-224.99 388.88,-209.56 371.05,-193.5 358.71,-182.85\"/>\n</g>\n<!-- 3&#45;&#45;4 -->\n<g id=\"edge23\" class=\"edge\">\n<title>3&#45;&#45;4</title>\n<path fill=\"none\" stroke=\"black\" d=\"M426,-449.67C426,-438.43 426,-423.84 426,-412.63\"/>\n</g>\n<!-- 3&#45;&#45;18 -->\n<g id=\"edge28\" class=\"edge\">\n<title>3&#45;&#45;18</title>\n<path fill=\"none\" stroke=\"black\" d=\"M408.32,-464.31C332.42,-452.34 38,-400.77 38,-320.48 38,-320.48 38,-320.48 38,-168.49 38,-78.34 131.36,-99.9 218,-75 345.59,-38.32 774.24,-23.88 871.33,-21.04\"/>\n</g>\n<!-- 3&#45;&#45;6 -->\n<g id=\"edge24\" class=\"edge\">\n<title>3&#45;&#45;6</title>\n<path fill=\"none\" stroke=\"black\" d=\"M439.97,-456.12C457.37,-442.6 486.88,-419.66 504.2,-406.21\"/>\n</g>\n<!-- 3&#45;&#45;11 -->\n<g id=\"edge25\" class=\"edge\">\n<title>3&#45;&#45;11</title>\n<path fill=\"none\" stroke=\"black\" d=\"M415.86,-453.08C403.73,-434.63 386.54,-401.31 399,-374.98 428.59,-312.47 504.78,-270.06 539.4,-253.39\"/>\n</g>\n<!-- 3&#45;&#45;12 -->\n<g id=\"edge26\" class=\"edge\">\n<title>3&#45;&#45;12</title>\n<path fill=\"none\" stroke=\"black\" d=\"M442.59,-460.63C465.99,-451.45 509.75,-433.43 545,-413.98 639.23,-361.99 743.72,-285.54 781.95,-256.89\"/>\n</g>\n<!-- 3&#45;&#45;13 -->\n<g id=\"edge27\" class=\"edge\">\n<title>3&#45;&#45;13</title>\n<path fill=\"none\" stroke=\"black\" d=\"M410.51,-458.41C405.31,-455.62 399.45,-452.58 394,-449.98 355.42,-431.56 309,-412.56 284.02,-402.59\"/>\n</g>\n<!-- 6&#45;&#45;7 -->\n<g id=\"edge39\" class=\"edge\">\n<title>6&#45;&#45;7</title>\n<path fill=\"none\" stroke=\"black\" d=\"M518,-376.18C518,-364.55 518,-349.27 518,-337.66\"/>\n</g>\n<!-- 6&#45;&#45;12 -->\n<g id=\"edge40\" class=\"edge\">\n<title>6&#45;&#45;12</title>\n<path fill=\"none\" stroke=\"black\" d=\"M530.84,-381.77C557.05,-357.95 615.17,-305.63 626,-299.99 684.13,-269.72 709.03,-290.42 769,-263.99 773.37,-262.06 777.82,-259.47 781.84,-256.84\"/>\n</g>\n<!-- 6&#45;&#45;19 -->\n<g id=\"edge41\" class=\"edge\">\n<title>6&#45;&#45;19</title>\n<path fill=\"none\" stroke=\"black\" d=\"M504.27,-382.62C491.51,-372.18 472.38,-355.57 458,-338.98 413.36,-287.47 371.23,-217.86 353.2,-186.72\"/>\n</g>\n<!-- 7&#45;&#45;9 -->\n<g id=\"edge42\" class=\"edge\">\n<title>7&#45;&#45;9</title>\n<path fill=\"none\" stroke=\"black\" d=\"M532.9,-308.84C538.16,-305.72 544.21,-302.44 550,-299.99 611.75,-273.85 689.84,-256.09 724.3,-248.97\"/>\n</g>\n<!-- 7&#45;&#45;14 -->\n<g id=\"edge45\" class=\"edge\">\n<title>7&#45;&#45;14</title>\n<path fill=\"none\" stroke=\"black\" d=\"M531.66,-307.49C545.24,-296.53 566.63,-279.19 585,-263.99 619.74,-235.23 660.17,-200.98 681.34,-182.97\"/>\n</g>\n<!-- 7&#45;&#45;11 -->\n<g id=\"edge43\" class=\"edge\">\n<title>7&#45;&#45;11</title>\n<path fill=\"none\" stroke=\"black\" d=\"M526.08,-303.36C532.51,-291.33 541.49,-274.53 548.11,-262.12\"/>\n</g>\n<!-- 7&#45;&#45;12 -->\n<g id=\"edge44\" class=\"edge\">\n<title>7&#45;&#45;12</title>\n<path fill=\"none\" stroke=\"black\" d=\"M532.44,-308.66C537.75,-305.44 543.96,-302.15 550,-299.99 642.88,-266.76 677.16,-299.97 769,-263.99 773.45,-262.24 777.92,-259.72 781.94,-257.09\"/>\n</g>\n<!-- 11&#45;&#45;14 -->\n<g id=\"edge58\" class=\"edge\">\n<title>11&#45;&#45;14</title>\n<path fill=\"none\" stroke=\"black\" d=\"M574.04,-234.54C600.72,-220.53 652.05,-193.57 678.82,-179.52\"/>\n</g>\n<!-- 11&#45;&#45;16 -->\n<g id=\"edge59\" class=\"edge\">\n<title>11&#45;&#45;16</title>\n<path fill=\"none\" stroke=\"black\" d=\"M575.91,-239.35C634.56,-226.54 812.95,-187.55 871.88,-174.67\"/>\n</g>\n<!-- 11&#45;&#45;19 -->\n<g id=\"edge60\" class=\"edge\">\n<title>11&#45;&#45;19</title>\n<path fill=\"none\" stroke=\"black\" d=\"M538.84,-237.26C498.7,-223.51 402.79,-190.64 362.42,-176.8\"/>\n</g>\n<!-- 12&#45;&#45;14 -->\n<g id=\"edge61\" class=\"edge\">\n<title>12&#45;&#45;14</title>\n<path fill=\"none\" stroke=\"black\" d=\"M781.66,-232.4C762.68,-218.68 730.53,-195.45 711.48,-181.68\"/>\n</g>\n<!-- 12&#45;&#45;18 -->\n<g id=\"edge62\" class=\"edge\">\n<title>12&#45;&#45;18</title>\n<path fill=\"none\" stroke=\"black\" d=\"M816.4,-241.27C844.63,-236.87 896.15,-224.22 919,-188.99 950.3,-140.72 918.08,-68.85 900.64,-36.87\"/>\n</g>\n<!-- 13&#45;&#45;14 -->\n<g id=\"edge63\" class=\"edge\">\n<title>13&#45;&#45;14</title>\n<path fill=\"none\" stroke=\"black\" d=\"M265.31,-374.75C265.51,-354.41 268.68,-321.91 285,-299.99 327.14,-243.36 358.57,-248.87 425,-224.99 515.77,-192.36 631.07,-177.37 676.42,-172.44\"/>\n</g>\n<!-- 13&#45;&#45;15 -->\n<g id=\"edge64\" class=\"edge\">\n<title>13&#45;&#45;15</title>\n<path fill=\"none\" stroke=\"black\" d=\"M247.48,-387.61C226.54,-379.95 193.14,-364.44 176,-338.98 160.85,-316.48 159,-284.15 159.59,-264\"/>\n</g>\n<!-- 13&#45;&#45;19 -->\n<g id=\"edge65\" class=\"edge\">\n<title>13&#45;&#45;19</title>\n<path fill=\"none\" stroke=\"black\" d=\"M260.18,-375.54C257.07,-365.01 253.57,-351.39 252,-338.98 245.57,-288.1 241.64,-267.73 270,-224.99 284.11,-203.72 309.49,-187.75 326.54,-178.76\"/>\n</g>\n</g>\n</svg>\n",
            "text/plain": [
              "<graphviz.graphs.Graph at 0x7ecfc3bc0590>"
            ]
          },
          "metadata": {}
        },
        {
          "output_type": "display_data",
          "data": {
            "image/svg+xml": "<?xml version=\"1.0\" encoding=\"UTF-8\" standalone=\"no\"?>\n<!DOCTYPE svg PUBLIC \"-//W3C//DTD SVG 1.1//EN\"\n \"http://www.w3.org/Graphics/SVG/1.1/DTD/svg11.dtd\">\n<!-- Generated by graphviz version 2.43.0 (0)\n -->\n<!-- Title: %3 Pages: 1 -->\n<svg width=\"1102pt\" height=\"635pt\"\n viewBox=\"0.00 0.00 1102.00 634.98\" xmlns=\"http://www.w3.org/2000/svg\" xmlns:xlink=\"http://www.w3.org/1999/xlink\">\n<g id=\"graph0\" class=\"graph\" transform=\"scale(1 1) rotate(0) translate(4 630.98)\">\n<title>%3</title>\n<polygon fill=\"white\" stroke=\"transparent\" points=\"-4,4 -4,-630.98 1098,-630.98 1098,4 -4,4\"/>\n<!-- 0 -->\n<g id=\"node1\" class=\"node\">\n<title>0</title>\n<ellipse fill=\"none\" stroke=\"red\" cx=\"703\" cy=\"-608.98\" rx=\"18\" ry=\"18\"/>\n<text text-anchor=\"middle\" x=\"703\" y=\"-605.28\" font-family=\"Times,serif\" font-size=\"14.00\">0</text>\n</g>\n<!-- 1 -->\n<g id=\"node2\" class=\"node\">\n<title>1</title>\n<ellipse fill=\"none\" stroke=\"red\" cx=\"397\" cy=\"-536.98\" rx=\"18\" ry=\"18\"/>\n<text text-anchor=\"middle\" x=\"397\" y=\"-533.28\" font-family=\"Times,serif\" font-size=\"14.00\">1</text>\n</g>\n<!-- 0&#45;&#45;1 -->\n<g id=\"edge1\" class=\"edge\">\n<title>0&#45;&#45;1</title>\n<path fill=\"none\" stroke=\"black\" d=\"M685.67,-604.02C631.94,-591.73 468.51,-554.34 414.52,-541.99\"/>\n</g>\n<!-- 2 -->\n<g id=\"node3\" class=\"node\">\n<title>2</title>\n<ellipse fill=\"none\" stroke=\"red\" cx=\"615\" cy=\"-536.98\" rx=\"18\" ry=\"18\"/>\n<text text-anchor=\"middle\" x=\"615\" y=\"-533.28\" font-family=\"Times,serif\" font-size=\"14.00\">2</text>\n</g>\n<!-- 0&#45;&#45;2 -->\n<g id=\"edge2\" class=\"edge\">\n<title>0&#45;&#45;2</title>\n<path fill=\"none\" stroke=\"black\" d=\"M689.25,-597.05C672.72,-583.89 645.14,-561.96 628.65,-548.84\"/>\n</g>\n<!-- 3 -->\n<g id=\"node4\" class=\"node\">\n<title>3</title>\n<ellipse fill=\"none\" stroke=\"red\" cx=\"650\" cy=\"-464.98\" rx=\"18\" ry=\"18\"/>\n<text text-anchor=\"middle\" x=\"650\" y=\"-461.28\" font-family=\"Times,serif\" font-size=\"14.00\">3</text>\n</g>\n<!-- 0&#45;&#45;3 -->\n<g id=\"edge3\" class=\"edge\">\n<title>0&#45;&#45;3</title>\n<path fill=\"none\" stroke=\"black\" d=\"M697.02,-591.97C686.84,-564.7 666.26,-509.54 656.04,-482.16\"/>\n</g>\n<!-- 6 -->\n<g id=\"node5\" class=\"node\">\n<title>6</title>\n<ellipse fill=\"none\" stroke=\"red\" cx=\"780\" cy=\"-392.98\" rx=\"18\" ry=\"18\"/>\n<text text-anchor=\"middle\" x=\"780\" y=\"-389.28\" font-family=\"Times,serif\" font-size=\"14.00\">6</text>\n</g>\n<!-- 0&#45;&#45;6 -->\n<g id=\"edge4\" class=\"edge\">\n<title>0&#45;&#45;6</title>\n<path fill=\"none\" stroke=\"black\" d=\"M716.12,-596.23C726.4,-586.27 740.23,-571.07 748,-554.98 771.43,-506.48 777.71,-441.84 779.39,-411.33\"/>\n</g>\n<!-- 7 -->\n<g id=\"node6\" class=\"node\">\n<title>7</title>\n<ellipse fill=\"none\" stroke=\"red\" cx=\"782\" cy=\"-319.48\" rx=\"18\" ry=\"18\"/>\n<text text-anchor=\"middle\" x=\"782\" y=\"-315.78\" font-family=\"Times,serif\" font-size=\"14.00\">7</text>\n</g>\n<!-- 0&#45;&#45;7 -->\n<g id=\"edge5\" class=\"edge\">\n<title>0&#45;&#45;7</title>\n<path fill=\"none\" stroke=\"black\" d=\"M718.5,-599.29C733.38,-590.15 755.4,-574.4 768,-554.98 812.56,-486.32 824.47,-454.95 807,-374.98 803.93,-360.95 796.91,-346.21 791.08,-335.6\"/>\n</g>\n<!-- 11 -->\n<g id=\"node7\" class=\"node\">\n<title>11</title>\n<ellipse fill=\"none\" stroke=\"red\" cx=\"622\" cy=\"-244.49\" rx=\"19.5\" ry=\"19.5\"/>\n<text text-anchor=\"middle\" x=\"622\" y=\"-240.79\" font-family=\"Times,serif\" font-size=\"14.00\">11</text>\n</g>\n<!-- 0&#45;&#45;11 -->\n<g id=\"edge6\" class=\"edge\">\n<title>0&#45;&#45;11</title>\n<path fill=\"none\" stroke=\"black\" d=\"M707.8,-591.36C718.21,-552.42 740.01,-452.67 715,-374.98 699.31,-326.24 657.73,-280.32 635.87,-258.6\"/>\n</g>\n<!-- 12 -->\n<g id=\"node8\" class=\"node\">\n<title>12</title>\n<ellipse fill=\"none\" stroke=\"red\" cx=\"868\" cy=\"-244.49\" rx=\"19.5\" ry=\"19.5\"/>\n<text text-anchor=\"middle\" x=\"868\" y=\"-240.79\" font-family=\"Times,serif\" font-size=\"14.00\">12</text>\n</g>\n<!-- 0&#45;&#45;12 -->\n<g id=\"edge7\" class=\"edge\">\n<title>0&#45;&#45;12</title>\n<path fill=\"none\" stroke=\"black\" d=\"M721.07,-607.67C778.58,-605.58 957.93,-590.37 1032,-482.98 1093.03,-394.51 936.65,-287.56 884.34,-255.21\"/>\n</g>\n<!-- 15 -->\n<g id=\"node17\" class=\"node\">\n<title>15</title>\n<ellipse fill=\"none\" stroke=\"blue\" cx=\"284\" cy=\"-244.49\" rx=\"19.5\" ry=\"19.5\"/>\n<text text-anchor=\"middle\" x=\"284\" y=\"-240.79\" font-family=\"Times,serif\" font-size=\"14.00\">15</text>\n</g>\n<!-- 0&#45;&#45;15 -->\n<g id=\"edge8\" class=\"edge\">\n<title>0&#45;&#45;15</title>\n<path fill=\"none\" stroke=\"black\" d=\"M684.87,-607.01C634.05,-603.87 486.31,-591.98 370,-554.98 301.05,-533.05 272.39,-536.77 224,-482.98 167.37,-420.04 125.97,-371.69 171,-299.99 191.62,-267.15 238.19,-253.63 264.66,-248.44\"/>\n</g>\n<!-- 1&#45;&#45;3 -->\n<g id=\"edge9\" class=\"edge\">\n<title>1&#45;&#45;3</title>\n<path fill=\"none\" stroke=\"black\" d=\"M414.39,-531.17C460.72,-518.35 586.74,-483.49 632.82,-470.74\"/>\n</g>\n<!-- 1&#45;&#45;12 -->\n<g id=\"edge10\" class=\"edge\">\n<title>1&#45;&#45;12</title>\n<path fill=\"none\" stroke=\"black\" d=\"M415.06,-534.1C460.13,-529.09 580.84,-513.63 677,-482.98 750.14,-459.67 779.11,-464.65 834,-410.98 859.44,-386.11 861.02,-373.66 869,-338.98 872.89,-322.09 869.16,-317.32 869,-299.99 868.89,-288.06 868.65,-274.67 868.43,-264.15\"/>\n</g>\n<!-- 13 -->\n<g id=\"node9\" class=\"node\">\n<title>13</title>\n<ellipse fill=\"none\" stroke=\"red\" cx=\"199\" cy=\"-319.48\" rx=\"19.5\" ry=\"19.5\"/>\n<text text-anchor=\"middle\" x=\"199\" y=\"-315.78\" font-family=\"Times,serif\" font-size=\"14.00\">13</text>\n</g>\n<!-- 1&#45;&#45;13 -->\n<g id=\"edge11\" class=\"edge\">\n<title>1&#45;&#45;13</title>\n<path fill=\"none\" stroke=\"black\" d=\"M379.15,-534.42C348.79,-530.82 287,-519.23 252,-482.98 212.74,-442.31 202.56,-372.19 199.92,-338.97\"/>\n</g>\n<!-- 19 -->\n<g id=\"node10\" class=\"node\">\n<title>19</title>\n<ellipse fill=\"none\" stroke=\"red\" cx=\"208\" cy=\"-169.49\" rx=\"19.5\" ry=\"19.5\"/>\n<text text-anchor=\"middle\" x=\"208\" y=\"-165.79\" font-family=\"Times,serif\" font-size=\"14.00\">19</text>\n</g>\n<!-- 1&#45;&#45;19 -->\n<g id=\"edge13\" class=\"edge\">\n<title>1&#45;&#45;19</title>\n<path fill=\"none\" stroke=\"black\" d=\"M378.98,-535.23C321.1,-532.45 141.31,-520.85 100,-482.98 69.8,-455.3 76,-434.95 76,-393.98 76,-393.98 76,-393.98 76,-318.48 76,-275.58 73.11,-258.42 100,-224.99 122.9,-196.51 164.57,-181.57 188.91,-174.92\"/>\n</g>\n<!-- 17 -->\n<g id=\"node19\" class=\"node\">\n<title>17</title>\n<ellipse fill=\"none\" stroke=\"blue\" cx=\"483\" cy=\"-94.49\" rx=\"19.5\" ry=\"19.5\"/>\n<text text-anchor=\"middle\" x=\"483\" y=\"-90.79\" font-family=\"Times,serif\" font-size=\"14.00\">17</text>\n</g>\n<!-- 1&#45;&#45;17 -->\n<g id=\"edge12\" class=\"edge\">\n<title>1&#45;&#45;17</title>\n<path fill=\"none\" stroke=\"black\" d=\"M378.88,-534.68C318.81,-530.09 127.02,-513.33 74,-482.98 29.35,-457.43 0,-445.43 0,-393.98 0,-393.98 0,-393.98 0,-318.48 0,-110.68 373.11,-95.9 463.47,-95.37\"/>\n</g>\n<!-- 2&#45;&#45;3 -->\n<g id=\"edge14\" class=\"edge\">\n<title>2&#45;&#45;3</title>\n<path fill=\"none\" stroke=\"black\" d=\"M622.77,-520.45C628.57,-508.85 636.46,-493.06 642.25,-481.47\"/>\n</g>\n<!-- 2&#45;&#45;12 -->\n<g id=\"edge17\" class=\"edge\">\n<title>2&#45;&#45;12</title>\n<path fill=\"none\" stroke=\"black\" d=\"M633.09,-534.17C695.55,-527.72 899.41,-505.11 918,-482.98 970.32,-420.71 947.5,-375.78 918,-299.99 911.11,-282.28 895.47,-266.83 883.51,-256.95\"/>\n</g>\n<!-- 2&#45;&#45;13 -->\n<g id=\"edge18\" class=\"edge\">\n<title>2&#45;&#45;13</title>\n<path fill=\"none\" stroke=\"black\" d=\"M597.01,-536.23C551.74,-536.09 430.72,-530.92 346,-482.98 280.94,-446.17 229.15,-370.13 208.59,-336.77\"/>\n</g>\n<!-- 2&#45;&#45;19 -->\n<g id=\"edge22\" class=\"edge\">\n<title>2&#45;&#45;19</title>\n<path fill=\"none\" stroke=\"black\" d=\"M596.87,-534.86C507.05,-528.81 114,-496.48 114,-393.98 114,-393.98 114,-393.98 114,-318.48 114,-260.04 166.88,-206.02 193.31,-182.66\"/>\n</g>\n<!-- 5 -->\n<g id=\"node12\" class=\"node\">\n<title>5</title>\n<ellipse fill=\"none\" stroke=\"blue\" cx=\"528\" cy=\"-392.98\" rx=\"18\" ry=\"18\"/>\n<text text-anchor=\"middle\" x=\"528\" y=\"-389.28\" font-family=\"Times,serif\" font-size=\"14.00\">5</text>\n</g>\n<!-- 2&#45;&#45;5 -->\n<g id=\"edge15\" class=\"edge\">\n<title>2&#45;&#45;5</title>\n<path fill=\"none\" stroke=\"black\" d=\"M606.02,-521.32C589.35,-494.11 553.8,-436.09 537.06,-408.78\"/>\n</g>\n<!-- 9 -->\n<g id=\"node14\" class=\"node\">\n<title>9</title>\n<ellipse fill=\"none\" stroke=\"blue\" cx=\"567\" cy=\"-244.49\" rx=\"18\" ry=\"18\"/>\n<text text-anchor=\"middle\" x=\"567\" y=\"-240.79\" font-family=\"Times,serif\" font-size=\"14.00\">9</text>\n</g>\n<!-- 2&#45;&#45;9 -->\n<g id=\"edge16\" class=\"edge\">\n<title>2&#45;&#45;9</title>\n<path fill=\"none\" stroke=\"black\" d=\"M612.21,-519.11C603.73,-467.77 578.29,-313.81 569.8,-262.41\"/>\n</g>\n<!-- 14 -->\n<g id=\"node16\" class=\"node\">\n<title>14</title>\n<ellipse fill=\"none\" stroke=\"blue\" cx=\"792\" cy=\"-169.49\" rx=\"19.5\" ry=\"19.5\"/>\n<text text-anchor=\"middle\" x=\"792\" y=\"-165.79\" font-family=\"Times,serif\" font-size=\"14.00\">14</text>\n</g>\n<!-- 2&#45;&#45;14 -->\n<g id=\"edge19\" class=\"edge\">\n<title>2&#45;&#45;14</title>\n<path fill=\"none\" stroke=\"black\" d=\"M632.97,-534.72C693.46,-530.23 888.92,-513.62 943,-482.98 988.01,-457.49 1018,-445.71 1018,-393.98 1018,-393.98 1018,-393.98 1018,-318.48 1018,-219.99 865.92,-183.5 811.27,-173.57\"/>\n</g>\n<!-- 2&#45;&#45;17 -->\n<g id=\"edge20\" class=\"edge\">\n<title>2&#45;&#45;17</title>\n<path fill=\"none\" stroke=\"black\" d=\"M600.16,-526.27C562.89,-500.88 465.8,-428.25 430,-338.98 398.69,-260.91 405.72,-226.8 440,-149.99 446.98,-134.37 459.44,-119.31 469.16,-108.99\"/>\n</g>\n<!-- 18 -->\n<g id=\"node20\" class=\"node\">\n<title>18</title>\n<ellipse fill=\"none\" stroke=\"blue\" cx=\"568\" cy=\"-19.5\" rx=\"19.5\" ry=\"19.5\"/>\n<text text-anchor=\"middle\" x=\"568\" y=\"-15.8\" font-family=\"Times,serif\" font-size=\"14.00\">18</text>\n</g>\n<!-- 2&#45;&#45;18 -->\n<g id=\"edge21\" class=\"edge\">\n<title>2&#45;&#45;18</title>\n<path fill=\"none\" stroke=\"black\" d=\"M633.02,-535.3C698.66,-532.53 924.2,-520.41 984,-482.98 1057.93,-436.72 1094,-407.7 1094,-320.48 1094,-320.48 1094,-320.48 1094,-168.49 1094,-61.18 683.15,-27.95 587.66,-21.68\"/>\n</g>\n<!-- 3&#45;&#45;6 -->\n<g id=\"edge24\" class=\"edge\">\n<title>3&#45;&#45;6</title>\n<path fill=\"none\" stroke=\"black\" d=\"M665.42,-455.68C690.31,-442.28 739.06,-416.03 764.19,-402.49\"/>\n</g>\n<!-- 3&#45;&#45;11 -->\n<g id=\"edge25\" class=\"edge\">\n<title>3&#45;&#45;11</title>\n<path fill=\"none\" stroke=\"black\" d=\"M647.8,-446.84C642.63,-406.5 629.73,-305.84 624.38,-264.09\"/>\n</g>\n<!-- 3&#45;&#45;12 -->\n<g id=\"edge26\" class=\"edge\">\n<title>3&#45;&#45;12</title>\n<path fill=\"none\" stroke=\"black\" d=\"M667.91,-462.62C699.8,-459.28 766.82,-448.04 807,-410.98 850.11,-371.23 862.86,-298.34 866.54,-264.14\"/>\n</g>\n<!-- 3&#45;&#45;13 -->\n<g id=\"edge27\" class=\"edge\">\n<title>3&#45;&#45;13</title>\n<path fill=\"none\" stroke=\"black\" d=\"M632.4,-460.19C573.96,-447.29 381.6,-402.36 232,-338.98 226.44,-336.63 220.61,-333.57 215.43,-330.63\"/>\n</g>\n<!-- 4 -->\n<g id=\"node11\" class=\"node\">\n<title>4</title>\n<ellipse fill=\"none\" stroke=\"blue\" cx=\"688\" cy=\"-392.98\" rx=\"18\" ry=\"18\"/>\n<text text-anchor=\"middle\" x=\"688\" y=\"-389.28\" font-family=\"Times,serif\" font-size=\"14.00\">4</text>\n</g>\n<!-- 3&#45;&#45;4 -->\n<g id=\"edge23\" class=\"edge\">\n<title>3&#45;&#45;4</title>\n<path fill=\"none\" stroke=\"black\" d=\"M658.25,-448.79C664.62,-437.05 673.4,-420.88 679.77,-409.14\"/>\n</g>\n<!-- 3&#45;&#45;18 -->\n<g id=\"edge28\" class=\"edge\">\n<title>3&#45;&#45;18</title>\n<path fill=\"none\" stroke=\"black\" d=\"M632.02,-463.72C530.93,-461.77 38,-445.85 38,-320.48 38,-320.48 38,-320.48 38,-168.49 38,-60.3 452.89,-27.71 548.51,-21.63\"/>\n</g>\n<!-- 6&#45;&#45;7 -->\n<g id=\"edge39\" class=\"edge\">\n<title>6&#45;&#45;7</title>\n<path fill=\"none\" stroke=\"black\" d=\"M780.48,-374.67C780.8,-363.43 781.21,-348.84 781.52,-337.63\"/>\n</g>\n<!-- 6&#45;&#45;12 -->\n<g id=\"edge40\" class=\"edge\">\n<title>6&#45;&#45;12</title>\n<path fill=\"none\" stroke=\"black\" d=\"M788.92,-377.13C805.53,-349.49 841.04,-290.36 858.25,-261.71\"/>\n</g>\n<!-- 6&#45;&#45;19 -->\n<g id=\"edge41\" class=\"edge\">\n<title>6&#45;&#45;19</title>\n<path fill=\"none\" stroke=\"black\" d=\"M763.02,-386.95C749.98,-383.23 731.47,-378.27 715,-374.98 509.17,-333.97 412.61,-403.71 256,-263.99 232.99,-243.46 219.44,-209.29 212.89,-188.43\"/>\n</g>\n<!-- 7&#45;&#45;11 -->\n<g id=\"edge43\" class=\"edge\">\n<title>7&#45;&#45;11</title>\n<path fill=\"none\" stroke=\"black\" d=\"M767.78,-307.92C763.76,-305.16 759.3,-302.31 755,-299.99 715.69,-278.78 666.33,-260.58 640.19,-251.56\"/>\n</g>\n<!-- 7&#45;&#45;12 -->\n<g id=\"edge44\" class=\"edge\">\n<title>7&#45;&#45;12</title>\n<path fill=\"none\" stroke=\"black\" d=\"M795.44,-307.08C811.22,-293.69 837.29,-271.56 853.51,-257.79\"/>\n</g>\n<!-- 7&#45;&#45;9 -->\n<g id=\"edge42\" class=\"edge\">\n<title>7&#45;&#45;9</title>\n<path fill=\"none\" stroke=\"black\" d=\"M768.3,-307.62C764.21,-304.79 759.59,-301.98 755,-299.99 687.76,-270.74 661.24,-293.24 594,-263.99 589.41,-261.99 584.79,-259.18 580.7,-256.35\"/>\n</g>\n<!-- 7&#45;&#45;14 -->\n<g id=\"edge45\" class=\"edge\">\n<title>7&#45;&#45;14</title>\n<path fill=\"none\" stroke=\"black\" d=\"M787.77,-302.03C791.21,-291.34 795.24,-277.02 797,-263.99 800.5,-238.05 797.62,-207.76 795,-188.85\"/>\n</g>\n<!-- 11&#45;&#45;19 -->\n<g id=\"edge60\" class=\"edge\">\n<title>11&#45;&#45;19</title>\n<path fill=\"none\" stroke=\"black\" d=\"M606.97,-231.81C602.95,-229.19 598.47,-226.68 594,-224.99 460.77,-174.53 285.66,-170.21 227.62,-170.26\"/>\n</g>\n<!-- 11&#45;&#45;14 -->\n<g id=\"edge58\" class=\"edge\">\n<title>11&#45;&#45;14</title>\n<path fill=\"none\" stroke=\"black\" d=\"M639.55,-235.95C672.13,-221.96 741.59,-192.14 774.29,-178.1\"/>\n</g>\n<!-- 16 -->\n<g id=\"node18\" class=\"node\">\n<title>16</title>\n<ellipse fill=\"none\" stroke=\"blue\" cx=\"568\" cy=\"-169.49\" rx=\"19.5\" ry=\"19.5\"/>\n<text text-anchor=\"middle\" x=\"568\" y=\"-165.79\" font-family=\"Times,serif\" font-size=\"14.00\">16</text>\n</g>\n<!-- 11&#45;&#45;16 -->\n<g id=\"edge59\" class=\"edge\">\n<title>11&#45;&#45;16</title>\n<path fill=\"none\" stroke=\"black\" d=\"M610.81,-228.36C601.54,-215.83 588.44,-198.12 579.17,-185.6\"/>\n</g>\n<!-- 12&#45;&#45;14 -->\n<g id=\"edge61\" class=\"edge\">\n<title>12&#45;&#45;14</title>\n<path fill=\"none\" stroke=\"black\" d=\"M854.41,-230.44C840.66,-217.23 819.52,-196.93 805.73,-183.67\"/>\n</g>\n<!-- 12&#45;&#45;18 -->\n<g id=\"edge62\" class=\"edge\">\n<title>12&#45;&#45;18</title>\n<path fill=\"none\" stroke=\"black\" d=\"M864.23,-225.35C856.05,-190.62 833.27,-114.65 784,-75 724.65,-27.22 628.73,-20.7 587.67,-20.24\"/>\n</g>\n<!-- 13&#45;&#45;19 -->\n<g id=\"edge65\" class=\"edge\">\n<title>13&#45;&#45;19</title>\n<path fill=\"none\" stroke=\"black\" d=\"M200.14,-299.74C201.87,-271.27 205.14,-217.46 206.87,-189.08\"/>\n</g>\n<!-- 13&#45;&#45;14 -->\n<g id=\"edge63\" class=\"edge\">\n<title>13&#45;&#45;14</title>\n<path fill=\"none\" stroke=\"black\" d=\"M217.24,-312.06C264.05,-295.74 392.45,-252.09 502,-224.99 602.95,-200.01 726.15,-180.38 772.84,-173.32\"/>\n</g>\n<!-- 13&#45;&#45;15 -->\n<g id=\"edge64\" class=\"edge\">\n<title>13&#45;&#45;15</title>\n<path fill=\"none\" stroke=\"black\" d=\"M213.42,-306.1C229.05,-292.68 253.85,-271.38 269.51,-257.93\"/>\n</g>\n<!-- 4&#45;&#45;7 -->\n<g id=\"edge29\" class=\"edge\">\n<title>4&#45;&#45;7</title>\n<path fill=\"none\" stroke=\"black\" d=\"M701.87,-381.43C719.64,-367.91 750.27,-344.62 768.07,-331.08\"/>\n</g>\n<!-- 8 -->\n<g id=\"node13\" class=\"node\">\n<title>8</title>\n<ellipse fill=\"none\" stroke=\"blue\" cx=\"482\" cy=\"-319.48\" rx=\"18\" ry=\"18\"/>\n<text text-anchor=\"middle\" x=\"482\" y=\"-315.78\" font-family=\"Times,serif\" font-size=\"14.00\">8</text>\n</g>\n<!-- 4&#45;&#45;8 -->\n<g id=\"edge30\" class=\"edge\">\n<title>4&#45;&#45;8</title>\n<path fill=\"none\" stroke=\"black\" d=\"M671.14,-386.13C632.42,-372.69 537.47,-339.74 498.8,-326.32\"/>\n</g>\n<!-- 10 -->\n<g id=\"node15\" class=\"node\">\n<title>10</title>\n<ellipse fill=\"none\" stroke=\"blue\" cx=\"727\" cy=\"-319.48\" rx=\"19.5\" ry=\"19.5\"/>\n<text text-anchor=\"middle\" x=\"727\" y=\"-315.78\" font-family=\"Times,serif\" font-size=\"14.00\">10</text>\n</g>\n<!-- 4&#45;&#45;10 -->\n<g id=\"edge31\" class=\"edge\">\n<title>4&#45;&#45;10</title>\n<path fill=\"none\" stroke=\"black\" d=\"M696.27,-376.82C702.67,-365.1 711.5,-348.89 718.06,-336.87\"/>\n</g>\n<!-- 4&#45;&#45;15 -->\n<g id=\"edge32\" class=\"edge\">\n<title>4&#45;&#45;15</title>\n<path fill=\"none\" stroke=\"black\" d=\"M670.27,-389.66C630.67,-384.11 532.4,-368.29 455,-338.98 394.56,-316.1 329.12,-275.32 299.79,-256.08\"/>\n</g>\n<!-- 5&#45;&#45;11 -->\n<g id=\"edge35\" class=\"edge\">\n<title>5&#45;&#45;11</title>\n<path fill=\"none\" stroke=\"black\" d=\"M537.36,-377.4C555.1,-349.75 593.48,-289.93 611.83,-261.34\"/>\n</g>\n<!-- 5&#45;&#45;9 -->\n<g id=\"edge33\" class=\"edge\">\n<title>5&#45;&#45;9</title>\n<path fill=\"none\" stroke=\"black\" d=\"M532.27,-375.35C537.02,-356.91 544.95,-326.29 552,-299.99 555.4,-287.28 559.35,-272.95 562.35,-262.17\"/>\n</g>\n<!-- 5&#45;&#45;10 -->\n<g id=\"edge34\" class=\"edge\">\n<title>5&#45;&#45;10</title>\n<path fill=\"none\" stroke=\"black\" d=\"M544.62,-386.01C581.62,-372.72 670.48,-340.79 708.85,-327\"/>\n</g>\n<!-- 5&#45;&#45;16 -->\n<g id=\"edge36\" class=\"edge\">\n<title>5&#45;&#45;16</title>\n<path fill=\"none\" stroke=\"black\" d=\"M511.33,-385.38C493.67,-377.37 466.74,-362.01 455,-338.98 447.13,-323.54 450.21,-316.64 455,-299.99 470.58,-245.79 524.75,-201.03 552.03,-181.32\"/>\n</g>\n<!-- 5&#45;&#45;17 -->\n<g id=\"edge37\" class=\"edge\">\n<title>5&#45;&#45;17</title>\n<path fill=\"none\" stroke=\"black\" d=\"M510.97,-386.44C491.48,-379.06 460.51,-363.97 447,-338.98 405.54,-262.3 453.02,-153.21 474.02,-112.06\"/>\n</g>\n<!-- 5&#45;&#45;18 -->\n<g id=\"edge38\" class=\"edge\">\n<title>5&#45;&#45;18</title>\n<path fill=\"none\" stroke=\"black\" d=\"M510.03,-390.9C470.5,-387.86 373.95,-376.82 304,-338.98 215.64,-291.18 128.01,-235.96 180,-149.99 220.24,-83.45 475.58,-35.99 548.55,-23.66\"/>\n</g>\n<!-- 8&#45;&#45;9 -->\n<g id=\"edge46\" class=\"edge\">\n<title>8&#45;&#45;9</title>\n<path fill=\"none\" stroke=\"black\" d=\"M495.28,-307.08C511.25,-293.37 537.89,-270.49 553.81,-256.81\"/>\n</g>\n<!-- 8&#45;&#45;14 -->\n<g id=\"edge47\" class=\"edge\">\n<title>8&#45;&#45;14</title>\n<path fill=\"none\" stroke=\"black\" d=\"M487.54,-302.11C495.61,-280.87 512.68,-244.26 540,-224.99 613.52,-173.13 726.94,-169.11 772.28,-169.78\"/>\n</g>\n<!-- 8&#45;&#45;15 -->\n<g id=\"edge48\" class=\"edge\">\n<title>8&#45;&#45;15</title>\n<path fill=\"none\" stroke=\"black\" d=\"M465.12,-312.26C428.08,-298.61 339.99,-266.13 301.98,-252.11\"/>\n</g>\n<!-- 8&#45;&#45;17 -->\n<g id=\"edge49\" class=\"edge\">\n<title>8&#45;&#45;17</title>\n<path fill=\"none\" stroke=\"black\" d=\"M482.08,-301.36C482.26,-260.36 482.72,-156.83 482.92,-114.24\"/>\n</g>\n<!-- 9&#45;&#45;14 -->\n<g id=\"edge50\" class=\"edge\">\n<title>9&#45;&#45;14</title>\n<path fill=\"none\" stroke=\"black\" d=\"M580.76,-232.76C584.86,-229.94 589.46,-227.1 594,-224.99 656.09,-196.17 736.42,-179.92 772.7,-173.6\"/>\n</g>\n<!-- 9&#45;&#45;16 -->\n<g id=\"edge51\" class=\"edge\">\n<title>9&#45;&#45;16</title>\n<path fill=\"none\" stroke=\"black\" d=\"M567.24,-226.19C567.39,-215.06 567.59,-200.6 567.74,-189.2\"/>\n</g>\n<!-- 9&#45;&#45;17 -->\n<g id=\"edge52\" class=\"edge\">\n<title>9&#45;&#45;17</title>\n<path fill=\"none\" stroke=\"black\" d=\"M558.48,-228.48C542.63,-200.56 508.73,-140.83 492.3,-111.89\"/>\n</g>\n<!-- 10&#45;&#45;12 -->\n<g id=\"edge53\" class=\"edge\">\n<title>10&#45;&#45;12</title>\n<path fill=\"none\" stroke=\"black\" d=\"M742.76,-307.54C746.69,-304.96 750.95,-302.29 755,-299.99 787.76,-281.37 827.85,-263.03 850.4,-253.09\"/>\n</g>\n<!-- 10&#45;&#45;14 -->\n<g id=\"edge54\" class=\"edge\">\n<title>10&#45;&#45;14</title>\n<path fill=\"none\" stroke=\"black\" d=\"M737.36,-302.71C744.07,-292.05 752.71,-277.52 759,-263.99 770.83,-238.54 780.97,-207.6 786.78,-188.47\"/>\n</g>\n<!-- 10&#45;&#45;16 -->\n<g id=\"edge55\" class=\"edge\">\n<title>10&#45;&#45;16</title>\n<path fill=\"none\" stroke=\"black\" d=\"M716.48,-303.06C702.68,-283.49 677.01,-249.36 650,-224.99 629.44,-206.44 602.07,-189.54 584.73,-179.63\"/>\n</g>\n<!-- 10&#45;&#45;17 -->\n<g id=\"edge56\" class=\"edge\">\n<title>10&#45;&#45;17</title>\n<path fill=\"none\" stroke=\"black\" d=\"M720.95,-300.76C713.66,-281.03 700.12,-248.77 682,-224.99 651.26,-184.65 638.33,-177.92 596,-149.99 564.55,-129.24 524,-111.65 501.01,-102.42\"/>\n</g>\n<!-- 10&#45;&#45;18 -->\n<g id=\"edge57\" class=\"edge\">\n<title>10&#45;&#45;18</title>\n<path fill=\"none\" stroke=\"black\" d=\"M725.16,-299.93C722.77,-280.59 717.57,-249.72 707,-224.99 673.43,-146.44 608.06,-66.44 580.61,-34.71\"/>\n</g>\n<!-- 14&#45;&#45;18 -->\n<g id=\"edge66\" class=\"edge\">\n<title>14&#45;&#45;18</title>\n<path fill=\"none\" stroke=\"black\" d=\"M790.45,-149.97C787.69,-128.88 780.07,-94.81 759,-75 710.27,-29.17 625.71,-21.5 587.61,-20.48\"/>\n</g>\n<!-- 15&#45;&#45;19 -->\n<g id=\"edge69\" class=\"edge\">\n<title>15&#45;&#45;19</title>\n<path fill=\"none\" stroke=\"black\" d=\"M270.41,-230.44C256.66,-217.23 235.52,-196.93 221.73,-183.67\"/>\n</g>\n<!-- 15&#45;&#45;17 -->\n<g id=\"edge67\" class=\"edge\">\n<title>15&#45;&#45;17</title>\n<path fill=\"none\" stroke=\"black\" d=\"M285.74,-224.73C288.67,-203.76 296.45,-170.09 317,-149.99 358.09,-109.8 429.31,-99.25 463.53,-96.48\"/>\n</g>\n<!-- 15&#45;&#45;18 -->\n<g id=\"edge68\" class=\"edge\">\n<title>15&#45;&#45;18</title>\n<path fill=\"none\" stroke=\"black\" d=\"M280.3,-225.19C277.26,-204.94 275.65,-172.23 291,-149.99 353.57,-59.34 496.69,-30.57 548.68,-22.92\"/>\n</g>\n<!-- 16&#45;&#45;17 -->\n<g id=\"edge70\" class=\"edge\">\n<title>16&#45;&#45;17</title>\n<path fill=\"none\" stroke=\"black\" d=\"M553.58,-156.11C537.95,-142.69 513.15,-121.39 497.49,-107.94\"/>\n</g>\n<!-- 16&#45;&#45;18 -->\n<g id=\"edge71\" class=\"edge\">\n<title>16&#45;&#45;18</title>\n<path fill=\"none\" stroke=\"black\" d=\"M568,-149.75C568,-121.28 568,-67.47 568,-39.09\"/>\n</g>\n<!-- 17&#45;&#45;18 -->\n<g id=\"edge72\" class=\"edge\">\n<title>17&#45;&#45;18</title>\n<path fill=\"none\" stroke=\"black\" d=\"M497.42,-81.11C513.05,-67.69 537.85,-46.39 553.51,-32.94\"/>\n</g>\n</g>\n</svg>\n",
            "text/plain": [
              "<graphviz.graphs.Graph at 0x7ecfc33f63d0>"
            ]
          },
          "metadata": {}
        },
        {
          "output_type": "display_data",
          "data": {
            "image/svg+xml": "<?xml version=\"1.0\" encoding=\"UTF-8\" standalone=\"no\"?>\n<!DOCTYPE svg PUBLIC \"-//W3C//DTD SVG 1.1//EN\"\n \"http://www.w3.org/Graphics/SVG/1.1/DTD/svg11.dtd\">\n<!-- Generated by graphviz version 2.43.0 (0)\n -->\n<!-- Title: %3 Pages: 1 -->\n<svg width=\"1077pt\" height=\"635pt\"\n viewBox=\"0.00 0.00 1077.41 634.98\" xmlns=\"http://www.w3.org/2000/svg\" xmlns:xlink=\"http://www.w3.org/1999/xlink\">\n<g id=\"graph0\" class=\"graph\" transform=\"scale(1 1) rotate(0) translate(4 630.98)\">\n<title>%3</title>\n<polygon fill=\"white\" stroke=\"transparent\" points=\"-4,4 -4,-630.98 1073.41,-630.98 1073.41,4 -4,4\"/>\n<!-- 0 -->\n<g id=\"node1\" class=\"node\">\n<title>0</title>\n<ellipse fill=\"none\" stroke=\"blue\" cx=\"842\" cy=\"-608.98\" rx=\"18\" ry=\"18\"/>\n<text text-anchor=\"middle\" x=\"842\" y=\"-605.28\" font-family=\"Times,serif\" font-size=\"14.00\">0</text>\n</g>\n<!-- 11 -->\n<g id=\"node2\" class=\"node\">\n<title>11</title>\n<ellipse fill=\"none\" stroke=\"blue\" cx=\"537\" cy=\"-244.49\" rx=\"19.5\" ry=\"19.5\"/>\n<text text-anchor=\"middle\" x=\"537\" y=\"-240.79\" font-family=\"Times,serif\" font-size=\"14.00\">11</text>\n</g>\n<!-- 0&#45;&#45;11 -->\n<g id=\"edge6\" class=\"edge\">\n<title>0&#45;&#45;11</title>\n<path fill=\"none\" stroke=\"black\" d=\"M824.32,-605.16C761.72,-594.12 550.04,-547.48 468,-410.98 459.76,-397.27 464.12,-390.51 468,-374.98 471.01,-362.93 509.47,-294.11 527.63,-261.99\"/>\n</g>\n<!-- 12 -->\n<g id=\"node3\" class=\"node\">\n<title>12</title>\n<ellipse fill=\"none\" stroke=\"blue\" cx=\"863\" cy=\"-244.49\" rx=\"19.5\" ry=\"19.5\"/>\n<text text-anchor=\"middle\" x=\"863\" y=\"-240.79\" font-family=\"Times,serif\" font-size=\"14.00\">12</text>\n</g>\n<!-- 0&#45;&#45;12 -->\n<g id=\"edge7\" class=\"edge\">\n<title>0&#45;&#45;12</title>\n<path fill=\"none\" stroke=\"black\" d=\"M859.76,-605.67C902.34,-599.71 1008.29,-582.37 1029,-554.98 1098.1,-463.58 1072.95,-380.07 991,-299.99 960.08,-269.77 909.82,-255.17 882.38,-249.11\"/>\n</g>\n<!-- 15 -->\n<g id=\"node6\" class=\"node\">\n<title>15</title>\n<ellipse fill=\"none\" stroke=\"blue\" cx=\"669\" cy=\"-244.49\" rx=\"19.5\" ry=\"19.5\"/>\n<text text-anchor=\"middle\" x=\"669\" y=\"-240.79\" font-family=\"Times,serif\" font-size=\"14.00\">15</text>\n</g>\n<!-- 0&#45;&#45;15 -->\n<g id=\"edge8\" class=\"edge\">\n<title>0&#45;&#45;15</title>\n<path fill=\"none\" stroke=\"black\" d=\"M858.65,-602.13C878.77,-594.29 912.48,-578.57 933,-554.98 988.27,-491.48 1039.17,-444.71 992,-374.98 920.57,-269.4 747.46,-249.89 688.81,-246.3\"/>\n</g>\n<!-- 1 -->\n<g id=\"node11\" class=\"node\">\n<title>1</title>\n<ellipse fill=\"none\" stroke=\"black\" cx=\"874\" cy=\"-536.98\" rx=\"27\" ry=\"18\"/>\n<text text-anchor=\"middle\" x=\"874\" y=\"-533.28\" font-family=\"Times,serif\" font-size=\"14.00\">1</text>\n</g>\n<!-- 0&#45;&#45;1 -->\n<g id=\"edge1\" class=\"edge\">\n<title>0&#45;&#45;1</title>\n<path fill=\"none\" stroke=\"black\" d=\"M849.26,-592.1C854.42,-580.8 861.34,-565.68 866.55,-554.29\"/>\n</g>\n<!-- 2 -->\n<g id=\"node12\" class=\"node\">\n<title>2</title>\n<ellipse fill=\"none\" stroke=\"black\" cx=\"459\" cy=\"-536.98\" rx=\"27\" ry=\"18\"/>\n<text text-anchor=\"middle\" x=\"459\" y=\"-533.28\" font-family=\"Times,serif\" font-size=\"14.00\">2</text>\n</g>\n<!-- 0&#45;&#45;2 -->\n<g id=\"edge2\" class=\"edge\">\n<title>0&#45;&#45;2</title>\n<path fill=\"none\" stroke=\"black\" d=\"M824.3,-604.75C762.65,-593.48 557.26,-555.94 484.68,-542.68\"/>\n</g>\n<!-- 3 -->\n<g id=\"node13\" class=\"node\">\n<title>3</title>\n<ellipse fill=\"none\" stroke=\"black\" cx=\"749\" cy=\"-464.98\" rx=\"27\" ry=\"18\"/>\n<text text-anchor=\"middle\" x=\"749\" y=\"-461.28\" font-family=\"Times,serif\" font-size=\"14.00\">3</text>\n</g>\n<!-- 0&#45;&#45;3 -->\n<g id=\"edge3\" class=\"edge\">\n<title>0&#45;&#45;3</title>\n<path fill=\"none\" stroke=\"black\" d=\"M832.57,-593.59C815.02,-566.79 777.49,-509.48 759.3,-481.71\"/>\n</g>\n<!-- 6 -->\n<g id=\"node14\" class=\"node\">\n<title>6</title>\n<ellipse fill=\"none\" stroke=\"black\" cx=\"956\" cy=\"-392.98\" rx=\"27\" ry=\"18\"/>\n<text text-anchor=\"middle\" x=\"956\" y=\"-389.28\" font-family=\"Times,serif\" font-size=\"14.00\">6</text>\n</g>\n<!-- 0&#45;&#45;6 -->\n<g id=\"edge4\" class=\"edge\">\n<title>0&#45;&#45;6</title>\n<path fill=\"none\" stroke=\"black\" d=\"M857.57,-599.76C873.1,-590.77 896.52,-574.96 910,-554.98 940.89,-509.2 951.27,-442.69 954.56,-411.44\"/>\n</g>\n<!-- 7 -->\n<g id=\"node15\" class=\"node\">\n<title>7</title>\n<ellipse fill=\"none\" stroke=\"black\" cx=\"600\" cy=\"-319.48\" rx=\"27\" ry=\"18\"/>\n<text text-anchor=\"middle\" x=\"600\" y=\"-315.78\" font-family=\"Times,serif\" font-size=\"14.00\">7</text>\n</g>\n<!-- 0&#45;&#45;7 -->\n<g id=\"edge5\" class=\"edge\">\n<title>0&#45;&#45;7</title>\n<path fill=\"none\" stroke=\"black\" d=\"M828.31,-597.04C815.48,-586.61 795.95,-570.27 780,-554.98 748.45,-524.73 740.44,-517.01 713,-482.98 671.59,-431.62 628.73,-365.9 609.89,-336.24\"/>\n</g>\n<!-- 14 -->\n<g id=\"node5\" class=\"node\">\n<title>14</title>\n<ellipse fill=\"none\" stroke=\"blue\" cx=\"490\" cy=\"-169.49\" rx=\"19.5\" ry=\"19.5\"/>\n<text text-anchor=\"middle\" x=\"490\" y=\"-165.79\" font-family=\"Times,serif\" font-size=\"14.00\">14</text>\n</g>\n<!-- 11&#45;&#45;14 -->\n<g id=\"edge58\" class=\"edge\">\n<title>11&#45;&#45;14</title>\n<path fill=\"none\" stroke=\"black\" d=\"M526.8,-227.65C518.92,-215.4 508.06,-198.54 500.18,-186.3\"/>\n</g>\n<!-- 16 -->\n<g id=\"node7\" class=\"node\">\n<title>16</title>\n<ellipse fill=\"none\" stroke=\"blue\" cx=\"228\" cy=\"-169.49\" rx=\"19.5\" ry=\"19.5\"/>\n<text text-anchor=\"middle\" x=\"228\" y=\"-165.79\" font-family=\"Times,serif\" font-size=\"14.00\">16</text>\n</g>\n<!-- 11&#45;&#45;16 -->\n<g id=\"edge59\" class=\"edge\">\n<title>11&#45;&#45;16</title>\n<path fill=\"none\" stroke=\"black\" d=\"M518.14,-239.03C462.97,-226 302.36,-188.06 247.01,-174.98\"/>\n</g>\n<!-- 19 -->\n<g id=\"node10\" class=\"node\">\n<title>19</title>\n<ellipse fill=\"none\" stroke=\"blue\" cx=\"731\" cy=\"-169.49\" rx=\"19.5\" ry=\"19.5\"/>\n<text text-anchor=\"middle\" x=\"731\" y=\"-165.79\" font-family=\"Times,serif\" font-size=\"14.00\">19</text>\n</g>\n<!-- 11&#45;&#45;19 -->\n<g id=\"edge60\" class=\"edge\">\n<title>11&#45;&#45;19</title>\n<path fill=\"none\" stroke=\"black\" d=\"M554.9,-236.75C591.77,-222.88 675.79,-191.26 712.86,-177.32\"/>\n</g>\n<!-- 12&#45;&#45;14 -->\n<g id=\"edge61\" class=\"edge\">\n<title>12&#45;&#45;14</title>\n<path fill=\"none\" stroke=\"black\" d=\"M843.99,-239.77C780,-227.25 572.9,-186.71 508.97,-174.2\"/>\n</g>\n<!-- 18 -->\n<g id=\"node9\" class=\"node\">\n<title>18</title>\n<ellipse fill=\"none\" stroke=\"blue\" cx=\"298\" cy=\"-19.5\" rx=\"19.5\" ry=\"19.5\"/>\n<text text-anchor=\"middle\" x=\"298\" y=\"-15.8\" font-family=\"Times,serif\" font-size=\"14.00\">18</text>\n</g>\n<!-- 12&#45;&#45;18 -->\n<g id=\"edge62\" class=\"edge\">\n<title>12&#45;&#45;18</title>\n<path fill=\"none\" stroke=\"black\" d=\"M862.8,-224.95C861.33,-189.51 852.62,-112.37 806,-75 767.16,-43.86 405.77,-25.42 317.42,-21.36\"/>\n</g>\n<!-- 13 -->\n<g id=\"node4\" class=\"node\">\n<title>13</title>\n<ellipse fill=\"none\" stroke=\"blue\" cx=\"740\" cy=\"-319.48\" rx=\"19.5\" ry=\"19.5\"/>\n<text text-anchor=\"middle\" x=\"740\" y=\"-315.78\" font-family=\"Times,serif\" font-size=\"14.00\">13</text>\n</g>\n<!-- 13&#45;&#45;14 -->\n<g id=\"edge63\" class=\"edge\">\n<title>13&#45;&#45;14</title>\n<path fill=\"none\" stroke=\"black\" d=\"M722.73,-309.98C702.62,-299.84 668.61,-281.99 641,-263.99 617.1,-248.4 613.93,-240.53 590,-224.99 562.14,-206.9 527.78,-189.08 507.45,-178.97\"/>\n</g>\n<!-- 13&#45;&#45;15 -->\n<g id=\"edge64\" class=\"edge\">\n<title>13&#45;&#45;15</title>\n<path fill=\"none\" stroke=\"black\" d=\"M726.65,-304.75C713.95,-291.7 694.97,-272.19 682.29,-259.16\"/>\n</g>\n<!-- 13&#45;&#45;19 -->\n<g id=\"edge65\" class=\"edge\">\n<title>13&#45;&#45;19</title>\n<path fill=\"none\" stroke=\"black\" d=\"M738.86,-299.74C737.13,-271.27 733.86,-217.46 732.13,-189.08\"/>\n</g>\n<!-- 14&#45;&#45;18 -->\n<g id=\"edge66\" class=\"edge\">\n<title>14&#45;&#45;18</title>\n<path fill=\"none\" stroke=\"black\" d=\"M474.93,-156.88C439.04,-129.21 348.82,-59.67 313,-32.06\"/>\n</g>\n<!-- 17 -->\n<g id=\"node8\" class=\"node\">\n<title>17</title>\n<ellipse fill=\"none\" stroke=\"blue\" cx=\"298\" cy=\"-94.49\" rx=\"19.5\" ry=\"19.5\"/>\n<text text-anchor=\"middle\" x=\"298\" y=\"-90.79\" font-family=\"Times,serif\" font-size=\"14.00\">17</text>\n</g>\n<!-- 15&#45;&#45;17 -->\n<g id=\"edge67\" class=\"edge\">\n<title>15&#45;&#45;17</title>\n<path fill=\"none\" stroke=\"black\" d=\"M654.01,-231.96C627.82,-212.37 571.42,-172.49 518,-149.99 447.1,-120.13 356.19,-104.1 317.18,-98.18\"/>\n</g>\n<!-- 15&#45;&#45;18 -->\n<g id=\"edge68\" class=\"edge\">\n<title>15&#45;&#45;18</title>\n<path fill=\"none\" stroke=\"black\" d=\"M656.54,-229.38C638.64,-209.72 603.95,-173.84 569,-149.99 481.13,-90.04 361.22,-43.41 316.13,-26.94\"/>\n</g>\n<!-- 15&#45;&#45;19 -->\n<g id=\"edge69\" class=\"edge\">\n<title>15&#45;&#45;19</title>\n<path fill=\"none\" stroke=\"black\" d=\"M681.25,-229.07C692.12,-216.27 707.91,-197.67 718.78,-184.88\"/>\n</g>\n<!-- 16&#45;&#45;17 -->\n<g id=\"edge70\" class=\"edge\">\n<title>16&#45;&#45;17</title>\n<path fill=\"none\" stroke=\"black\" d=\"M241.17,-154.76C253.68,-141.71 272.4,-122.19 284.89,-109.16\"/>\n</g>\n<!-- 16&#45;&#45;18 -->\n<g id=\"edge71\" class=\"edge\">\n<title>16&#45;&#45;18</title>\n<path fill=\"none\" stroke=\"black\" d=\"M235.47,-151.13C243.67,-132.27 257.35,-101.29 270,-75 276.18,-62.15 283.56,-47.82 289.19,-37.08\"/>\n</g>\n<!-- 17&#45;&#45;18 -->\n<g id=\"edge72\" class=\"edge\">\n<title>17&#45;&#45;18</title>\n<path fill=\"none\" stroke=\"black\" d=\"M298,-74.7C298,-63.8 298,-50.12 298,-39.23\"/>\n</g>\n<!-- 1&#45;&#45;12 -->\n<g id=\"edge10\" class=\"edge\">\n<title>1&#45;&#45;12</title>\n<path fill=\"none\" stroke=\"black\" d=\"M875.81,-519.01C879.63,-480.09 887.3,-381.49 877,-299.99 875.43,-287.58 871.93,-273.96 868.82,-263.43\"/>\n</g>\n<!-- 1&#45;&#45;13 -->\n<g id=\"edge11\" class=\"edge\">\n<title>1&#45;&#45;13</title>\n<path fill=\"none\" stroke=\"black\" d=\"M864.15,-520.14C839.37,-480.28 774.66,-376.23 749.87,-336.35\"/>\n</g>\n<!-- 1&#45;&#45;17 -->\n<g id=\"edge12\" class=\"edge\">\n<title>1&#45;&#45;17</title>\n<path fill=\"none\" stroke=\"black\" d=\"M897.44,-527.63C918.59,-519.12 949.45,-504.16 970,-482.98 995.06,-457.17 998.54,-445.95 1007,-410.98 1027.27,-327.2 1016.78,-281.87 952,-224.99 882.85,-164.27 848.3,-172.24 759,-149.99 591.65,-108.3 381.94,-98.23 317.64,-96.05\"/>\n</g>\n<!-- 1&#45;&#45;19 -->\n<g id=\"edge13\" class=\"edge\">\n<title>1&#45;&#45;19</title>\n<path fill=\"none\" stroke=\"black\" d=\"M892.39,-523.67C920.2,-503.8 971.83,-461.73 992,-410.98 997.91,-396.11 995.38,-390.62 992,-374.98 976.38,-302.7 976.97,-272.13 920,-224.99 869.22,-182.97 787.58,-173.33 750.48,-171.13\"/>\n</g>\n<!-- 1&#45;&#45;3 -->\n<g id=\"edge9\" class=\"edge\">\n<title>1&#45;&#45;3</title>\n<path fill=\"none\" stroke=\"black\" d=\"M853.92,-524.74C830.59,-511.67 792.34,-490.25 769.03,-477.2\"/>\n</g>\n<!-- 2&#45;&#45;12 -->\n<g id=\"edge17\" class=\"edge\">\n<title>2&#45;&#45;12</title>\n<path fill=\"none\" stroke=\"black\" d=\"M485.98,-535.02C555.66,-532.01 739.38,-520.61 785,-482.98 853.13,-426.79 862.23,-309.86 863.1,-264.27\"/>\n</g>\n<!-- 2&#45;&#45;13 -->\n<g id=\"edge18\" class=\"edge\">\n<title>2&#45;&#45;13</title>\n<path fill=\"none\" stroke=\"black\" d=\"M482.49,-527.74C506.44,-518.75 544.07,-502.92 573,-482.98 638.62,-437.76 702.14,-365.91 727.93,-335.19\"/>\n</g>\n<!-- 2&#45;&#45;14 -->\n<g id=\"edge19\" class=\"edge\">\n<title>2&#45;&#45;14</title>\n<path fill=\"none\" stroke=\"black\" d=\"M446.51,-520.98C416.91,-483.49 347.16,-382.8 378,-299.99 388.22,-272.55 449.03,-210.66 476.52,-183.58\"/>\n</g>\n<!-- 2&#45;&#45;17 -->\n<g id=\"edge20\" class=\"edge\">\n<title>2&#45;&#45;17</title>\n<path fill=\"none\" stroke=\"black\" d=\"M432.98,-532.14C346.77,-518.67 76,-470.31 76,-393.98 76,-393.98 76,-393.98 76,-318.48 76,-230.72 113.35,-208.25 179,-149.99 208.91,-123.45 253.94,-107.64 279.16,-100.36\"/>\n</g>\n<!-- 2&#45;&#45;18 -->\n<g id=\"edge21\" class=\"edge\">\n<title>2&#45;&#45;18</title>\n<path fill=\"none\" stroke=\"black\" d=\"M431.88,-536.08C372.81,-535.37 229.07,-528.66 120,-482.98 58.75,-457.33 0,-460.38 0,-393.98 0,-393.98 0,-393.98 0,-168.49 0,-120.94 13.88,-103.42 52,-75 122.32,-22.58 233.39,-18.84 278.24,-19.68\"/>\n</g>\n<!-- 2&#45;&#45;19 -->\n<g id=\"edge22\" class=\"edge\">\n<title>2&#45;&#45;19</title>\n<path fill=\"none\" stroke=\"black\" d=\"M476.13,-522.81C513.62,-493.28 604.14,-418.17 661,-338.98 682.56,-308.95 682.66,-298.07 697,-263.99 707.92,-238.04 718.71,-207.23 725.12,-188.27\"/>\n</g>\n<!-- 2&#45;&#45;3 -->\n<g id=\"edge14\" class=\"edge\">\n<title>2&#45;&#45;3</title>\n<path fill=\"none\" stroke=\"black\" d=\"M483.98,-529.95C538.79,-516.72 669.12,-485.26 723.98,-472.02\"/>\n</g>\n<!-- 5 -->\n<g id=\"node16\" class=\"node\">\n<title>5</title>\n<ellipse fill=\"none\" stroke=\"black\" cx=\"266\" cy=\"-392.98\" rx=\"27\" ry=\"18\"/>\n<text text-anchor=\"middle\" x=\"266\" y=\"-389.28\" font-family=\"Times,serif\" font-size=\"14.00\">5</text>\n</g>\n<!-- 2&#45;&#45;5 -->\n<g id=\"edge15\" class=\"edge\">\n<title>2&#45;&#45;5</title>\n<path fill=\"none\" stroke=\"black\" d=\"M435.2,-528.17C411.01,-519.52 373.19,-503.97 345,-482.98 316.5,-461.76 290.63,-428.88 276.73,-409.59\"/>\n</g>\n<!-- 9 -->\n<g id=\"node17\" class=\"node\">\n<title>9</title>\n<ellipse fill=\"none\" stroke=\"black\" cx=\"321\" cy=\"-244.49\" rx=\"27\" ry=\"18\"/>\n<text text-anchor=\"middle\" x=\"321\" y=\"-240.79\" font-family=\"Times,serif\" font-size=\"14.00\">9</text>\n</g>\n<!-- 2&#45;&#45;9 -->\n<g id=\"edge16\" class=\"edge\">\n<title>2&#45;&#45;9</title>\n<path fill=\"none\" stroke=\"black\" d=\"M432.85,-532.08C380.42,-522.59 264.53,-492.77 230,-410.98 210.81,-365.54 205.68,-342.9 230,-299.99 244.16,-274.99 274.86,-260.22 296.68,-252.5\"/>\n</g>\n<!-- 3&#45;&#45;11 -->\n<g id=\"edge25\" class=\"edge\">\n<title>3&#45;&#45;11</title>\n<path fill=\"none\" stroke=\"black\" d=\"M726.47,-454.95C687.39,-438.13 607.09,-398.23 564,-338.98 547.6,-316.44 541.13,-284.12 538.59,-263.98\"/>\n</g>\n<!-- 3&#45;&#45;12 -->\n<g id=\"edge26\" class=\"edge\">\n<title>3&#45;&#45;12</title>\n<path fill=\"none\" stroke=\"black\" d=\"M757.57,-447.56C778.7,-407.07 833.1,-302.79 854.33,-262.1\"/>\n</g>\n<!-- 3&#45;&#45;13 -->\n<g id=\"edge27\" class=\"edge\">\n<title>3&#45;&#45;13</title>\n<path fill=\"none\" stroke=\"black\" d=\"M743.32,-447.02C740.18,-436.73 736.59,-423.25 735,-410.98 731.78,-386.17 734.49,-357.27 737,-338.93\"/>\n</g>\n<!-- 3&#45;&#45;18 -->\n<g id=\"edge28\" class=\"edge\">\n<title>3&#45;&#45;18</title>\n<path fill=\"none\" stroke=\"black\" d=\"M752.36,-446.74C763.43,-387.86 795.97,-195.85 759,-149.99 701.15,-78.23 397.62,-33.63 317.44,-22.98\"/>\n</g>\n<!-- 3&#45;&#45;6 -->\n<g id=\"edge24\" class=\"edge\">\n<title>3&#45;&#45;6</title>\n<path fill=\"none\" stroke=\"black\" d=\"M772.75,-455.95C812.68,-442.45 892.79,-415.36 932.53,-401.92\"/>\n</g>\n<!-- 4 -->\n<g id=\"node18\" class=\"node\">\n<title>4</title>\n<ellipse fill=\"none\" stroke=\"black\" cx=\"504\" cy=\"-392.98\" rx=\"27\" ry=\"18\"/>\n<text text-anchor=\"middle\" x=\"504\" y=\"-389.28\" font-family=\"Times,serif\" font-size=\"14.00\">4</text>\n</g>\n<!-- 3&#45;&#45;4 -->\n<g id=\"edge23\" class=\"edge\">\n<title>3&#45;&#45;4</title>\n<path fill=\"none\" stroke=\"black\" d=\"M724.61,-457.01C677.65,-443.6 575.17,-414.32 528.29,-400.92\"/>\n</g>\n<!-- 6&#45;&#45;12 -->\n<g id=\"edge40\" class=\"edge\">\n<title>6&#45;&#45;12</title>\n<path fill=\"none\" stroke=\"black\" d=\"M950.48,-375.15C943.75,-356 931.26,-324.24 915,-299.99 904.37,-284.13 888.95,-268.63 877.66,-258.24\"/>\n</g>\n<!-- 6&#45;&#45;19 -->\n<g id=\"edge41\" class=\"edge\">\n<title>6&#45;&#45;19</title>\n<path fill=\"none\" stroke=\"black\" d=\"M954.87,-374.96C951.6,-340.51 938.99,-262.61 891,-224.99 847.93,-191.22 782.7,-177.73 750.45,-172.89\"/>\n</g>\n<!-- 6&#45;&#45;7 -->\n<g id=\"edge39\" class=\"edge\">\n<title>6&#45;&#45;7</title>\n<path fill=\"none\" stroke=\"black\" d=\"M930.4,-386.84C864.87,-373.68 691.64,-338.89 625.85,-325.68\"/>\n</g>\n<!-- 7&#45;&#45;11 -->\n<g id=\"edge43\" class=\"edge\">\n<title>7&#45;&#45;11</title>\n<path fill=\"none\" stroke=\"black\" d=\"M586.95,-303.36C575.99,-290.66 560.44,-272.64 549.61,-260.1\"/>\n</g>\n<!-- 7&#45;&#45;12 -->\n<g id=\"edge44\" class=\"edge\">\n<title>7&#45;&#45;12</title>\n<path fill=\"none\" stroke=\"black\" d=\"M624.74,-311.62C677.04,-297.1 797.82,-263.58 844.3,-250.68\"/>\n</g>\n<!-- 7&#45;&#45;14 -->\n<g id=\"edge45\" class=\"edge\">\n<title>7&#45;&#45;14</title>\n<path fill=\"none\" stroke=\"black\" d=\"M596.76,-301.51C592.31,-281.58 582.73,-248.3 565,-224.99 549.41,-204.49 524.01,-188.33 507.15,-179.09\"/>\n</g>\n<!-- 7&#45;&#45;9 -->\n<g id=\"edge42\" class=\"edge\">\n<title>7&#45;&#45;9</title>\n<path fill=\"none\" stroke=\"black\" d=\"M575.24,-312.01C522.3,-298.15 398.6,-265.79 345.7,-251.95\"/>\n</g>\n<!-- 5&#45;&#45;11 -->\n<g id=\"edge35\" class=\"edge\">\n<title>5&#45;&#45;11</title>\n<path fill=\"none\" stroke=\"black\" d=\"M292.48,-388.89C329.93,-383.56 399.44,-370.04 450,-338.98 467.57,-328.19 505.53,-283.72 524.98,-260.22\"/>\n</g>\n<!-- 5&#45;&#45;16 -->\n<g id=\"edge36\" class=\"edge\">\n<title>5&#45;&#45;16</title>\n<path fill=\"none\" stroke=\"black\" d=\"M252.31,-377.03C244.12,-367.06 234.47,-353.2 230,-338.98 213.57,-286.65 220.13,-220.59 224.82,-188.99\"/>\n</g>\n<!-- 5&#45;&#45;17 -->\n<g id=\"edge37\" class=\"edge\">\n<title>5&#45;&#45;17</title>\n<path fill=\"none\" stroke=\"black\" d=\"M249.34,-378.52C238.5,-368.75 225.11,-354.57 218,-338.98 183,-262.21 157.23,-222.72 200,-149.99 217.07,-120.96 255.83,-106.28 279.16,-99.81\"/>\n</g>\n<!-- 5&#45;&#45;18 -->\n<g id=\"edge38\" class=\"edge\">\n<title>5&#45;&#45;18</title>\n<path fill=\"none\" stroke=\"black\" d=\"M239.85,-387.86C179.96,-376.79 38,-340.53 38,-245.49 38,-245.49 38,-245.49 38,-168.49 38,-57.86 217.99,-28.87 278.46,-22.26\"/>\n</g>\n<!-- 5&#45;&#45;9 -->\n<g id=\"edge33\" class=\"edge\">\n<title>5&#45;&#45;9</title>\n<path fill=\"none\" stroke=\"black\" d=\"M278.79,-376.7C286.62,-366.6 296.22,-352.72 302,-338.98 312.67,-313.64 317.49,-281.85 319.56,-262.63\"/>\n</g>\n<!-- 10 -->\n<g id=\"node20\" class=\"node\">\n<title>10</title>\n<ellipse fill=\"none\" stroke=\"black\" cx=\"266\" cy=\"-319.48\" rx=\"27\" ry=\"18\"/>\n<text text-anchor=\"middle\" x=\"266\" y=\"-315.78\" font-family=\"Times,serif\" font-size=\"14.00\">10</text>\n</g>\n<!-- 5&#45;&#45;10 -->\n<g id=\"edge34\" class=\"edge\">\n<title>5&#45;&#45;10</title>\n<path fill=\"none\" stroke=\"black\" d=\"M266,-374.67C266,-363.43 266,-348.84 266,-337.63\"/>\n</g>\n<!-- 9&#45;&#45;14 -->\n<g id=\"edge50\" class=\"edge\">\n<title>9&#45;&#45;14</title>\n<path fill=\"none\" stroke=\"black\" d=\"M342.67,-233.61C348.89,-230.8 355.71,-227.75 362,-224.99 401.15,-207.82 447.35,-188.34 472.14,-177.95\"/>\n</g>\n<!-- 9&#45;&#45;16 -->\n<g id=\"edge51\" class=\"edge\">\n<title>9&#45;&#45;16</title>\n<path fill=\"none\" stroke=\"black\" d=\"M303.94,-230.1C286.53,-216.43 259.77,-195.43 243.1,-182.35\"/>\n</g>\n<!-- 9&#45;&#45;17 -->\n<g id=\"edge52\" class=\"edge\">\n<title>9&#45;&#45;17</title>\n<path fill=\"none\" stroke=\"black\" d=\"M318.36,-226.51C314.02,-198.57 305.4,-143.11 300.9,-114.13\"/>\n</g>\n<!-- 4&#45;&#45;15 -->\n<g id=\"edge32\" class=\"edge\">\n<title>4&#45;&#45;15</title>\n<path fill=\"none\" stroke=\"black\" d=\"M526.53,-382.56C532.52,-380.08 539,-377.41 545,-374.98 585.31,-358.65 605.83,-370.31 636,-338.98 655.94,-318.28 663.91,-284.8 667.04,-264.02\"/>\n</g>\n<!-- 4&#45;&#45;7 -->\n<g id=\"edge29\" class=\"edge\">\n<title>4&#45;&#45;7</title>\n<path fill=\"none\" stroke=\"black\" d=\"M521.61,-378.87C538.93,-365.97 565.22,-346.39 582.5,-333.52\"/>\n</g>\n<!-- 8 -->\n<g id=\"node19\" class=\"node\">\n<title>8</title>\n<ellipse fill=\"none\" stroke=\"black\" cx=\"414\" cy=\"-319.48\" rx=\"27\" ry=\"18\"/>\n<text text-anchor=\"middle\" x=\"414\" y=\"-315.78\" font-family=\"Times,serif\" font-size=\"14.00\">8</text>\n</g>\n<!-- 4&#45;&#45;8 -->\n<g id=\"edge30\" class=\"edge\">\n<title>4&#45;&#45;8</title>\n<path fill=\"none\" stroke=\"black\" d=\"M487.07,-378.53C470.98,-365.75 446.92,-346.64 430.85,-333.87\"/>\n</g>\n<!-- 4&#45;&#45;10 -->\n<g id=\"edge31\" class=\"edge\">\n<title>4&#45;&#45;10</title>\n<path fill=\"none\" stroke=\"black\" d=\"M479.87,-384.73C434.25,-371.03 335.86,-341.47 290.19,-327.75\"/>\n</g>\n<!-- 8&#45;&#45;14 -->\n<g id=\"edge47\" class=\"edge\">\n<title>8&#45;&#45;14</title>\n<path fill=\"none\" stroke=\"black\" d=\"M430.88,-304.92C442.4,-294.79 457.12,-280 466,-263.99 479.25,-240.1 485.36,-208.73 488.05,-189.09\"/>\n</g>\n<!-- 8&#45;&#45;15 -->\n<g id=\"edge48\" class=\"edge\">\n<title>8&#45;&#45;15</title>\n<path fill=\"none\" stroke=\"black\" d=\"M438.45,-311.49C489.19,-296.96 604.94,-263.82 650.29,-250.84\"/>\n</g>\n<!-- 8&#45;&#45;17 -->\n<g id=\"edge49\" class=\"edge\">\n<title>8&#45;&#45;17</title>\n<path fill=\"none\" stroke=\"black\" d=\"M405.47,-302.09C384.07,-260.95 328.28,-153.7 306.7,-112.22\"/>\n</g>\n<!-- 8&#45;&#45;9 -->\n<g id=\"edge46\" class=\"edge\">\n<title>8&#45;&#45;9</title>\n<path fill=\"none\" stroke=\"black\" d=\"M396.94,-305.1C380.16,-291.92 354.69,-271.93 337.95,-258.79\"/>\n</g>\n<!-- 10&#45;&#45;12 -->\n<g id=\"edge53\" class=\"edge\">\n<title>10&#45;&#45;12</title>\n<path fill=\"none\" stroke=\"black\" d=\"M291.74,-313.84C314.41,-309.85 348.33,-304.1 378,-299.99 389.79,-298.35 754.7,-257.58 843.61,-247.65\"/>\n</g>\n<!-- 10&#45;&#45;14 -->\n<g id=\"edge54\" class=\"edge\">\n<title>10&#45;&#45;14</title>\n<path fill=\"none\" stroke=\"black\" d=\"M285.78,-307.2C304.39,-296.45 332.91,-279.64 357,-263.99 400.55,-235.69 450.2,-199.77 474.69,-181.8\"/>\n</g>\n<!-- 10&#45;&#45;16 -->\n<g id=\"edge55\" class=\"edge\">\n<title>10&#45;&#45;16</title>\n<path fill=\"none\" stroke=\"black\" d=\"M261.64,-301.51C254.43,-273.42 240.07,-217.5 232.66,-188.65\"/>\n</g>\n<!-- 10&#45;&#45;17 -->\n<g id=\"edge56\" class=\"edge\">\n<title>10&#45;&#45;17</title>\n<path fill=\"none\" stroke=\"black\" d=\"M268.46,-301.36C274.36,-260.26 289.27,-156.32 295.36,-113.92\"/>\n</g>\n<!-- 10&#45;&#45;18 -->\n<g id=\"edge57\" class=\"edge\">\n<title>10&#45;&#45;18</title>\n<path fill=\"none\" stroke=\"black\" d=\"M252.83,-303.45C229,-274.36 182.7,-208.11 200,-149.99 214.96,-99.73 259.92,-54.15 283.38,-32.98\"/>\n</g>\n</g>\n</svg>\n",
            "text/plain": [
              "<graphviz.graphs.Graph at 0x7ecfc33b5c50>"
            ]
          },
          "metadata": {}
        }
      ]
    },
    {
      "cell_type": "markdown",
      "source": [
        "## LEF DEF Parsing\n",
        "\n",
        "- Install the LEFDEFParser from the the wheel file : [LEFDEFParser-0.1-cp310-cp310-linux_x86_64.whl](https://github.com/srini229/EE5333_tutorials/blob/master/parser/LEFDEFParser-0.1-cp310-cp310-linux_x86_64.whl)\n",
        "- Download example LEF and DEF files: [Nangate.lef](https://github.com/srini229/EE5333_tutorials/blob/master/parser/Nangate.lef) and [example.def](https://github.com/srini229/EE5333_tutorials/blob/master/parser/example.def)\n",
        "\n",
        "    <img src=\"https://raw.githubusercontent.com/srini229/EE5333_tutorials/master/part/fig/example_cir.png\" width=340 height=195 />\n",
        "\n"
      ],
      "metadata": {
        "id": "9b8l7WIsKTOC"
      }
    },
    {
      "cell_type": "code",
      "source": [
        "!pip install --break-system-packages https://raw.githubusercontent.com/srini229/EE5333_tutorials/master/parser/LEFDEFParser-0.1-cp311-cp311-linux_x86_64.whl\n",
        "!rm *.{lef,def}\n",
        "!wget https://raw.githubusercontent.com/srini229/EE5333_tutorials/master/parser/{Nangate.lef,example.def}\n",
        "!wget https://raw.githubusercontent.com/srini229/EE5333_tutorials/master/parser/sample.{lef,def}"
      ],
      "metadata": {
        "id": "yZMKB51YKRme",
        "outputId": "f9663587-2524-46ce-dbb2-c141585d5c69",
        "colab": {
          "base_uri": "https://localhost:8080/"
        }
      },
      "execution_count": null,
      "outputs": [
        {
          "output_type": "stream",
          "name": "stdout",
          "text": [
            "Collecting LEFDEFParser==0.1\n",
            "  Downloading https://raw.githubusercontent.com/srini229/EE5333_tutorials/master/parser/LEFDEFParser-0.1-cp310-cp310-linux_x86_64.whl (562 kB)\n",
            "\u001b[2K     \u001b[90m━━━━━━━━━━━━━━━━━━━━━━━━━━━━━━━━━━━━━━━━\u001b[0m \u001b[32m562.0/562.0 kB\u001b[0m \u001b[31m6.3 MB/s\u001b[0m eta \u001b[36m0:00:00\u001b[0m\n",
            "\u001b[?25hInstalling collected packages: LEFDEFParser\n",
            "Successfully installed LEFDEFParser-0.1\n",
            "--2024-01-25 10:43:01--  https://raw.githubusercontent.com/srini229/EE5333_tutorials/master/parser/example.def\n",
            "Resolving raw.githubusercontent.com (raw.githubusercontent.com)... 185.199.108.133, 185.199.109.133, 185.199.110.133, ...\n",
            "Connecting to raw.githubusercontent.com (raw.githubusercontent.com)|185.199.108.133|:443... connected.\n",
            "HTTP request sent, awaiting response... 200 OK\n",
            "Length: 899 [text/plain]\n",
            "Saving to: ‘example.def.2’\n",
            "\n",
            "example.def.2       100%[===================>]     899  --.-KB/s    in 0s      \n",
            "\n",
            "2024-01-25 10:43:01 (27.8 MB/s) - ‘example.def.2’ saved [899/899]\n",
            "\n",
            "VERSION 5.8 ;\n",
            "DIVIDERCHAR \"/\" ;\n",
            "BUSBITCHARS \"[]\" ;\n",
            "DESIGN example ;\n",
            "UNITS DISTANCE MICRONS 2000 ;\n",
            "\n",
            "DIEAREA ( 83600 71820 ) ( 104400 91200 ) ;\n",
            "\n",
            "COMPONENTS 6 ;\n",
            "- a NAND2_X1 ;\n",
            "- b NAND2_X1 ;\n",
            "- c NAND2_X1 ;\n",
            "- d NAND2_X1 ;\n",
            "- e NAND2_X1 ;\n",
            "- f INV_X1 ;\n",
            "END COMPONENTS\n",
            "\n",
            "PINS 0 ;\n",
            "- n1 + NET n1 + DIRECTION INPUT ;\n",
            "- n2 + NET n2 + DIRECTION INPUT ;\n",
            "- n3 + NET n3 + DIRECTION INPUT ;\n",
            "- n4 + NET n4 + DIRECTION INPUT ;\n",
            "- n5 + NET n5 + DIRECTION INPUT ;\n",
            "- n10 + NET n10 + DIRECTION OUTPUT ;\n",
            "- n11 + NET n11 + DIRECTION OUTPUT ;\n",
            "END PINS\n",
            "\n",
            "NETS 11 ;\n",
            "- n1\n",
            "  ( PIN n1 ) ( a A1 )\n",
            " ;\n",
            "- n2\n",
            "  ( PIN n2 ) ( a A2 ) ( b A1 )\n",
            " ;\n",
            "- n3\n",
            "  ( PIN n3 ) ( b A2 )\n",
            " ;\n",
            "- n4\n",
            "  ( PIN n4 ) ( c A2 )\n",
            " ;\n",
            "- n5\n",
            "  ( PIN n5 ) ( d A2 )\n",
            " ;\n",
            "- n6\n",
            "  ( a ZN ) ( e A1 )\n",
            " ;\n",
            "- n7\n",
            "  ( b ZN ) ( c A1 ) ( d A1 )\n",
            " ;\n",
            "- n8\n",
            "  ( c ZN ) ( e A2 )\n",
            " ;\n",
            "- n9\n",
            "  ( d ZN ) ( f A )\n",
            " ;\n",
            "- n10\n",
            "  ( e ZN ) ( PIN n10 )\n",
            " ;\n",
            "- n11\n",
            "  ( f ZN ) ( PIN n11 )\n",
            " ;\n",
            "END NETS\n",
            "\n",
            "END DESIGN\n"
          ]
        }
      ]
    },
    {
      "cell_type": "code",
      "source": [
        "V,E = loadNetlist('Nangate.lef', 'example.def')\n",
        "Atotal = sum(V[u]._area for u in V)\n",
        "maxCellArea = max(V[u]._area for u in V)\n",
        "print(Atotal, round(maxCellArea,2))"
      ],
      "metadata": {
        "id": "sdy6ddx9cSRO"
      },
      "execution_count": null,
      "outputs": []
    },
    {
      "cell_type": "code",
      "source": [
        "V,E = loadNetlist('sample.lef', 'sample.def')\n",
        "Atotal = sum(V[u]._area for u in V)\n",
        "maxCellArea = max(V[u]._area for u in V)\n",
        "print(Atotal, round(maxCellArea,2))"
      ],
      "metadata": {
        "id": "4a6bTl_XcaPD"
      },
      "execution_count": null,
      "outputs": []
    }
  ]
}